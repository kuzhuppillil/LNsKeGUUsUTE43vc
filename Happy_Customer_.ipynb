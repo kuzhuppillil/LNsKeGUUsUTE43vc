{
  "cells": [
    {
      "cell_type": "markdown",
      "metadata": {
        "id": "view-in-github",
        "colab_type": "text"
      },
      "source": [
        "<a href=\"https://colab.research.google.com/github/kuzhuppillil/LNsKeGUUsUTE43vc/blob/main/Happy_Customer_.ipynb\" target=\"_parent\"><img src=\"https://colab.research.google.com/assets/colab-badge.svg\" alt=\"Open In Colab\"/></a>"
      ]
    },
    {
      "cell_type": "code",
      "execution_count": 54,
      "metadata": {
        "id": "7507b40f"
      },
      "outputs": [],
      "source": [
        "import pandas as pd\n",
        "import numpy as np\n",
        "import matplotlib.pyplot as plt\n",
        "import seaborn as sns\n",
        "\n",
        "from sklearn.model_selection import train_test_split\n",
        "from sklearn.linear_model import LogisticRegression\n",
        "from sklearn.neighbors import KNeighborsClassifier\n",
        "from sklearn.tree import DecisionTreeClassifier\n",
        "from sklearn.ensemble import RandomForestClassifier\n",
        "from sklearn.naive_bayes import GaussianNB\n",
        "from xgboost import XGBClassifier\n",
        "from lightgbm import LGBMClassifier\n",
        "from sklearn.svm import SVC\n",
        "\n",
        "from sklearn.metrics import classification_report\n",
        "from sklearn.preprocessing import StandardScaler\n",
        "from sklearn.metrics import accuracy_score\n",
        "from sklearn.metrics import f1_score\n",
        "from sklearn.metrics import confusion_matrix\n",
        "\n",
        "from sklearn.model_selection import KFold\n",
        "from sklearn.model_selection import StratifiedKFold\n",
        "from sklearn.model_selection import cross_val_score\n",
        "\n",
        "#import warnings\n",
        "#warnings.filterwarnings(\"ignore\")\n",
        "\n",
        "from sklearn.model_selection import GridSearchCV\n",
        "\n",
        "from functools import partial\n",
        "\n",
        "from hyperopt import hp, fmin, tpe, Trials\n",
        "from hyperopt.pyll.base import scope\n",
        "\n",
        "\n",
        "import optuna"
      ],
      "id": "7507b40f"
    },
    {
      "cell_type": "code",
      "source": [
        "!pip install optuna"
      ],
      "metadata": {
        "colab": {
          "base_uri": "https://localhost:8080/"
        },
        "id": "dOc0WlAgNiTG",
        "outputId": "6ea81cbb-c0c7-4da8-f987-e4e99bb05c96"
      },
      "id": "dOc0WlAgNiTG",
      "execution_count": 2,
      "outputs": [
        {
          "output_type": "stream",
          "name": "stdout",
          "text": [
            "Collecting optuna\n",
            "  Downloading optuna-3.3.0-py3-none-any.whl (404 kB)\n",
            "\u001b[2K     \u001b[90m━━━━━━━━━━━━━━━━━━━━━━━━━━━━━━━━━━━━━━━\u001b[0m \u001b[32m404.2/404.2 kB\u001b[0m \u001b[31m4.6 MB/s\u001b[0m eta \u001b[36m0:00:00\u001b[0m\n",
            "\u001b[?25hCollecting alembic>=1.5.0 (from optuna)\n",
            "  Downloading alembic-1.11.3-py3-none-any.whl (225 kB)\n",
            "\u001b[2K     \u001b[90m━━━━━━━━━━━━━━━━━━━━━━━━━━━━━━━━━━━━━━\u001b[0m \u001b[32m225.4/225.4 kB\u001b[0m \u001b[31m15.6 MB/s\u001b[0m eta \u001b[36m0:00:00\u001b[0m\n",
            "\u001b[?25hCollecting cmaes>=0.10.0 (from optuna)\n",
            "  Downloading cmaes-0.10.0-py3-none-any.whl (29 kB)\n",
            "Collecting colorlog (from optuna)\n",
            "  Downloading colorlog-6.7.0-py2.py3-none-any.whl (11 kB)\n",
            "Requirement already satisfied: numpy in /usr/local/lib/python3.10/dist-packages (from optuna) (1.25.2)\n",
            "Requirement already satisfied: packaging>=20.0 in /usr/local/lib/python3.10/dist-packages (from optuna) (23.1)\n",
            "Requirement already satisfied: sqlalchemy>=1.3.0 in /usr/local/lib/python3.10/dist-packages (from optuna) (2.0.19)\n",
            "Requirement already satisfied: tqdm in /usr/local/lib/python3.10/dist-packages (from optuna) (4.66.1)\n",
            "Requirement already satisfied: PyYAML in /usr/local/lib/python3.10/dist-packages (from optuna) (6.0.1)\n",
            "Collecting Mako (from alembic>=1.5.0->optuna)\n",
            "  Downloading Mako-1.2.4-py3-none-any.whl (78 kB)\n",
            "\u001b[2K     \u001b[90m━━━━━━━━━━━━━━━━━━━━━━━━━━━━━━━━━━━━━━━━\u001b[0m \u001b[32m78.7/78.7 kB\u001b[0m \u001b[31m4.1 MB/s\u001b[0m eta \u001b[36m0:00:00\u001b[0m\n",
            "\u001b[?25hRequirement already satisfied: typing-extensions>=4 in /usr/local/lib/python3.10/dist-packages (from alembic>=1.5.0->optuna) (4.7.1)\n",
            "Requirement already satisfied: greenlet!=0.4.17 in /usr/local/lib/python3.10/dist-packages (from sqlalchemy>=1.3.0->optuna) (2.0.2)\n",
            "Requirement already satisfied: MarkupSafe>=0.9.2 in /usr/local/lib/python3.10/dist-packages (from Mako->alembic>=1.5.0->optuna) (2.1.3)\n",
            "Installing collected packages: Mako, colorlog, cmaes, alembic, optuna\n",
            "Successfully installed Mako-1.2.4 alembic-1.11.3 cmaes-0.10.0 colorlog-6.7.0 optuna-3.3.0\n"
          ]
        }
      ]
    },
    {
      "cell_type": "code",
      "source": [
        "from google.colab import drive\n",
        "drive.mount('/content/drive')"
      ],
      "metadata": {
        "colab": {
          "base_uri": "https://localhost:8080/"
        },
        "id": "J7-2PpmwndnS",
        "outputId": "492077bf-099b-46f7-9665-826763e8f529"
      },
      "id": "J7-2PpmwndnS",
      "execution_count": 4,
      "outputs": [
        {
          "output_type": "stream",
          "name": "stdout",
          "text": [
            "Mounted at /content/drive\n"
          ]
        }
      ]
    },
    {
      "cell_type": "code",
      "execution_count": 5,
      "metadata": {
        "colab": {
          "base_uri": "https://localhost:8080/",
          "height": 300
        },
        "id": "45469d3c",
        "outputId": "de6fb0f5-e70b-4c60-ab21-3b1a60677020"
      },
      "outputs": [
        {
          "output_type": "execute_result",
          "data": {
            "text/plain": [
              "                Y          X1          X2          X3          X4          X5  \\\n",
              "count  126.000000  126.000000  126.000000  126.000000  126.000000  126.000000   \n",
              "mean     0.547619    4.333333    2.531746    3.309524    3.746032    3.650794   \n",
              "std      0.499714    0.800000    1.114892    1.023440    0.875776    1.147641   \n",
              "min      0.000000    1.000000    1.000000    1.000000    1.000000    1.000000   \n",
              "25%      0.000000    4.000000    2.000000    3.000000    3.000000    3.000000   \n",
              "50%      1.000000    5.000000    3.000000    3.000000    4.000000    4.000000   \n",
              "75%      1.000000    5.000000    3.000000    4.000000    4.000000    4.000000   \n",
              "max      1.000000    5.000000    5.000000    5.000000    5.000000    5.000000   \n",
              "\n",
              "               X6  \n",
              "count  126.000000  \n",
              "mean     4.253968  \n",
              "std      0.809311  \n",
              "min      1.000000  \n",
              "25%      4.000000  \n",
              "50%      4.000000  \n",
              "75%      5.000000  \n",
              "max      5.000000  "
            ],
            "text/html": [
              "\n",
              "\n",
              "  <div id=\"df-1baca719-33d6-41f9-b002-c81feba3df76\">\n",
              "    <div class=\"colab-df-container\">\n",
              "      <div>\n",
              "<style scoped>\n",
              "    .dataframe tbody tr th:only-of-type {\n",
              "        vertical-align: middle;\n",
              "    }\n",
              "\n",
              "    .dataframe tbody tr th {\n",
              "        vertical-align: top;\n",
              "    }\n",
              "\n",
              "    .dataframe thead th {\n",
              "        text-align: right;\n",
              "    }\n",
              "</style>\n",
              "<table border=\"1\" class=\"dataframe\">\n",
              "  <thead>\n",
              "    <tr style=\"text-align: right;\">\n",
              "      <th></th>\n",
              "      <th>Y</th>\n",
              "      <th>X1</th>\n",
              "      <th>X2</th>\n",
              "      <th>X3</th>\n",
              "      <th>X4</th>\n",
              "      <th>X5</th>\n",
              "      <th>X6</th>\n",
              "    </tr>\n",
              "  </thead>\n",
              "  <tbody>\n",
              "    <tr>\n",
              "      <th>count</th>\n",
              "      <td>126.000000</td>\n",
              "      <td>126.000000</td>\n",
              "      <td>126.000000</td>\n",
              "      <td>126.000000</td>\n",
              "      <td>126.000000</td>\n",
              "      <td>126.000000</td>\n",
              "      <td>126.000000</td>\n",
              "    </tr>\n",
              "    <tr>\n",
              "      <th>mean</th>\n",
              "      <td>0.547619</td>\n",
              "      <td>4.333333</td>\n",
              "      <td>2.531746</td>\n",
              "      <td>3.309524</td>\n",
              "      <td>3.746032</td>\n",
              "      <td>3.650794</td>\n",
              "      <td>4.253968</td>\n",
              "    </tr>\n",
              "    <tr>\n",
              "      <th>std</th>\n",
              "      <td>0.499714</td>\n",
              "      <td>0.800000</td>\n",
              "      <td>1.114892</td>\n",
              "      <td>1.023440</td>\n",
              "      <td>0.875776</td>\n",
              "      <td>1.147641</td>\n",
              "      <td>0.809311</td>\n",
              "    </tr>\n",
              "    <tr>\n",
              "      <th>min</th>\n",
              "      <td>0.000000</td>\n",
              "      <td>1.000000</td>\n",
              "      <td>1.000000</td>\n",
              "      <td>1.000000</td>\n",
              "      <td>1.000000</td>\n",
              "      <td>1.000000</td>\n",
              "      <td>1.000000</td>\n",
              "    </tr>\n",
              "    <tr>\n",
              "      <th>25%</th>\n",
              "      <td>0.000000</td>\n",
              "      <td>4.000000</td>\n",
              "      <td>2.000000</td>\n",
              "      <td>3.000000</td>\n",
              "      <td>3.000000</td>\n",
              "      <td>3.000000</td>\n",
              "      <td>4.000000</td>\n",
              "    </tr>\n",
              "    <tr>\n",
              "      <th>50%</th>\n",
              "      <td>1.000000</td>\n",
              "      <td>5.000000</td>\n",
              "      <td>3.000000</td>\n",
              "      <td>3.000000</td>\n",
              "      <td>4.000000</td>\n",
              "      <td>4.000000</td>\n",
              "      <td>4.000000</td>\n",
              "    </tr>\n",
              "    <tr>\n",
              "      <th>75%</th>\n",
              "      <td>1.000000</td>\n",
              "      <td>5.000000</td>\n",
              "      <td>3.000000</td>\n",
              "      <td>4.000000</td>\n",
              "      <td>4.000000</td>\n",
              "      <td>4.000000</td>\n",
              "      <td>5.000000</td>\n",
              "    </tr>\n",
              "    <tr>\n",
              "      <th>max</th>\n",
              "      <td>1.000000</td>\n",
              "      <td>5.000000</td>\n",
              "      <td>5.000000</td>\n",
              "      <td>5.000000</td>\n",
              "      <td>5.000000</td>\n",
              "      <td>5.000000</td>\n",
              "      <td>5.000000</td>\n",
              "    </tr>\n",
              "  </tbody>\n",
              "</table>\n",
              "</div>\n",
              "      <button class=\"colab-df-convert\" onclick=\"convertToInteractive('df-1baca719-33d6-41f9-b002-c81feba3df76')\"\n",
              "              title=\"Convert this dataframe to an interactive table.\"\n",
              "              style=\"display:none;\">\n",
              "\n",
              "  <svg xmlns=\"http://www.w3.org/2000/svg\" height=\"24px\"viewBox=\"0 0 24 24\"\n",
              "       width=\"24px\">\n",
              "    <path d=\"M0 0h24v24H0V0z\" fill=\"none\"/>\n",
              "    <path d=\"M18.56 5.44l.94 2.06.94-2.06 2.06-.94-2.06-.94-.94-2.06-.94 2.06-2.06.94zm-11 1L8.5 8.5l.94-2.06 2.06-.94-2.06-.94L8.5 2.5l-.94 2.06-2.06.94zm10 10l.94 2.06.94-2.06 2.06-.94-2.06-.94-.94-2.06-.94 2.06-2.06.94z\"/><path d=\"M17.41 7.96l-1.37-1.37c-.4-.4-.92-.59-1.43-.59-.52 0-1.04.2-1.43.59L10.3 9.45l-7.72 7.72c-.78.78-.78 2.05 0 2.83L4 21.41c.39.39.9.59 1.41.59.51 0 1.02-.2 1.41-.59l7.78-7.78 2.81-2.81c.8-.78.8-2.07 0-2.86zM5.41 20L4 18.59l7.72-7.72 1.47 1.35L5.41 20z\"/>\n",
              "  </svg>\n",
              "      </button>\n",
              "\n",
              "\n",
              "\n",
              "    <div id=\"df-f72bd41d-6978-412f-b466-1ad8c7d87f27\">\n",
              "      <button class=\"colab-df-quickchart\" onclick=\"quickchart('df-f72bd41d-6978-412f-b466-1ad8c7d87f27')\"\n",
              "              title=\"Suggest charts.\"\n",
              "              style=\"display:none;\">\n",
              "\n",
              "<svg xmlns=\"http://www.w3.org/2000/svg\" height=\"24px\"viewBox=\"0 0 24 24\"\n",
              "     width=\"24px\">\n",
              "    <g>\n",
              "        <path d=\"M19 3H5c-1.1 0-2 .9-2 2v14c0 1.1.9 2 2 2h14c1.1 0 2-.9 2-2V5c0-1.1-.9-2-2-2zM9 17H7v-7h2v7zm4 0h-2V7h2v10zm4 0h-2v-4h2v4z\"/>\n",
              "    </g>\n",
              "</svg>\n",
              "      </button>\n",
              "    </div>\n",
              "\n",
              "<style>\n",
              "  .colab-df-quickchart {\n",
              "    background-color: #E8F0FE;\n",
              "    border: none;\n",
              "    border-radius: 50%;\n",
              "    cursor: pointer;\n",
              "    display: none;\n",
              "    fill: #1967D2;\n",
              "    height: 32px;\n",
              "    padding: 0 0 0 0;\n",
              "    width: 32px;\n",
              "  }\n",
              "\n",
              "  .colab-df-quickchart:hover {\n",
              "    background-color: #E2EBFA;\n",
              "    box-shadow: 0px 1px 2px rgba(60, 64, 67, 0.3), 0px 1px 3px 1px rgba(60, 64, 67, 0.15);\n",
              "    fill: #174EA6;\n",
              "  }\n",
              "\n",
              "  [theme=dark] .colab-df-quickchart {\n",
              "    background-color: #3B4455;\n",
              "    fill: #D2E3FC;\n",
              "  }\n",
              "\n",
              "  [theme=dark] .colab-df-quickchart:hover {\n",
              "    background-color: #434B5C;\n",
              "    box-shadow: 0px 1px 3px 1px rgba(0, 0, 0, 0.15);\n",
              "    filter: drop-shadow(0px 1px 2px rgba(0, 0, 0, 0.3));\n",
              "    fill: #FFFFFF;\n",
              "  }\n",
              "</style>\n",
              "\n",
              "    <script>\n",
              "      async function quickchart(key) {\n",
              "        const containerElement = document.querySelector('#' + key);\n",
              "        const charts = await google.colab.kernel.invokeFunction(\n",
              "            'suggestCharts', [key], {});\n",
              "      }\n",
              "    </script>\n",
              "\n",
              "\n",
              "      <script>\n",
              "\n",
              "function displayQuickchartButton(domScope) {\n",
              "  let quickchartButtonEl =\n",
              "    domScope.querySelector('#df-f72bd41d-6978-412f-b466-1ad8c7d87f27 button.colab-df-quickchart');\n",
              "  quickchartButtonEl.style.display =\n",
              "    google.colab.kernel.accessAllowed ? 'block' : 'none';\n",
              "}\n",
              "\n",
              "        displayQuickchartButton(document);\n",
              "      </script>\n",
              "      <style>\n",
              "    .colab-df-container {\n",
              "      display:flex;\n",
              "      flex-wrap:wrap;\n",
              "      gap: 12px;\n",
              "    }\n",
              "\n",
              "    .colab-df-convert {\n",
              "      background-color: #E8F0FE;\n",
              "      border: none;\n",
              "      border-radius: 50%;\n",
              "      cursor: pointer;\n",
              "      display: none;\n",
              "      fill: #1967D2;\n",
              "      height: 32px;\n",
              "      padding: 0 0 0 0;\n",
              "      width: 32px;\n",
              "    }\n",
              "\n",
              "    .colab-df-convert:hover {\n",
              "      background-color: #E2EBFA;\n",
              "      box-shadow: 0px 1px 2px rgba(60, 64, 67, 0.3), 0px 1px 3px 1px rgba(60, 64, 67, 0.15);\n",
              "      fill: #174EA6;\n",
              "    }\n",
              "\n",
              "    [theme=dark] .colab-df-convert {\n",
              "      background-color: #3B4455;\n",
              "      fill: #D2E3FC;\n",
              "    }\n",
              "\n",
              "    [theme=dark] .colab-df-convert:hover {\n",
              "      background-color: #434B5C;\n",
              "      box-shadow: 0px 1px 3px 1px rgba(0, 0, 0, 0.15);\n",
              "      filter: drop-shadow(0px 1px 2px rgba(0, 0, 0, 0.3));\n",
              "      fill: #FFFFFF;\n",
              "    }\n",
              "  </style>\n",
              "\n",
              "      <script>\n",
              "        const buttonEl =\n",
              "          document.querySelector('#df-1baca719-33d6-41f9-b002-c81feba3df76 button.colab-df-convert');\n",
              "        buttonEl.style.display =\n",
              "          google.colab.kernel.accessAllowed ? 'block' : 'none';\n",
              "\n",
              "        async function convertToInteractive(key) {\n",
              "          const element = document.querySelector('#df-1baca719-33d6-41f9-b002-c81feba3df76');\n",
              "          const dataTable =\n",
              "            await google.colab.kernel.invokeFunction('convertToInteractive',\n",
              "                                                     [key], {});\n",
              "          if (!dataTable) return;\n",
              "\n",
              "          const docLinkHtml = 'Like what you see? Visit the ' +\n",
              "            '<a target=\"_blank\" href=https://colab.research.google.com/notebooks/data_table.ipynb>data table notebook</a>'\n",
              "            + ' to learn more about interactive tables.';\n",
              "          element.innerHTML = '';\n",
              "          dataTable['output_type'] = 'display_data';\n",
              "          await google.colab.output.renderOutput(dataTable, element);\n",
              "          const docLink = document.createElement('div');\n",
              "          docLink.innerHTML = docLinkHtml;\n",
              "          element.appendChild(docLink);\n",
              "        }\n",
              "      </script>\n",
              "    </div>\n",
              "  </div>\n"
            ]
          },
          "metadata": {},
          "execution_count": 5
        }
      ],
      "source": [
        "df = pd.read_csv(\"/content/drive/Othercomputers/My Laptop/Apziva Projects/Happy Customers/ACME-HappinessSurvey2020.csv\")\n",
        "df.describe(include='all')"
      ],
      "id": "45469d3c"
    },
    {
      "cell_type": "code",
      "execution_count": 6,
      "metadata": {
        "id": "fe498667",
        "outputId": "31c47a80-a066-4d69-80c3-b9e226bde71b",
        "colab": {
          "base_uri": "https://localhost:8080/"
        }
      },
      "outputs": [
        {
          "output_type": "stream",
          "name": "stdout",
          "text": [
            "<class 'pandas.core.frame.DataFrame'>\n",
            "RangeIndex: 126 entries, 0 to 125\n",
            "Data columns (total 7 columns):\n",
            " #   Column  Non-Null Count  Dtype\n",
            "---  ------  --------------  -----\n",
            " 0   Y       126 non-null    int64\n",
            " 1   X1      126 non-null    int64\n",
            " 2   X2      126 non-null    int64\n",
            " 3   X3      126 non-null    int64\n",
            " 4   X4      126 non-null    int64\n",
            " 5   X5      126 non-null    int64\n",
            " 6   X6      126 non-null    int64\n",
            "dtypes: int64(7)\n",
            "memory usage: 7.0 KB\n"
          ]
        }
      ],
      "source": [
        "df.info()"
      ],
      "id": "fe498667"
    },
    {
      "cell_type": "markdown",
      "metadata": {
        "id": "b3c0a10a"
      },
      "source": [
        "Observations:\n",
        "\n",
        "The dataset does not contain any null values and outliers.\n"
      ],
      "id": "b3c0a10a"
    },
    {
      "cell_type": "code",
      "execution_count": 7,
      "metadata": {
        "id": "14c13e14",
        "outputId": "5274ebcf-c94f-4b8f-b54b-416864ad3880",
        "colab": {
          "base_uri": "https://localhost:8080/"
        }
      },
      "outputs": [
        {
          "output_type": "execute_result",
          "data": {
            "text/plain": [
              "110"
            ]
          },
          "metadata": {},
          "execution_count": 7
        }
      ],
      "source": [
        "len(df.drop_duplicates())"
      ],
      "id": "14c13e14"
    },
    {
      "cell_type": "markdown",
      "metadata": {
        "id": "48bffdd5"
      },
      "source": [
        "Observations:\n",
        "\n",
        "There are 16 duplicates present in the dataset which need to be removed."
      ],
      "id": "48bffdd5"
    },
    {
      "cell_type": "code",
      "execution_count": 8,
      "metadata": {
        "id": "c739834c",
        "outputId": "66288f58-d5df-42df-80dd-fb46d67e844d",
        "colab": {
          "base_uri": "https://localhost:8080/",
          "height": 424
        }
      },
      "outputs": [
        {
          "output_type": "execute_result",
          "data": {
            "text/plain": [
              "     Y  X1  X2  X3  X4  X5  X6\n",
              "0    0   3   3   3   4   2   4\n",
              "1    0   3   2   3   5   4   3\n",
              "2    1   5   3   3   3   3   5\n",
              "3    0   5   4   3   3   3   5\n",
              "4    1   5   5   3   5   5   5\n",
              "..  ..  ..  ..  ..  ..  ..  ..\n",
              "105  0   4   4   4   4   1   3\n",
              "106  1   5   2   3   4   4   3\n",
              "107  1   5   2   3   4   2   5\n",
              "108  0   4   3   3   4   4   5\n",
              "109  0   5   3   2   5   5   5\n",
              "\n",
              "[110 rows x 7 columns]"
            ],
            "text/html": [
              "\n",
              "\n",
              "  <div id=\"df-311529ee-0e2e-458e-bf1b-c9afb1924d1f\">\n",
              "    <div class=\"colab-df-container\">\n",
              "      <div>\n",
              "<style scoped>\n",
              "    .dataframe tbody tr th:only-of-type {\n",
              "        vertical-align: middle;\n",
              "    }\n",
              "\n",
              "    .dataframe tbody tr th {\n",
              "        vertical-align: top;\n",
              "    }\n",
              "\n",
              "    .dataframe thead th {\n",
              "        text-align: right;\n",
              "    }\n",
              "</style>\n",
              "<table border=\"1\" class=\"dataframe\">\n",
              "  <thead>\n",
              "    <tr style=\"text-align: right;\">\n",
              "      <th></th>\n",
              "      <th>Y</th>\n",
              "      <th>X1</th>\n",
              "      <th>X2</th>\n",
              "      <th>X3</th>\n",
              "      <th>X4</th>\n",
              "      <th>X5</th>\n",
              "      <th>X6</th>\n",
              "    </tr>\n",
              "  </thead>\n",
              "  <tbody>\n",
              "    <tr>\n",
              "      <th>0</th>\n",
              "      <td>0</td>\n",
              "      <td>3</td>\n",
              "      <td>3</td>\n",
              "      <td>3</td>\n",
              "      <td>4</td>\n",
              "      <td>2</td>\n",
              "      <td>4</td>\n",
              "    </tr>\n",
              "    <tr>\n",
              "      <th>1</th>\n",
              "      <td>0</td>\n",
              "      <td>3</td>\n",
              "      <td>2</td>\n",
              "      <td>3</td>\n",
              "      <td>5</td>\n",
              "      <td>4</td>\n",
              "      <td>3</td>\n",
              "    </tr>\n",
              "    <tr>\n",
              "      <th>2</th>\n",
              "      <td>1</td>\n",
              "      <td>5</td>\n",
              "      <td>3</td>\n",
              "      <td>3</td>\n",
              "      <td>3</td>\n",
              "      <td>3</td>\n",
              "      <td>5</td>\n",
              "    </tr>\n",
              "    <tr>\n",
              "      <th>3</th>\n",
              "      <td>0</td>\n",
              "      <td>5</td>\n",
              "      <td>4</td>\n",
              "      <td>3</td>\n",
              "      <td>3</td>\n",
              "      <td>3</td>\n",
              "      <td>5</td>\n",
              "    </tr>\n",
              "    <tr>\n",
              "      <th>4</th>\n",
              "      <td>1</td>\n",
              "      <td>5</td>\n",
              "      <td>5</td>\n",
              "      <td>3</td>\n",
              "      <td>5</td>\n",
              "      <td>5</td>\n",
              "      <td>5</td>\n",
              "    </tr>\n",
              "    <tr>\n",
              "      <th>...</th>\n",
              "      <td>...</td>\n",
              "      <td>...</td>\n",
              "      <td>...</td>\n",
              "      <td>...</td>\n",
              "      <td>...</td>\n",
              "      <td>...</td>\n",
              "      <td>...</td>\n",
              "    </tr>\n",
              "    <tr>\n",
              "      <th>105</th>\n",
              "      <td>0</td>\n",
              "      <td>4</td>\n",
              "      <td>4</td>\n",
              "      <td>4</td>\n",
              "      <td>4</td>\n",
              "      <td>1</td>\n",
              "      <td>3</td>\n",
              "    </tr>\n",
              "    <tr>\n",
              "      <th>106</th>\n",
              "      <td>1</td>\n",
              "      <td>5</td>\n",
              "      <td>2</td>\n",
              "      <td>3</td>\n",
              "      <td>4</td>\n",
              "      <td>4</td>\n",
              "      <td>3</td>\n",
              "    </tr>\n",
              "    <tr>\n",
              "      <th>107</th>\n",
              "      <td>1</td>\n",
              "      <td>5</td>\n",
              "      <td>2</td>\n",
              "      <td>3</td>\n",
              "      <td>4</td>\n",
              "      <td>2</td>\n",
              "      <td>5</td>\n",
              "    </tr>\n",
              "    <tr>\n",
              "      <th>108</th>\n",
              "      <td>0</td>\n",
              "      <td>4</td>\n",
              "      <td>3</td>\n",
              "      <td>3</td>\n",
              "      <td>4</td>\n",
              "      <td>4</td>\n",
              "      <td>5</td>\n",
              "    </tr>\n",
              "    <tr>\n",
              "      <th>109</th>\n",
              "      <td>0</td>\n",
              "      <td>5</td>\n",
              "      <td>3</td>\n",
              "      <td>2</td>\n",
              "      <td>5</td>\n",
              "      <td>5</td>\n",
              "      <td>5</td>\n",
              "    </tr>\n",
              "  </tbody>\n",
              "</table>\n",
              "<p>110 rows × 7 columns</p>\n",
              "</div>\n",
              "      <button class=\"colab-df-convert\" onclick=\"convertToInteractive('df-311529ee-0e2e-458e-bf1b-c9afb1924d1f')\"\n",
              "              title=\"Convert this dataframe to an interactive table.\"\n",
              "              style=\"display:none;\">\n",
              "\n",
              "  <svg xmlns=\"http://www.w3.org/2000/svg\" height=\"24px\"viewBox=\"0 0 24 24\"\n",
              "       width=\"24px\">\n",
              "    <path d=\"M0 0h24v24H0V0z\" fill=\"none\"/>\n",
              "    <path d=\"M18.56 5.44l.94 2.06.94-2.06 2.06-.94-2.06-.94-.94-2.06-.94 2.06-2.06.94zm-11 1L8.5 8.5l.94-2.06 2.06-.94-2.06-.94L8.5 2.5l-.94 2.06-2.06.94zm10 10l.94 2.06.94-2.06 2.06-.94-2.06-.94-.94-2.06-.94 2.06-2.06.94z\"/><path d=\"M17.41 7.96l-1.37-1.37c-.4-.4-.92-.59-1.43-.59-.52 0-1.04.2-1.43.59L10.3 9.45l-7.72 7.72c-.78.78-.78 2.05 0 2.83L4 21.41c.39.39.9.59 1.41.59.51 0 1.02-.2 1.41-.59l7.78-7.78 2.81-2.81c.8-.78.8-2.07 0-2.86zM5.41 20L4 18.59l7.72-7.72 1.47 1.35L5.41 20z\"/>\n",
              "  </svg>\n",
              "      </button>\n",
              "\n",
              "\n",
              "\n",
              "    <div id=\"df-7c7f48a2-8c07-42ba-906b-58266e010eca\">\n",
              "      <button class=\"colab-df-quickchart\" onclick=\"quickchart('df-7c7f48a2-8c07-42ba-906b-58266e010eca')\"\n",
              "              title=\"Suggest charts.\"\n",
              "              style=\"display:none;\">\n",
              "\n",
              "<svg xmlns=\"http://www.w3.org/2000/svg\" height=\"24px\"viewBox=\"0 0 24 24\"\n",
              "     width=\"24px\">\n",
              "    <g>\n",
              "        <path d=\"M19 3H5c-1.1 0-2 .9-2 2v14c0 1.1.9 2 2 2h14c1.1 0 2-.9 2-2V5c0-1.1-.9-2-2-2zM9 17H7v-7h2v7zm4 0h-2V7h2v10zm4 0h-2v-4h2v4z\"/>\n",
              "    </g>\n",
              "</svg>\n",
              "      </button>\n",
              "    </div>\n",
              "\n",
              "<style>\n",
              "  .colab-df-quickchart {\n",
              "    background-color: #E8F0FE;\n",
              "    border: none;\n",
              "    border-radius: 50%;\n",
              "    cursor: pointer;\n",
              "    display: none;\n",
              "    fill: #1967D2;\n",
              "    height: 32px;\n",
              "    padding: 0 0 0 0;\n",
              "    width: 32px;\n",
              "  }\n",
              "\n",
              "  .colab-df-quickchart:hover {\n",
              "    background-color: #E2EBFA;\n",
              "    box-shadow: 0px 1px 2px rgba(60, 64, 67, 0.3), 0px 1px 3px 1px rgba(60, 64, 67, 0.15);\n",
              "    fill: #174EA6;\n",
              "  }\n",
              "\n",
              "  [theme=dark] .colab-df-quickchart {\n",
              "    background-color: #3B4455;\n",
              "    fill: #D2E3FC;\n",
              "  }\n",
              "\n",
              "  [theme=dark] .colab-df-quickchart:hover {\n",
              "    background-color: #434B5C;\n",
              "    box-shadow: 0px 1px 3px 1px rgba(0, 0, 0, 0.15);\n",
              "    filter: drop-shadow(0px 1px 2px rgba(0, 0, 0, 0.3));\n",
              "    fill: #FFFFFF;\n",
              "  }\n",
              "</style>\n",
              "\n",
              "    <script>\n",
              "      async function quickchart(key) {\n",
              "        const containerElement = document.querySelector('#' + key);\n",
              "        const charts = await google.colab.kernel.invokeFunction(\n",
              "            'suggestCharts', [key], {});\n",
              "      }\n",
              "    </script>\n",
              "\n",
              "\n",
              "      <script>\n",
              "\n",
              "function displayQuickchartButton(domScope) {\n",
              "  let quickchartButtonEl =\n",
              "    domScope.querySelector('#df-7c7f48a2-8c07-42ba-906b-58266e010eca button.colab-df-quickchart');\n",
              "  quickchartButtonEl.style.display =\n",
              "    google.colab.kernel.accessAllowed ? 'block' : 'none';\n",
              "}\n",
              "\n",
              "        displayQuickchartButton(document);\n",
              "      </script>\n",
              "      <style>\n",
              "    .colab-df-container {\n",
              "      display:flex;\n",
              "      flex-wrap:wrap;\n",
              "      gap: 12px;\n",
              "    }\n",
              "\n",
              "    .colab-df-convert {\n",
              "      background-color: #E8F0FE;\n",
              "      border: none;\n",
              "      border-radius: 50%;\n",
              "      cursor: pointer;\n",
              "      display: none;\n",
              "      fill: #1967D2;\n",
              "      height: 32px;\n",
              "      padding: 0 0 0 0;\n",
              "      width: 32px;\n",
              "    }\n",
              "\n",
              "    .colab-df-convert:hover {\n",
              "      background-color: #E2EBFA;\n",
              "      box-shadow: 0px 1px 2px rgba(60, 64, 67, 0.3), 0px 1px 3px 1px rgba(60, 64, 67, 0.15);\n",
              "      fill: #174EA6;\n",
              "    }\n",
              "\n",
              "    [theme=dark] .colab-df-convert {\n",
              "      background-color: #3B4455;\n",
              "      fill: #D2E3FC;\n",
              "    }\n",
              "\n",
              "    [theme=dark] .colab-df-convert:hover {\n",
              "      background-color: #434B5C;\n",
              "      box-shadow: 0px 1px 3px 1px rgba(0, 0, 0, 0.15);\n",
              "      filter: drop-shadow(0px 1px 2px rgba(0, 0, 0, 0.3));\n",
              "      fill: #FFFFFF;\n",
              "    }\n",
              "  </style>\n",
              "\n",
              "      <script>\n",
              "        const buttonEl =\n",
              "          document.querySelector('#df-311529ee-0e2e-458e-bf1b-c9afb1924d1f button.colab-df-convert');\n",
              "        buttonEl.style.display =\n",
              "          google.colab.kernel.accessAllowed ? 'block' : 'none';\n",
              "\n",
              "        async function convertToInteractive(key) {\n",
              "          const element = document.querySelector('#df-311529ee-0e2e-458e-bf1b-c9afb1924d1f');\n",
              "          const dataTable =\n",
              "            await google.colab.kernel.invokeFunction('convertToInteractive',\n",
              "                                                     [key], {});\n",
              "          if (!dataTable) return;\n",
              "\n",
              "          const docLinkHtml = 'Like what you see? Visit the ' +\n",
              "            '<a target=\"_blank\" href=https://colab.research.google.com/notebooks/data_table.ipynb>data table notebook</a>'\n",
              "            + ' to learn more about interactive tables.';\n",
              "          element.innerHTML = '';\n",
              "          dataTable['output_type'] = 'display_data';\n",
              "          await google.colab.output.renderOutput(dataTable, element);\n",
              "          const docLink = document.createElement('div');\n",
              "          docLink.innerHTML = docLinkHtml;\n",
              "          element.appendChild(docLink);\n",
              "        }\n",
              "      </script>\n",
              "    </div>\n",
              "  </div>\n"
            ]
          },
          "metadata": {},
          "execution_count": 8
        }
      ],
      "source": [
        "df.drop_duplicates(inplace = True)\n",
        "df.reset_index(drop= True, inplace = True)\n",
        "df"
      ],
      "id": "c739834c"
    },
    {
      "cell_type": "markdown",
      "metadata": {
        "id": "4fe67927"
      },
      "source": [
        "# EDA"
      ],
      "id": "4fe67927"
    },
    {
      "cell_type": "code",
      "source": [
        "for label in df.columns:\n",
        "  plt.hist(df[df[\"Y\"]==1][label], color='blue', label ='Happy', alpha = 0.7, density =True)\n",
        "  plt.hist(df[df[\"Y\"]==0][label], color='red', label ='Unhappy', alpha = 0.7, density =True)\n",
        "  plt.title(label)\n",
        "  plt.ylabel(\"Count\")\n",
        "  plt.xlabel(label)\n",
        "  plt.legend()\n",
        "  plt.show()"
      ],
      "metadata": {
        "colab": {
          "base_uri": "https://localhost:8080/",
          "height": 1000
        },
        "id": "-Dvqy0qyBMS2",
        "outputId": "acce7db1-7fd4-4767-9280-6675542bf1ac"
      },
      "id": "-Dvqy0qyBMS2",
      "execution_count": 23,
      "outputs": [
        {
          "output_type": "display_data",
          "data": {
            "text/plain": [
              "<Figure size 640x480 with 1 Axes>"
            ],
            "image/png": "[encoded data removed]"
          },
          "metadata": {}
        },
        {
          "output_type": "display_data",
          "data": {
            "text/plain": [
              "<Figure size 640x480 with 1 Axes>"
            ],
            "image/png": "[encoded data removed]"
          },
          "metadata": {}
        },
        {
          "output_type": "display_data",
          "data": {
            "text/plain": [
              "<Figure size 640x480 with 1 Axes>"
            ],
            "image/png": "[encoded data removed]"
          },
          "metadata": {}
        },
        {
          "output_type": "display_data",
          "data": {
            "text/plain": [
              "<Figure size 640x480 with 1 Axes>"
            ],
            "image/png": "[encoded data removed]"
          },
          "metadata": {}
        },
        {
          "output_type": "display_data",
          "data": {
            "text/plain": [
              "<Figure size 640x480 with 1 Axes>"
            ],
            "image/png": "[encoded data removed]"
          },
          "metadata": {}
        },
        {
          "output_type": "display_data",
          "data": {
            "text/plain": [
              "<Figure size 640x480 with 1 Axes>"
            ],
            "image/png": "[encoded data removed]"
          },
          "metadata": {}
        },
        {
          "output_type": "display_data",
          "data": {
            "text/plain": [
              "<Figure size 640x480 with 1 Axes>"
            ],
            "image/png": "[encoded data removed]"
          },
          "metadata": {}
        }
      ]
    },
    {
      "cell_type": "markdown",
      "source": [
        "**Data Description:**\n",
        "\n",
        "\tAttributes X1 to X6 indicate the responses for each question and have values from 1 to 5 where the smaller number indicates less and the higher number indicates more towards the answer.\n",
        "\n",
        "\t\tY = target attribute (Y) with values indicating 0 (unhappy) and 1 (happy) customers (Target Variable - Happiness Index)\n",
        "\t\tX1 = my order was delivered on time  (Delivery Time)\n",
        "\t\tX2 = contents of my order was as I expected (Product Quality)\n",
        "\t\tX3 = I ordered everything I wanted to order (Product Availability)\n",
        "\t\tX4 = I paid a good price for my order (Order Pricing)\n",
        "\t\tX5 = I am satisfied with my courier (Courier Feedback)\n",
        "        X6 = the app makes ordering easy for me (Application Feedback)\n",
        "      "
      ],
      "metadata": {
        "id": "aDACCq2yEMX1"
      },
      "id": "aDACCq2yEMX1"
    },
    {
      "cell_type": "code",
      "execution_count": null,
      "metadata": {
        "id": "4d0026f3",
        "outputId": "3cb0bde7-3254-41ff-faab-8066b1498d9e",
        "colab": {
          "base_uri": "https://localhost:8080/",
          "height": 468
        }
      },
      "outputs": [
        {
          "output_type": "display_data",
          "data": {
            "text/plain": [
              "<Figure size 1000x500 with 2 Axes>"
            ],
            "image/png": "[encoded data removed]"
          },
          "metadata": {}
        }
      ],
      "source": [
        "#checking correlation strengh\n",
        "plt.figure(figsize=(10,5))\n",
        "sns.heatmap(df.corr(), cmap=\"coolwarm\" , annot = True )\n",
        "plt.title(\"Correlation Heatmap\")\n",
        "plt.show()"
      ],
      "id": "4d0026f3"
    },
    {
      "cell_type": "markdown",
      "metadata": {
        "id": "adeb724b"
      },
      "source": [],
      "id": "adeb724b"
    },
    {
      "cell_type": "markdown",
      "metadata": {
        "id": "559a36bf"
      },
      "source": [
        "X1 (Delivery time) and X5 (Courier feedback) shows a stronger correlation in comparison to the remaining features.\n",
        "\n",
        "X2 (Product Quality) and X4 (Order pricing) shows the least correlation for predicting customer satisfaction.\n",
        "\n",
        "\n",
        "Multivariate:\n",
        "\n",
        "Correlation between Y and other Attributes:\n",
        "\n",
        "\t• The highest positive correlation with the target variable Y is observed for X1 (Delivery Time) with a correlation coefficient of 0.286.\n",
        "\t• X5 (Courier Feedback) and X6 (Application Feedback) also show low positive correlations with the target Y, with coefficients of 0.213 and 0.137 respectively.\n",
        "\t• Among the attributes, X2 (Product Quality) has the lowest negative correlation (close to zero) with the target Y.\n",
        "    • The other attributes (X3, X4) also show low positive correlations with the target.\n",
        "    \n",
        "    \n",
        "Correlation between Attributes Themselves:\n",
        "\n",
        "\t• There is a moderate positive correlation between X1 (Delivery Time) and X6 (Application Feedback), suggesting that customers who rate delivery time positively are likely to find the app easy to use for ordering.\n",
        "\t• X1 (Delivery Time) has a negligible positive correlation with X2 (Product Quality) and X4 (Order Pricing), indicating that customers satisfied with delivery time might also perceive better product quality and pricing.\n",
        "\t• X2 (Product Quality) and X5 (Courier Feedback) have a negligible positive correlation, suggesting that customers who are satisfied with product quality might also have positive feedback about couriers.\n",
        "\t• X4 (Order Pricing) and X5 (Courier Feedback) have a weak positive correlation, indicating that customers satisfied with pricing might also have positive feedback about couriers.\n",
        "    •X4 (Order Pricing) and X6 (Application Feedback) have a weak positive correlation, suggesting that customers who consider pricing as good might also find the app easy to use.\n",
        "    \n",
        "    Note: Except for X1 and X2, the coorelation between the other attributes are extremely weak so their dependencies cannot be guaranteed."
      ],
      "id": "559a36bf"
    },
    {
      "cell_type": "code",
      "execution_count": 22,
      "metadata": {
        "id": "0e494015"
      },
      "outputs": [],
      "source": [
        "#plt.figure(figsize=(7,7))\n",
        "#sns.pairplot(df)\n",
        "#plt.show()\n"
      ],
      "id": "0e494015"
    },
    {
      "cell_type": "code",
      "execution_count": null,
      "metadata": {
        "id": "a6f17fd3",
        "outputId": "6a014ea2-4d82-46cf-f9df-78f1f68757ff",
        "colab": {
          "base_uri": "https://localhost:8080/"
        }
      },
      "outputs": [
        {
          "output_type": "stream",
          "name": "stdout",
          "text": [
            "\n",
            "Value counts of each value for X1:\n",
            " 5    55\n",
            "4    36\n",
            "3    18\n",
            "1     1\n",
            "Name: X1, dtype: int64\n",
            "\n",
            "Value counts of each value for X2:\n",
            " 3    37\n",
            "2    30\n",
            "1    23\n",
            "4    15\n",
            "5     5\n",
            "Name: X2, dtype: int64\n",
            "\n",
            "Value counts of each value for X3:\n",
            " 3    50\n",
            "4    27\n",
            "5    14\n",
            "2    13\n",
            "1     6\n",
            "Name: X3, dtype: int64\n",
            "\n",
            "Value counts of each value for X4:\n",
            " 4    46\n",
            "3    35\n",
            "5    22\n",
            "2     5\n",
            "1     2\n",
            "Name: X4, dtype: int64\n",
            "\n",
            "Value counts of each value for X5:\n",
            " 4    41\n",
            "5    27\n",
            "3    19\n",
            "2    16\n",
            "1     7\n",
            "Name: X5, dtype: int64\n",
            "\n",
            "Value counts of each value for X6:\n",
            " 5    48\n",
            "4    40\n",
            "3    20\n",
            "2     1\n",
            "1     1\n",
            "Name: X6, dtype: int64\n",
            "\n",
            "Value counts of each value for Y:\n",
            " 1    56\n",
            "0    54\n",
            "Name: Y, dtype: int64\n"
          ]
        }
      ],
      "source": [
        "y_value_count = df[\"Y\"].value_counts()\n",
        "X1_value_count = df[\"X1\"].value_counts()\n",
        "X2_value_count = df[\"X2\"].value_counts()\n",
        "X3_value_count = df[\"X3\"].value_counts()\n",
        "X4_value_count = df[\"X4\"].value_counts()\n",
        "X5_value_count = df[\"X5\"].value_counts()\n",
        "X6_value_count = df[\"X6\"].value_counts()\n",
        "\n",
        "\n",
        "\n",
        "print(\"\\nValue counts of each value for X1:\\n\", X1_value_count )\n",
        "print(\"\\nValue counts of each value for X2:\\n\", X2_value_count )\n",
        "print(\"\\nValue counts of each value for X3:\\n\", X3_value_count )\n",
        "print(\"\\nValue counts of each value for X4:\\n\", X4_value_count )\n",
        "print(\"\\nValue counts of each value for X5:\\n\", X5_value_count )\n",
        "print(\"\\nValue counts of each value for X6:\\n\", X6_value_count )\n",
        "print(\"\\nValue counts of each value for Y:\\n\", y_value_count )\n"
      ],
      "id": "a6f17fd3"
    },
    {
      "cell_type": "markdown",
      "metadata": {
        "id": "09cc160b"
      },
      "source": [
        "**Univariate Analysis (histogram)**\n",
        "    1)Target Y: 50.9% (56) - happy; 49.1% (54) - unhappy;\n",
        "    2)X1 (Delivery Time) : 82.7% (91) - happy; 16.4% (18) - neutral; 0.9% (1) - unhappy;\n",
        "    3)X2 (Product Quality): 18.2% (20) - happy; 33.6% (37) - neutral; 48.2% (53) - unhappy;\n",
        "    4)X3 (Product Availability): 37.2% (41) - happy; 45.5% (50) - neutral; 17.3% (19) - unhappy;\n",
        "    5)X4 (Order Pricing): 61.8% (68) - happy; 31.8% (35) - neutral; 6.4% (7) - unhappy;\n",
        "    6)X5 (Courier Feedback): 61.8% (68) - happy; 17.3% (19) - neutral; 20.9% (23)- unhappy;\n",
        "    7)X6 (Application Feedback): 80% (88) - happy; 18.2% (20) - neutral; 1.8% (2)- unhappy;\n",
        "\n",
        "\n",
        "\n",
        "\n",
        "Univariate Analysis:\n",
        "\n",
        "\t• The histograms provide insights into the distribution of each attribute.\n",
        "\t• The majority of customers (50.9%) are classified as happy (Y = 1), while 49.1% are classified as unhappy (Y = 0).\n",
        "\n",
        "For individual attributes satisfaction:\n",
        "\n",
        "\t• X1 (Delivery Time) has a higher proportion of happy customers (82.7%) compared to unhappy ones (0.9%).\n",
        "\t• X2 (Product Quality) has a more balanced distribution, with a relatively small proportion of happy customers (18.2%) compared to the neutral (33.6%) and unhappy (48.2%) categories.\n",
        "\t• X3 (Product Availability) shows higher proportion of happy customers (37.2%) and relatively low unhappy, but majority are having a neutral experiance.\n",
        "\t• X4 (Order Pricing) has a higher proportion of happy customers (61.8%) and a relatively low proportion of unhappy customers (6.4%).\n",
        "\t• X5 (Courier Feedback) has a higher proportion of happy customers (61.8%) and a moderate proportion of unhappy customers (20.9%).\n",
        "    • X6 (Application Feedback) is skewed towards happy customers (80%) with only 1.8% being unhappy.\n",
        "\n"
      ],
      "id": "09cc160b"
    },
    {
      "cell_type": "code",
      "source": [
        "for label in df.columns:\n",
        "  plt.figure(figsize=(2,2))\n",
        "  sns.regplot(x=label,y=\"Y\", data=df)\n",
        "  plt.ylim(0,)\n",
        "  plt.title(label)\n",
        "  plt.show()"
      ],
      "metadata": {
        "colab": {
          "base_uri": "https://localhost:8080/",
          "height": 1000
        },
        "id": "7ahn2ZJEIxfq",
        "outputId": "5de31129-3390-4662-eed2-2148f95533d7"
      },
      "id": "7ahn2ZJEIxfq",
      "execution_count": 31,
      "outputs": [
        {
          "output_type": "display_data",
          "data": {
            "text/plain": [
              "<Figure size 200x200 with 1 Axes>"
            ],
            "image/png": "[encoded data removed]"
          },
          "metadata": {}
        },
        {
          "output_type": "display_data",
          "data": {
            "text/plain": [
              "<Figure size 200x200 with 1 Axes>"
            ],
            "image/png": "[encoded data removed]"
          },
          "metadata": {}
        },
        {
          "output_type": "display_data",
          "data": {
            "text/plain": [
              "<Figure size 200x200 with 1 Axes>"
            ],
            "image/png": "[encoded data removed]"
          },
          "metadata": {}
        },
        {
          "output_type": "display_data",
          "data": {
            "text/plain": [
              "<Figure size 200x200 with 1 Axes>"
            ],
            "image/png": "[encoded data removed]"
          },
          "metadata": {}
        },
        {
          "output_type": "display_data",
          "data": {
            "text/plain": [
              "<Figure size 200x200 with 1 Axes>"
            ],
            "image/png": "[encoded data removed]"
          },
          "metadata": {}
        },
        {
          "output_type": "display_data",
          "data": {
            "text/plain": [
              "<Figure size 200x200 with 1 Axes>"
            ],
            "image/png": "[encoded data removed]"
          },
          "metadata": {}
        },
        {
          "output_type": "display_data",
          "data": {
            "text/plain": [
              "<Figure size 200x200 with 1 Axes>"
            ],
            "image/png": "[encoded data removed]"
          },
          "metadata": {}
        }
      ]
    },
    {
      "cell_type": "markdown",
      "metadata": {
        "id": "64b5e379"
      },
      "source": [
        "Bivariate Analysis Observation: Attributes against Target\n",
        "\n",
        "X1 demonstrates the highest positive linear correlation to Y as compared to the other features. On the other hand, X3, X5, and X6 exhibit positive correlations, albeit weaker when compared to the X1 feature. There are few outliers observed in all the features that doesnt fit the linear relatiosnship.\n",
        "\n",
        "X2 and X4 exhibit the least correlation, potentially making them inadequate for predicting the target variable."
      ],
      "id": "64b5e379"
    },
    {
      "cell_type": "markdown",
      "metadata": {
        "id": "5e4ca7cd"
      },
      "source": [
        "EDA Conclusion:\n",
        "    \n",
        "X1 (Delivery Time),X4 (Order pricing), X5 (Courier Feedback), and X6 (Application Feedback) are the most positively correlated attributes with the target Y. These attributes may play a significant role in predicting customer happiness.\n",
        "\n",
        "X2 (Product Quality) has the lowest correlation with the target Y, implying that it might have less impact on customer happiness prediction. However X2 (Product Quality) and X4 (Order Pricing) are attributes that might have a significant impact on predicting customer being unhappy, X2 (Product Quality) has a relatively high proportion of unhappy customers (48.2%) compared to happy customers (18.2%).\n",
        "\n",
        "The distribution of each attribute provides insights into the varying importance of features. For instance, X1 (Delivery Time) seems to have a higher impact on happiness compared to others.\n",
        "\n",
        "Further analysis, such as feature importance through machine learning models, can help validate the relative importance of each attribute in predicting customer happiness accurately."
      ],
      "id": "5e4ca7cd"
    },
    {
      "cell_type": "markdown",
      "metadata": {
        "id": "5cdb7ebd"
      },
      "source": [
        "# Model Evaluation"
      ],
      "id": "5cdb7ebd"
    },
    {
      "cell_type": "code",
      "execution_count": 55,
      "metadata": {
        "id": "f6deeda2"
      },
      "outputs": [],
      "source": [
        "y = df[\"Y\"]\n",
        "X= df.drop([\"Y\"], axis = 1)\n",
        "X_train, X_test, y_train, y_test = train_test_split(X, y, test_size = 0.2, random_state=100 )"
      ],
      "id": "f6deeda2"
    },
    {
      "cell_type": "code",
      "execution_count": 48,
      "metadata": {
        "id": "b76a7197"
      },
      "outputs": [],
      "source": [
        "lr = LogisticRegression()\n",
        "knn = KNeighborsClassifier()\n",
        "dt = DecisionTreeClassifier()\n",
        "rf = RandomForestClassifier()\n",
        "nb = GaussianNB()\n",
        "xgb = XGBClassifier()\n",
        "lgbm = LGBMClassifier(verbose = -1)\n",
        "svm = SVC()\n",
        "\n",
        "\n"
      ],
      "id": "b76a7197"
    },
    {
      "cell_type": "code",
      "execution_count": 50,
      "metadata": {
        "colab": {
          "base_uri": "https://localhost:8080/"
        },
        "id": "1add5f8f",
        "outputId": "d396eb17-5c71-4cd4-c360-226643ed483f"
      },
      "outputs": [
        {
          "output_type": "stream",
          "name": "stdout",
          "text": [
            "\n",
            "Selected Model : LogisticRegression()\n",
            "LogisticRegression() Model training Accuracy :  61.36363636363637\n",
            "LogisticRegression() Model testing Accuracy :  68.18181818181817\n",
            "LogisticRegression() f1_score: 0.7407407407407408\n",
            "\n",
            "\n",
            "\n",
            "\n",
            "Selected Model : KNeighborsClassifier()\n",
            "KNeighborsClassifier() Model training Accuracy :  65.9090909090909\n",
            "KNeighborsClassifier() Model testing Accuracy :  50.0\n",
            "KNeighborsClassifier() f1_score: 0.5925925925925927\n",
            "\n",
            "\n",
            "\n",
            "\n",
            "Selected Model : DecisionTreeClassifier()\n",
            "DecisionTreeClassifier() Model training Accuracy :  95.45454545454545\n",
            "DecisionTreeClassifier() Model testing Accuracy :  40.909090909090914\n",
            "DecisionTreeClassifier() f1_score: 0.4799999999999999\n",
            "\n",
            "\n",
            "\n",
            "\n",
            "Selected Model : RandomForestClassifier()\n",
            "RandomForestClassifier() Model training Accuracy :  95.45454545454545\n",
            "RandomForestClassifier() Model testing Accuracy :  63.63636363636363\n",
            "RandomForestClassifier() f1_score: 0.6923076923076924\n",
            "\n",
            "\n",
            "\n",
            "\n",
            "Selected Model : GaussianNB()\n",
            "GaussianNB() Model training Accuracy :  59.09090909090909\n",
            "GaussianNB() Model testing Accuracy :  63.63636363636363\n",
            "GaussianNB() f1_score: 0.7142857142857143\n",
            "\n",
            "\n",
            "\n",
            "\n",
            "Selected Model : SVC()\n",
            "SVC() Model training Accuracy :  64.77272727272727\n",
            "SVC() Model testing Accuracy :  72.72727272727273\n",
            "SVC() f1_score: 0.7692307692307692\n",
            "\n",
            "\n",
            "\n",
            "\n",
            "Selected Model : LGBMClassifier(verbose=-1)\n",
            "LGBMClassifier(verbose=-1) Model training Accuracy :  64.77272727272727\n",
            "LGBMClassifier(verbose=-1) Model testing Accuracy :  77.27272727272727\n",
            "LGBMClassifier(verbose=-1) f1_score: 0.8148148148148148\n",
            "\n",
            "\n",
            "\n",
            "\n",
            "Selected Model : XGBClassifier(base_score=None, booster=None, callbacks=None,\n",
            "              colsample_bylevel=None, colsample_bynode=None,\n",
            "              colsample_bytree=None, early_stopping_rounds=None,\n",
            "              enable_categorical=False, eval_metric=None, feature_types=None,\n",
            "              gamma=None, gpu_id=None, grow_policy=None, importance_type=None,\n",
            "              interaction_constraints=None, learning_rate=None, max_bin=None,\n",
            "              max_cat_threshold=None, max_cat_to_onehot=None,\n",
            "              max_delta_step=None, max_depth=None, max_leaves=None,\n",
            "              min_child_weight=None, missing=nan, monotone_constraints=None,\n",
            "              n_estimators=100, n_jobs=None, num_parallel_tree=None,\n",
            "              predictor=None, random_state=None, ...)\n",
            "XGBClassifier(base_score=None, booster=None, callbacks=None,\n",
            "              colsample_bylevel=None, colsample_bynode=None,\n",
            "              colsample_bytree=None, early_stopping_rounds=None,\n",
            "              enable_categorical=False, eval_metric=None, feature_types=None,\n",
            "              gamma=None, gpu_id=None, grow_policy=None, importance_type=None,\n",
            "              interaction_constraints=None, learning_rate=None, max_bin=None,\n",
            "              max_cat_threshold=None, max_cat_to_onehot=None,\n",
            "              max_delta_step=None, max_depth=None, max_leaves=None,\n",
            "              min_child_weight=None, missing=nan, monotone_constraints=None,\n",
            "              n_estimators=100, n_jobs=None, num_parallel_tree=None,\n",
            "              predictor=None, random_state=None, ...) Model training Accuracy :  94.31818181818183\n",
            "XGBClassifier(base_score=None, booster=None, callbacks=None,\n",
            "              colsample_bylevel=None, colsample_bynode=None,\n",
            "              colsample_bytree=None, early_stopping_rounds=None,\n",
            "              enable_categorical=False, eval_metric=None, feature_types=None,\n",
            "              gamma=None, gpu_id=None, grow_policy=None, importance_type=None,\n",
            "              interaction_constraints=None, learning_rate=None, max_bin=None,\n",
            "              max_cat_threshold=None, max_cat_to_onehot=None,\n",
            "              max_delta_step=None, max_depth=None, max_leaves=None,\n",
            "              min_child_weight=None, missing=nan, monotone_constraints=None,\n",
            "              n_estimators=100, n_jobs=None, num_parallel_tree=None,\n",
            "              predictor=None, random_state=None, ...) Model testing Accuracy :  59.09090909090909\n",
            "XGBClassifier(base_score=None, booster=None, callbacks=None,\n",
            "              colsample_bylevel=None, colsample_bynode=None,\n",
            "              colsample_bytree=None, early_stopping_rounds=None,\n",
            "              enable_categorical=False, eval_metric=None, feature_types=None,\n",
            "              gamma=None, gpu_id=None, grow_policy=None, importance_type=None,\n",
            "              interaction_constraints=None, learning_rate=None, max_bin=None,\n",
            "              max_cat_threshold=None, max_cat_to_onehot=None,\n",
            "              max_delta_step=None, max_depth=None, max_leaves=None,\n",
            "              min_child_weight=None, missing=nan, monotone_constraints=None,\n",
            "              n_estimators=100, n_jobs=None, num_parallel_tree=None,\n",
            "              predictor=None, random_state=None, ...) f1_score: 0.6666666666666666\n",
            "\n",
            "\n",
            "\n"
          ]
        }
      ],
      "source": [
        "models = [lr,knn,dt,rf,nb,svm,lgbm,xgb]\n",
        "#model = [rf]\n",
        "\n",
        "def model_trial(models):\n",
        "    for i in models:\n",
        "        i.fit(X_train,y_train)\n",
        "        i.pred = i.predict(X_test)\n",
        "        print(\"\\nSelected Model :\",i)\n",
        "        print(i,\"Model training Accuracy : \", i.score(X_train,y_train)*100)\n",
        "        print(i,\"Model testing Accuracy : \", accuracy_score(y_test,i.pred)*100)\n",
        "        print(i,\"f1_score:\", f1_score(y_test,i.pred))\n",
        "        print(\"\\n\\n\")\n",
        "\n",
        "model_trial(models)"
      ],
      "id": "1add5f8f"
    },
    {
      "cell_type": "markdown",
      "metadata": {
        "id": "71826886"
      },
      "source": [
        "Observation:\n",
        "\n",
        "Currently, both K-Nearest Neighbors (knn) and LightGBM (lgbm) are temporarily selected as they attained an accuracy of 77.2%, which outperforms the other models.\n",
        "\n",
        "The accuracy of the knn model has significantly improved from 50% to 77.2% after dropping features X2 and X4, which exhibited the lowest correlation to Y. In contrast, the accuracy of the lgbm model remained unchanged throughout this.\n",
        "\n",
        "At present, the knn and lgbm classifiers gives an accuracy of 77.2%, but this is only accomplished for a test size of 20% and a random_state value of 100. To ensure consistent and reliable accuracy, further tuning of the models is necessary.\n",
        "\n",
        "To do:\n",
        "    1) Detailed exploration of parameter tuning for knn and lgbm models.\n",
        "    2) Explore alternative models to identify the most suitable one for this dataset.\n",
        "  \n",
        "\n",
        "Concerns:\n",
        "    1) The standard procedures to enhance accuracy need to be clarified.\n",
        "    2) The potential for overfitting while utilizing the knn model should be addressed.\n",
        "    3) Removing the outliers spotted in regplot.\n",
        "    4) Are the warnings in lgbm because of the missing hyperparameter tuning, how does that affect the accuracy.\n",
        "    5) Need for feature scaling, although the numbers are between 1 to 5."
      ],
      "id": "71826886"
    },
    {
      "cell_type": "code",
      "execution_count": 52,
      "metadata": {
        "colab": {
          "base_uri": "https://localhost:8080/"
        },
        "id": "1c0c533a",
        "outputId": "538da260-8dee-41e8-aeaa-904543c44041"
      },
      "outputs": [
        {
          "output_type": "execute_result",
          "data": {
            "text/plain": [
              "4.69041575982343"
            ]
          },
          "metadata": {},
          "execution_count": 52
        }
      ],
      "source": [
        "# #finding the k value\n",
        "# import math\n",
        "# math.sqrt(len(y_test))"
      ],
      "id": "1c0c533a"
    },
    {
      "cell_type": "code",
      "execution_count": 51,
      "metadata": {
        "colab": {
          "base_uri": "https://localhost:8080/"
        },
        "id": "f8c72e09",
        "outputId": "b9ba1475-9aa1-43a5-b516-fa75bfb571ef"
      },
      "outputs": [
        {
          "output_type": "stream",
          "name": "stdout",
          "text": [
            "knn improved model training Accuracy :  65.9090909090909\n",
            "knn improved Model testing Accuracy :  50.0\n",
            "[[3 5]\n",
            " [6 8]]\n",
            "0.5925925925925927\n"
          ]
        }
      ],
      "source": [
        "# knn_temp = KNeighborsClassifier(n_neighbors = 5, p=2, metric=\"euclidean\")\n",
        "# knn_temp.fit(X_train,y_train)\n",
        "# knn_temp.pred = knn.predict(X_test)\n",
        "# print(\"knn improved model training Accuracy : \", knn_temp.score(X_train,y_train)*100)\n",
        "# print(\"knn improved Model testing Accuracy : \", accuracy_score(y_test,knn_temp.pred)*100)\n",
        "# cm = confusion_matrix(y_test,knn_temp.pred)\n",
        "# print(cm)\n",
        "# print(f1_score(y_test,knn_temp.pred))"
      ],
      "id": "f8c72e09"
    },
    {
      "cell_type": "markdown",
      "metadata": {
        "id": "841fbb8c"
      },
      "source": [
        "Observation:\n",
        "\n",
        "knn model training accuracy seem to have improved a little."
      ],
      "id": "841fbb8c"
    },
    {
      "cell_type": "markdown",
      "metadata": {
        "id": "04348ddf"
      },
      "source": [
        "# Cross Validation without parameter tuning\n"
      ],
      "id": "04348ddf"
    },
    {
      "cell_type": "code",
      "execution_count": 53,
      "metadata": {
        "id": "f53c64cb"
      },
      "outputs": [],
      "source": [
        "#Cross Validation using cross_val_score using skf\n",
        "\n",
        "def training_cross_val(models,folds,rs):\n",
        "  skf = StratifiedKFold(n_splits=folds,shuffle = True, random_state = rs)\n",
        "\n",
        "  for selected_model in models:\n",
        "\n",
        "    Accuracy_vals = cross_val_score(selected_model,X,y,cv = skf)\n",
        "    print(\"\\nModel: \",selected_model)\n",
        "    print(\"\\nAll scores\", Accuracy_vals)\n",
        "    print(\"Minumun Accuracy:\", min(Accuracy_vals)*100)\n",
        "    print(\"Maimum Accuracy:\", max(Accuracy_vals)*100)\n",
        "    print(\"Average Accuracy:\", np.mean(Accuracy_vals)*100,\"\\n\")\n",
        "\n",
        "\n"
      ],
      "id": "f53c64cb"
    },
    {
      "cell_type": "code",
      "execution_count": null,
      "metadata": {
        "id": "5a5c8d38"
      },
      "outputs": [],
      "source": [
        "#cross validation using kf (manual)\n",
        "\n",
        "def model_training(models,folds,rs):\n",
        "\n",
        "    kf = KFold(n_splits=folds, shuffle = True, random_state = rs )\n",
        "\n",
        "    for selected_model in models:\n",
        "        scores = []\n",
        "        for train_index, test_index in kf.split(X,y):\n",
        "            X_train_c, X_test_c, y_train_c, y_test_c = X.iloc[train_index], X.iloc[test_index], y[train_index], y[test_index]\n",
        "            selected_model.fit(X_train_c, y_train_c)\n",
        "            scores.append(selected_model.score(X_test_c, y_test_c))\n",
        "        print(\"\\nModel: \",selected_model)\n",
        "        print(\"\\nAll scores\", scores)\n",
        "        print(\"Minumun Accuracy:\", min(scores)*100)\n",
        "        print(\"Maimum Accuracy:\", max(scores)*100)\n",
        "        print(\"Average Accuracy:\", np.mean(scores)*100,\"\\n\")"
      ],
      "id": "5a5c8d38"
    },
    {
      "cell_type": "code",
      "execution_count": null,
      "metadata": {
        "id": "cb5be4bd",
        "outputId": "8a5df1b1-4f1b-44d7-a4f1-71c078d2c7a9",
        "colab": {
          "base_uri": "https://localhost:8080/"
        }
      },
      "outputs": [
        {
          "output_type": "stream",
          "name": "stdout",
          "text": [
            "\n",
            "Model:  LogisticRegression()\n",
            "\n",
            "All scores [0.54545455 0.36363636 0.45454545 0.36363636 0.54545455 0.81818182\n",
            " 0.63636364 0.45454545 0.45454545 0.72727273]\n",
            "Minumun Accuracy: 36.36363636363637\n",
            "Maimum Accuracy: 81.81818181818183\n",
            "Average Accuracy: 53.63636363636364 \n",
            "\n",
            "\n",
            "Model:  KNeighborsClassifier()\n",
            "\n",
            "All scores [0.54545455 0.36363636 0.54545455 0.27272727 0.36363636 0.81818182\n",
            " 0.18181818 0.36363636 0.72727273 0.45454545]\n",
            "Minumun Accuracy: 18.181818181818183\n",
            "Maimum Accuracy: 81.81818181818183\n",
            "Average Accuracy: 46.36363636363636 \n",
            "\n",
            "\n",
            "Model:  DecisionTreeClassifier()\n",
            "\n",
            "All scores [0.45454545 0.63636364 0.36363636 0.45454545 0.27272727 0.72727273\n",
            " 0.27272727 0.45454545 0.45454545 0.36363636]\n",
            "Minumun Accuracy: 27.27272727272727\n",
            "Maimum Accuracy: 72.72727272727273\n",
            "Average Accuracy: 44.54545454545455 \n",
            "\n",
            "\n",
            "Model:  RandomForestClassifier()\n",
            "\n",
            "All scores [0.54545455 0.27272727 0.54545455 0.27272727 0.27272727 0.72727273\n",
            " 0.36363636 0.54545455 0.36363636 0.45454545]\n",
            "Minumun Accuracy: 27.27272727272727\n",
            "Maimum Accuracy: 72.72727272727273\n",
            "Average Accuracy: 43.63636363636363 \n",
            "\n",
            "\n",
            "Model:  GaussianNB()\n",
            "\n",
            "All scores [0.54545455 0.27272727 0.63636364 0.36363636 0.54545455 0.81818182\n",
            " 0.54545455 0.45454545 0.36363636 0.72727273]\n",
            "Minumun Accuracy: 27.27272727272727\n",
            "Maimum Accuracy: 81.81818181818183\n",
            "Average Accuracy: 52.72727272727272 \n",
            "\n",
            "\n",
            "Model:  SVC()\n",
            "\n",
            "All scores [0.54545455 0.18181818 0.63636364 0.36363636 0.45454545 0.63636364\n",
            " 0.54545455 0.45454545 0.45454545 0.81818182]\n",
            "Minumun Accuracy: 18.181818181818183\n",
            "Maimum Accuracy: 81.81818181818183\n",
            "Average Accuracy: 50.90909090909091 \n",
            "\n",
            "\n",
            "Model:  XGBClassifier(base_score=None, booster=None, callbacks=None,\n",
            "              colsample_bylevel=None, colsample_bynode=None,\n",
            "              colsample_bytree=None, early_stopping_rounds=None,\n",
            "              enable_categorical=False, eval_metric=None, feature_types=None,\n",
            "              gamma=None, gpu_id=None, grow_policy=None, importance_type=None,\n",
            "              interaction_constraints=None, learning_rate=None, max_bin=None,\n",
            "              max_cat_threshold=None, max_cat_to_onehot=None,\n",
            "              max_delta_step=None, max_depth=None, max_leaves=None,\n",
            "              min_child_weight=None, missing=nan, monotone_constraints=None,\n",
            "              n_estimators=100, n_jobs=None, num_parallel_tree=None,\n",
            "              predictor=None, random_state=None, ...)\n",
            "\n",
            "All scores [0.72727273 0.36363636 0.54545455 0.45454545 0.27272727 0.72727273\n",
            " 0.36363636 0.45454545 0.54545455 0.72727273]\n",
            "Minumun Accuracy: 27.27272727272727\n",
            "Maimum Accuracy: 72.72727272727273\n",
            "Average Accuracy: 51.81818181818183 \n",
            "\n",
            "\n",
            "Model:  LGBMClassifier(verbose=-1)\n",
            "\n",
            "All scores [0.54545455 0.72727273 0.72727273 0.63636364 0.54545455 0.72727273\n",
            " 0.54545455 0.36363636 0.81818182 0.45454545]\n",
            "Minumun Accuracy: 36.36363636363637\n",
            "Maimum Accuracy: 81.81818181818183\n",
            "Average Accuracy: 60.909090909090914 \n",
            "\n"
          ]
        }
      ],
      "source": [
        "training_cross_val(models, 10, 0) #currently using skf"
      ],
      "id": "cb5be4bd"
    },
    {
      "cell_type": "code",
      "execution_count": null,
      "metadata": {
        "colab": {
          "base_uri": "https://localhost:8080/"
        },
        "id": "eab03150",
        "outputId": "8dac182e-f29c-49e0-dae7-24274b9f2c4f"
      },
      "outputs": [
        {
          "output_type": "stream",
          "name": "stdout",
          "text": [
            "\n",
            "Model:  LogisticRegression()\n",
            "\n",
            "All scores [0.5454545454545454, 0.36363636363636365, 0.5454545454545454, 0.6363636363636364, 0.5454545454545454, 0.5454545454545454, 0.6363636363636364, 0.36363636363636365, 0.45454545454545453, 0.6363636363636364]\n",
            "Minumun Accuracy: 36.36363636363637\n",
            "Maimum Accuracy: 63.63636363636363\n",
            "Average Accuracy: 52.72727272727272 \n",
            "\n",
            "\n",
            "Model:  KNeighborsClassifier()\n",
            "\n",
            "All scores [0.36363636363636365, 0.5454545454545454, 0.6363636363636364, 0.7272727272727273, 0.36363636363636365, 0.6363636363636364, 0.5454545454545454, 0.36363636363636365, 0.5454545454545454, 0.7272727272727273]\n",
            "Minumun Accuracy: 36.36363636363637\n",
            "Maimum Accuracy: 72.72727272727273\n",
            "Average Accuracy: 54.54545454545454 \n",
            "\n",
            "\n",
            "Model:  DecisionTreeClassifier()\n",
            "\n",
            "All scores [0.36363636363636365, 0.36363636363636365, 0.36363636363636365, 0.7272727272727273, 0.18181818181818182, 0.36363636363636365, 0.2727272727272727, 0.36363636363636365, 0.5454545454545454, 0.7272727272727273]\n",
            "Minumun Accuracy: 18.181818181818183\n",
            "Maimum Accuracy: 72.72727272727273\n",
            "Average Accuracy: 42.72727272727273 \n",
            "\n",
            "\n",
            "Model:  RandomForestClassifier()\n",
            "\n",
            "All scores [0.36363636363636365, 0.36363636363636365, 0.5454545454545454, 0.6363636363636364, 0.36363636363636365, 0.45454545454545453, 0.36363636363636365, 0.36363636363636365, 0.45454545454545453, 0.5454545454545454]\n",
            "Minumun Accuracy: 36.36363636363637\n",
            "Maimum Accuracy: 63.63636363636363\n",
            "Average Accuracy: 44.54545454545455 \n",
            "\n",
            "\n",
            "Model:  GaussianNB()\n",
            "\n",
            "All scores [0.45454545454545453, 0.6363636363636364, 0.5454545454545454, 0.6363636363636364, 0.5454545454545454, 0.6363636363636364, 0.6363636363636364, 0.2727272727272727, 0.45454545454545453, 0.6363636363636364]\n",
            "Minumun Accuracy: 27.27272727272727\n",
            "Maimum Accuracy: 63.63636363636363\n",
            "Average Accuracy: 54.54545454545454 \n",
            "\n",
            "\n",
            "Model:  SVC()\n",
            "\n",
            "All scores [0.45454545454545453, 0.45454545454545453, 0.6363636363636364, 0.6363636363636364, 0.5454545454545454, 0.45454545454545453, 0.6363636363636364, 0.18181818181818182, 0.45454545454545453, 0.45454545454545453]\n",
            "Minumun Accuracy: 18.181818181818183\n",
            "Maimum Accuracy: 63.63636363636363\n",
            "Average Accuracy: 49.090909090909086 \n",
            "\n",
            "\n",
            "Model:  XGBClassifier(base_score=None, booster=None, callbacks=None,\n",
            "              colsample_bylevel=None, colsample_bynode=None,\n",
            "              colsample_bytree=None, early_stopping_rounds=None,\n",
            "              enable_categorical=False, eval_metric=None, feature_types=None,\n",
            "              gamma=None, gpu_id=None, grow_policy=None, importance_type=None,\n",
            "              interaction_constraints=None, learning_rate=None, max_bin=None,\n",
            "              max_cat_threshold=None, max_cat_to_onehot=None,\n",
            "              max_delta_step=None, max_depth=None, max_leaves=None,\n",
            "              min_child_weight=None, missing=nan, monotone_constraints=None,\n",
            "              n_estimators=100, n_jobs=None, num_parallel_tree=None,\n",
            "              predictor=None, random_state=None, ...)\n",
            "\n",
            "All scores [0.36363636363636365, 0.45454545454545453, 0.5454545454545454, 0.5454545454545454, 0.36363636363636365, 0.45454545454545453, 0.2727272727272727, 0.2727272727272727, 0.5454545454545454, 0.45454545454545453]\n",
            "Minumun Accuracy: 27.27272727272727\n",
            "Maimum Accuracy: 54.54545454545454\n",
            "Average Accuracy: 42.72727272727273 \n",
            "\n",
            "\n",
            "Model:  LGBMClassifier(verbose=-1)\n",
            "\n",
            "All scores [0.5454545454545454, 0.5454545454545454, 0.6363636363636364, 0.7272727272727273, 0.45454545454545453, 0.7272727272727273, 0.6363636363636364, 0.5454545454545454, 0.6363636363636364, 0.6363636363636364]\n",
            "Minumun Accuracy: 45.45454545454545\n",
            "Maimum Accuracy: 72.72727272727273\n",
            "Average Accuracy: 60.909090909090914 \n",
            "\n"
          ]
        }
      ],
      "source": [
        "model_training(models, 10, 0) #currently using kf"
      ],
      "id": "eab03150"
    },
    {
      "cell_type": "markdown",
      "metadata": {
        "id": "edcc73f2"
      },
      "source": [
        "\n",
        "## **Parameter Tuning**"
      ],
      "id": "edcc73f2"
    },
    {
      "cell_type": "markdown",
      "metadata": {
        "id": "b5a4bc62"
      },
      "source": [
        "lr = LogisticRegression()\n",
        "knn = KNeighborsClassifier()\n",
        "dt = DecisionTreeClassifier()\n",
        "rf = RandomForestClassifier()\n",
        "nb = GaussianNB()\n",
        "xgb = XGBClassifier()\n",
        "lgbm = LGBMClassifier()\n",
        "svm = SVC()"
      ],
      "id": "b5a4bc62"
    },
    {
      "cell_type": "markdown",
      "source": [
        "### **Gridsearch**"
      ],
      "metadata": {
        "id": "2Pxtp7Bix1qL"
      },
      "id": "2Pxtp7Bix1qL"
    },
    {
      "cell_type": "code",
      "execution_count": null,
      "metadata": {
        "colab": {
          "base_uri": "https://localhost:8080/"
        },
        "id": "82b19ca9",
        "outputId": "184e8e1a-874e-427f-e11d-f3877fdf11ea"
      },
      "outputs": [
        {
          "output_type": "stream",
          "name": "stdout",
          "text": [
            "\n",
            "All details of best model: SVC(C=1, kernel='linear', random_state=0)\n",
            "\n",
            "Best parameter values: {'C': 1, 'kernel': 'linear', 'random_state': 0}\n",
            "Best score using best para: 0.5583333333333333\n"
          ]
        }
      ],
      "source": [
        "#parameter tuning using gridsearch (SVM)\n",
        "svm = SVC()\n",
        "rs = np.arange(0,101,1)\n",
        "\n",
        "parameters = [\n",
        "    {'C': [1, 10, 100, 1000], 'kernel': ['linear'], 'random_state' : rs},\n",
        "    {'C': [1, 10, 100, 1000], 'kernel': ['rbf'],'random_state' : rs, 'gamma': [0.1, 0.2, 0.3, 0.4, 0.5, 0.6, 0.7, 0.8, 0.9]}\n",
        "]\n",
        "\n",
        "\n",
        "gs = GridSearchCV(estimator = svm,\n",
        "                  param_grid = parameters,\n",
        "                  scoring = \"accuracy\",\n",
        "                  refit = \"accuracy\",\n",
        "                  cv = folds,\n",
        "                  verbose = -1,\n",
        "                  n_jobs = -1\n",
        "                  )\n",
        "\n",
        "gs =gs.fit(X, y)\n",
        "print(\"\\nAll details of best model:\",gs.best_estimator_) #for all details of the best model\n",
        "print(\"\\nBest parameter values:\",gs.best_params_) # to get only the best hpara value that we searched for\n",
        "print(\"Best score using best para:\",gs.best_score_) # best score\n",
        "select_para = gs.best_params_"
      ],
      "id": "82b19ca9"
    },
    {
      "cell_type": "code",
      "execution_count": null,
      "metadata": {
        "id": "6d70d9ad"
      },
      "outputs": [],
      "source": [
        "#parameter tuning and gs on rf\n",
        "\n",
        "parameters = {\n",
        "    'n_estimators': np.arange(5,110,10),\n",
        "    'max_depth': np.arange(1,10),\n",
        "    'random_state':np.arange(0,101,10),\n",
        "    'criterion' : [\"gini\",\"entropy\"],\n",
        "}\n",
        "\n",
        "\n",
        "gs = GridSearchCV(estimator = rf,\n",
        "                  param_grid = parameters,\n",
        "                  scoring = \"accuracy\",\n",
        "                  #refit = \"accuracy\",\n",
        "                  cv = 10, #change to skf later\n",
        "                  verbose = -1,\n",
        "                  n_jobs = 1\n",
        "                  )\n",
        "\n",
        "gs.fit(X, y)\n",
        "print(\"\\nAll details of best model:\",gs.best_estimator_) #for all details of the best model\n",
        "print(\"\\nBest parameter values:\",gs.best_params_) # to get only the best hpara value that we searched for\n",
        "print(\"Best score using best para:\",gs.best_score_) # best score"
      ],
      "id": "6d70d9ad"
    },
    {
      "cell_type": "markdown",
      "source": [
        "### **Hyperopt**"
      ],
      "metadata": {
        "id": "umo6Jp53x9cd"
      },
      "id": "umo6Jp53x9cd"
    },
    {
      "cell_type": "code",
      "source": [
        "param_space = {\n",
        "    \"max_depth\": scope.int(hp.quniform(\"max_depth\", 1, 15, 1)),\n",
        "    \"n_estimators\": scope.int(hp.quniform(\"n_estimators\", 40, 200, 10)),\n",
        "    \"random_state\": scope.int(hp.quniform(\"random_state\",0,101,10)),\n",
        "    \"criterion\": hp.choice(\"criterion\", [\"gini\",\"entropy\"]),\n",
        "    \"max_features\": hp.uniform(\"max_features\", 0.01,1)\n",
        "}\n",
        "\n",
        "\n",
        "optimization_function = partial(\n",
        "    optimize,\n",
        "    x=X,\n",
        "    y=y\n",
        ")\n",
        "\n",
        "trials = Trials()\n",
        "\n",
        "result = fmin(\n",
        "    fn = optimization_function,\n",
        "    space=param_space,\n",
        "    algo=tpe.suggest,\n",
        "    max_evals=50,\n",
        "    trials=trials\n",
        "\n",
        ")\n",
        "\n",
        "print(result)\n"
      ],
      "metadata": {
        "colab": {
          "base_uri": "https://localhost:8080/"
        },
        "outputId": "26d9cebc-1e8a-4e2d-df49-157da46ea7f9",
        "id": "Y0idI5jGnIg0"
      },
      "execution_count": null,
      "outputs": [
        {
          "output_type": "stream",
          "name": "stdout",
          "text": [
            "100%|██████████| 15/15 [00:35<00:00,  2.36s/trial, best loss: -0.618181818181818]\n",
            "{'criterion': 0, 'max_depth': 2.0, 'max_features': 0.15318551994152801, 'n_estimators': 140.0, 'random_state': 48.0}\n"
          ]
        }
      ],
      "id": "Y0idI5jGnIg0"
    },
    {
      "cell_type": "code",
      "source": [
        "def optimize(params, x, y):\n",
        "  model_o = RandomForestClassifier(**params)\n",
        "  skf_o = StratifiedKFold(n_splits=10)\n",
        "  acc_o = []\n",
        "\n",
        "  for train_index, test_index in skf_o.split(X=x,y=y):\n",
        "    Xtrain_o, Xtest_o, ytrain_o, ytest_o = x.iloc[train_index], x.iloc[test_index], y[train_index], y[test_index]\n",
        "\n",
        "    model_o.fit(Xtrain_o,ytrain_o)\n",
        "    preds = model_o.predict(Xtest_o)\n",
        "    fold_acc = accuracy_score(ytest_o,preds)\n",
        "    acc_o.append(fold_acc)\n",
        "\n",
        "  return -1.0 * np.mean(acc_o)"
      ],
      "metadata": {
        "id": "ElRovUXZ7h5l"
      },
      "id": "ElRovUXZ7h5l",
      "execution_count": null,
      "outputs": []
    },
    {
      "cell_type": "markdown",
      "source": [
        "### **Optuna**"
      ],
      "metadata": {
        "id": "jFzy6VAlydM_"
      },
      "id": "jFzy6VAlydM_"
    },
    {
      "cell_type": "code",
      "source": [
        "#Optimize function for optuna\n",
        "\n",
        "def optimize_2(trial, x, y):\n",
        "  criterion = trial.suggest_categorical(\"criterion\",[\"gini\"])\n",
        "  n_estimators = trial.suggest_int(\"n_estimators\", 50, 500) #tune this later for the small dataset\n",
        "  random_state = trial.suggest_int(\"random_state\", 0, 100)\n",
        "  max_depth = trial.suggest_int(\"max_depth\",3,15)\n",
        "  max_features = trial.suggest_float(\"max_features\", 0.01,1.0)\n",
        "\n",
        "  model = RandomForestClassifier(\n",
        "      n_estimators = n_estimators,\n",
        "      max_depth = max_depth,\n",
        "      random_state = random_state,\n",
        "      max_features = max_features,\n",
        "      criterion = criterion\n",
        "  )\n",
        "\n",
        "  skf = StratifiedKFold(n_splits=10)\n",
        "  acc = []\n",
        "\n",
        "  for train_index, test_index in skf.split(X=x,y=y):\n",
        "    Xtrain, Xtest, ytrain, ytest = x.iloc[train_index], x.iloc[test_index], y[train_index], y[test_index]\n",
        "\n",
        "    model.fit(Xtrain,ytrain)\n",
        "    preds = model.predict(Xtest)\n",
        "    fold_acc = accuracy_score(ytest,preds)\n",
        "    acc.append(fold_acc)\n",
        "\n",
        "  print(\"\\nAll scores\", acc)\n",
        "  print(\"Minumun Accuracy:\", min(acc)*100)\n",
        "  print(\"Maimum Accuracy:\", max(acc)*100)\n",
        "  print(\"Average accuracy is \",np.mean(acc)*100)\n",
        "  print(\"\\nNext trial starts--------------\\n\")\n",
        "  return np.mean(acc)\n",
        "\n"
      ],
      "metadata": {
        "id": "mkS3LY-npPcH"
      },
      "id": "mkS3LY-npPcH",
      "execution_count": 33,
      "outputs": []
    },
    {
      "cell_type": "code",
      "execution_count": null,
      "metadata": {
        "id": "75fd8e46",
        "colab": {
          "base_uri": "https://localhost:8080/"
        },
        "outputId": "ab7a72c4-e389-4903-e581-07a1853839d9"
      },
      "outputs": [
        {
          "output_type": "stream",
          "name": "stderr",
          "text": [
            "[I 2023-08-13 19:00:25,765] A new study created in memory with name: no-name-c7c4d321-6df7-4a01-bf00-07aefb2874c2\n",
            "[I 2023-08-13 19:00:31,200] Trial 0 finished with value: 0.5181818181818182 and parameters: {'criterion': 'gini', 'n_estimators': 198, 'random_state': 83, 'max_depth': 8, 'max_features': 0.9319005844970264}. Best is trial 0 with value: 0.5181818181818182.\n"
          ]
        },
        {
          "output_type": "stream",
          "name": "stdout",
          "text": [
            "\n",
            "All scores [0.7272727272727273, 0.45454545454545453, 0.45454545454545453, 0.36363636363636365, 0.6363636363636364, 0.36363636363636365, 0.7272727272727273, 0.7272727272727273, 0.2727272727272727, 0.45454545454545453]\n",
            "Minumun Accuracy: 27.27272727272727\n",
            "Maimum Accuracy: 72.72727272727273\n",
            "Average accuracy is  51.81818181818182\n",
            "\n",
            "Next trial starts--------------\n",
            "\n"
          ]
        },
        {
          "output_type": "stream",
          "name": "stderr",
          "text": [
            "[I 2023-08-13 19:00:32,328] Trial 1 finished with value: 0.48181818181818176 and parameters: {'criterion': 'gini', 'n_estimators': 73, 'random_state': 85, 'max_depth': 12, 'max_features': 0.0535929342636021}. Best is trial 0 with value: 0.5181818181818182.\n"
          ]
        },
        {
          "output_type": "stream",
          "name": "stdout",
          "text": [
            "\n",
            "All scores [0.7272727272727273, 0.36363636363636365, 0.36363636363636365, 0.36363636363636365, 0.5454545454545454, 0.36363636363636365, 0.6363636363636364, 0.6363636363636364, 0.36363636363636365, 0.45454545454545453]\n",
            "Minumun Accuracy: 36.36363636363637\n",
            "Maimum Accuracy: 72.72727272727273\n",
            "Average accuracy is  48.18181818181817\n",
            "\n",
            "Next trial starts--------------\n",
            "\n"
          ]
        },
        {
          "output_type": "stream",
          "name": "stderr",
          "text": [
            "[I 2023-08-13 19:00:34,343] Trial 2 finished with value: 0.5363636363636364 and parameters: {'criterion': 'gini', 'n_estimators': 135, 'random_state': 81, 'max_depth': 13, 'max_features': 0.40245316147381005}. Best is trial 2 with value: 0.5363636363636364.\n"
          ]
        },
        {
          "output_type": "stream",
          "name": "stdout",
          "text": [
            "\n",
            "All scores [0.8181818181818182, 0.45454545454545453, 0.45454545454545453, 0.45454545454545453, 0.5454545454545454, 0.36363636363636365, 0.7272727272727273, 0.7272727272727273, 0.2727272727272727, 0.5454545454545454]\n",
            "Minumun Accuracy: 27.27272727272727\n",
            "Maimum Accuracy: 81.81818181818183\n",
            "Average accuracy is  53.63636363636364\n",
            "\n",
            "Next trial starts--------------\n",
            "\n"
          ]
        },
        {
          "output_type": "stream",
          "name": "stderr",
          "text": [
            "[I 2023-08-13 19:00:35,846] Trial 3 finished with value: 0.5454545454545453 and parameters: {'criterion': 'gini', 'n_estimators': 86, 'random_state': 60, 'max_depth': 7, 'max_features': 0.38831692657623473}. Best is trial 3 with value: 0.5454545454545453.\n"
          ]
        },
        {
          "output_type": "stream",
          "name": "stdout",
          "text": [
            "\n",
            "All scores [0.8181818181818182, 0.45454545454545453, 0.45454545454545453, 0.36363636363636365, 0.6363636363636364, 0.5454545454545454, 0.7272727272727273, 0.7272727272727273, 0.2727272727272727, 0.45454545454545453]\n",
            "Minumun Accuracy: 27.27272727272727\n",
            "Maimum Accuracy: 81.81818181818183\n",
            "Average accuracy is  54.54545454545453\n",
            "\n",
            "Next trial starts--------------\n",
            "\n"
          ]
        },
        {
          "output_type": "stream",
          "name": "stderr",
          "text": [
            "[I 2023-08-13 19:00:44,279] Trial 4 finished with value: 0.5272727272727271 and parameters: {'criterion': 'gini', 'n_estimators': 358, 'random_state': 12, 'max_depth': 7, 'max_features': 0.6452655392286107}. Best is trial 3 with value: 0.5454545454545453.\n"
          ]
        },
        {
          "output_type": "stream",
          "name": "stdout",
          "text": [
            "\n",
            "All scores [0.8181818181818182, 0.45454545454545453, 0.45454545454545453, 0.36363636363636365, 0.6363636363636364, 0.45454545454545453, 0.6363636363636364, 0.7272727272727273, 0.2727272727272727, 0.45454545454545453]\n",
            "Minumun Accuracy: 27.27272727272727\n",
            "Maimum Accuracy: 81.81818181818183\n",
            "Average accuracy is  52.72727272727271\n",
            "\n",
            "Next trial starts--------------\n",
            "\n"
          ]
        },
        {
          "output_type": "stream",
          "name": "stderr",
          "text": [
            "[I 2023-08-13 19:00:47,670] Trial 5 finished with value: 0.509090909090909 and parameters: {'criterion': 'gini', 'n_estimators': 235, 'random_state': 78, 'max_depth': 11, 'max_features': 0.14179722258437455}. Best is trial 3 with value: 0.5454545454545453.\n"
          ]
        },
        {
          "output_type": "stream",
          "name": "stdout",
          "text": [
            "\n",
            "All scores [0.7272727272727273, 0.5454545454545454, 0.45454545454545453, 0.45454545454545453, 0.45454545454545453, 0.36363636363636365, 0.7272727272727273, 0.6363636363636364, 0.2727272727272727, 0.45454545454545453]\n",
            "Minumun Accuracy: 27.27272727272727\n",
            "Maimum Accuracy: 72.72727272727273\n",
            "Average accuracy is  50.90909090909091\n",
            "\n",
            "Next trial starts--------------\n",
            "\n"
          ]
        },
        {
          "output_type": "stream",
          "name": "stderr",
          "text": [
            "[I 2023-08-13 19:00:50,575] Trial 6 finished with value: 0.5181818181818181 and parameters: {'criterion': 'gini', 'n_estimators': 194, 'random_state': 14, 'max_depth': 14, 'max_features': 0.7411513724158935}. Best is trial 3 with value: 0.5454545454545453.\n"
          ]
        },
        {
          "output_type": "stream",
          "name": "stdout",
          "text": [
            "\n",
            "All scores [0.8181818181818182, 0.45454545454545453, 0.45454545454545453, 0.36363636363636365, 0.5454545454545454, 0.36363636363636365, 0.8181818181818182, 0.7272727272727273, 0.2727272727272727, 0.36363636363636365]\n",
            "Minumun Accuracy: 27.27272727272727\n",
            "Maimum Accuracy: 81.81818181818183\n",
            "Average accuracy is  51.818181818181806\n",
            "\n",
            "Next trial starts--------------\n",
            "\n"
          ]
        },
        {
          "output_type": "stream",
          "name": "stderr",
          "text": [
            "[I 2023-08-13 19:00:53,547] Trial 7 finished with value: 0.5181818181818181 and parameters: {'criterion': 'gini', 'n_estimators': 200, 'random_state': 61, 'max_depth': 8, 'max_features': 0.5297592362153972}. Best is trial 3 with value: 0.5454545454545453.\n"
          ]
        },
        {
          "output_type": "stream",
          "name": "stdout",
          "text": [
            "\n",
            "All scores [0.8181818181818182, 0.45454545454545453, 0.45454545454545453, 0.36363636363636365, 0.6363636363636364, 0.45454545454545453, 0.7272727272727273, 0.6363636363636364, 0.2727272727272727, 0.36363636363636365]\n",
            "Minumun Accuracy: 27.27272727272727\n",
            "Maimum Accuracy: 81.81818181818183\n",
            "Average accuracy is  51.818181818181806\n",
            "\n",
            "Next trial starts--------------\n",
            "\n"
          ]
        },
        {
          "output_type": "stream",
          "name": "stderr",
          "text": [
            "[I 2023-08-13 19:00:58,303] Trial 8 finished with value: 0.5545454545454545 and parameters: {'criterion': 'gini', 'n_estimators': 195, 'random_state': 80, 'max_depth': 6, 'max_features': 0.488477974604077}. Best is trial 8 with value: 0.5545454545454545.\n"
          ]
        },
        {
          "output_type": "stream",
          "name": "stdout",
          "text": [
            "\n",
            "All scores [0.9090909090909091, 0.5454545454545454, 0.45454545454545453, 0.36363636363636365, 0.5454545454545454, 0.5454545454545454, 0.6363636363636364, 0.9090909090909091, 0.36363636363636365, 0.2727272727272727]\n",
            "Minumun Accuracy: 27.27272727272727\n",
            "Maimum Accuracy: 90.9090909090909\n",
            "Average accuracy is  55.454545454545446\n",
            "\n",
            "Next trial starts--------------\n",
            "\n"
          ]
        },
        {
          "output_type": "stream",
          "name": "stderr",
          "text": [
            "[I 2023-08-13 19:01:05,161] Trial 9 finished with value: 0.5181818181818182 and parameters: {'criterion': 'gini', 'n_estimators': 372, 'random_state': 24, 'max_depth': 13, 'max_features': 0.8095133429206355}. Best is trial 8 with value: 0.5545454545454545.\n"
          ]
        },
        {
          "output_type": "stream",
          "name": "stdout",
          "text": [
            "\n",
            "All scores [0.8181818181818182, 0.45454545454545453, 0.45454545454545453, 0.36363636363636365, 0.5454545454545454, 0.36363636363636365, 0.7272727272727273, 0.7272727272727273, 0.2727272727272727, 0.45454545454545453]\n",
            "Minumun Accuracy: 27.27272727272727\n",
            "Maimum Accuracy: 81.81818181818183\n",
            "Average accuracy is  51.81818181818182\n",
            "\n",
            "Next trial starts--------------\n",
            "\n"
          ]
        },
        {
          "output_type": "stream",
          "name": "stderr",
          "text": [
            "[I 2023-08-13 19:01:12,311] Trial 10 finished with value: 0.609090909090909 and parameters: {'criterion': 'gini', 'n_estimators': 488, 'random_state': 100, 'max_depth': 3, 'max_features': 0.27678938352477395}. Best is trial 10 with value: 0.609090909090909.\n"
          ]
        },
        {
          "output_type": "stream",
          "name": "stdout",
          "text": [
            "\n",
            "All scores [0.8181818181818182, 0.45454545454545453, 0.5454545454545454, 0.36363636363636365, 0.8181818181818182, 0.6363636363636364, 0.7272727272727273, 0.9090909090909091, 0.45454545454545453, 0.36363636363636365]\n",
            "Minumun Accuracy: 36.36363636363637\n",
            "Maimum Accuracy: 90.9090909090909\n",
            "Average accuracy is  60.9090909090909\n",
            "\n",
            "Next trial starts--------------\n",
            "\n"
          ]
        },
        {
          "output_type": "stream",
          "name": "stderr",
          "text": [
            "[I 2023-08-13 19:01:23,433] Trial 11 finished with value: 0.5727272727272725 and parameters: {'criterion': 'gini', 'n_estimators': 494, 'random_state': 99, 'max_depth': 3, 'max_features': 0.2983115480835169}. Best is trial 10 with value: 0.609090909090909.\n"
          ]
        },
        {
          "output_type": "stream",
          "name": "stdout",
          "text": [
            "\n",
            "All scores [0.7272727272727273, 0.36363636363636365, 0.5454545454545454, 0.5454545454545454, 0.6363636363636364, 0.5454545454545454, 0.6363636363636364, 0.9090909090909091, 0.45454545454545453, 0.36363636363636365]\n",
            "Minumun Accuracy: 36.36363636363637\n",
            "Maimum Accuracy: 90.9090909090909\n",
            "Average accuracy is  57.27272727272725\n",
            "\n",
            "Next trial starts--------------\n",
            "\n"
          ]
        },
        {
          "output_type": "stream",
          "name": "stderr",
          "text": [
            "[I 2023-08-13 19:01:33,257] Trial 12 finished with value: 0.5909090909090908 and parameters: {'criterion': 'gini', 'n_estimators': 500, 'random_state': 96, 'max_depth': 3, 'max_features': 0.1776341103240238}. Best is trial 10 with value: 0.609090909090909.\n"
          ]
        },
        {
          "output_type": "stream",
          "name": "stdout",
          "text": [
            "\n",
            "All scores [0.7272727272727273, 0.45454545454545453, 0.5454545454545454, 0.5454545454545454, 0.6363636363636364, 0.6363636363636364, 0.6363636363636364, 0.9090909090909091, 0.45454545454545453, 0.36363636363636365]\n",
            "Minumun Accuracy: 36.36363636363637\n",
            "Maimum Accuracy: 90.9090909090909\n",
            "Average accuracy is  59.09090909090908\n",
            "\n",
            "Next trial starts--------------\n",
            "\n"
          ]
        },
        {
          "output_type": "stream",
          "name": "stderr",
          "text": [
            "[I 2023-08-13 19:01:42,214] Trial 13 finished with value: 0.5727272727272725 and parameters: {'criterion': 'gini', 'n_estimators': 490, 'random_state': 99, 'max_depth': 3, 'max_features': 0.2079915630665831}. Best is trial 10 with value: 0.609090909090909.\n"
          ]
        },
        {
          "output_type": "stream",
          "name": "stdout",
          "text": [
            "\n",
            "All scores [0.7272727272727273, 0.36363636363636365, 0.5454545454545454, 0.5454545454545454, 0.6363636363636364, 0.5454545454545454, 0.6363636363636364, 0.9090909090909091, 0.45454545454545453, 0.36363636363636365]\n",
            "Minumun Accuracy: 36.36363636363637\n",
            "Maimum Accuracy: 90.9090909090909\n",
            "Average accuracy is  57.27272727272725\n",
            "\n",
            "Next trial starts--------------\n",
            "\n"
          ]
        },
        {
          "output_type": "stream",
          "name": "stderr",
          "text": [
            "[I 2023-08-13 19:01:48,177] Trial 14 finished with value: 0.5909090909090908 and parameters: {'criterion': 'gini', 'n_estimators': 414, 'random_state': 34, 'max_depth': 5, 'max_features': 0.020310996521593155}. Best is trial 10 with value: 0.609090909090909.\n"
          ]
        },
        {
          "output_type": "stream",
          "name": "stdout",
          "text": [
            "\n",
            "All scores [0.9090909090909091, 0.5454545454545454, 0.45454545454545453, 0.36363636363636365, 0.6363636363636364, 0.6363636363636364, 0.6363636363636364, 0.9090909090909091, 0.45454545454545453, 0.36363636363636365]\n",
            "Minumun Accuracy: 36.36363636363637\n",
            "Maimum Accuracy: 90.9090909090909\n",
            "Average accuracy is  59.09090909090908\n",
            "\n",
            "Next trial starts--------------\n",
            "\n"
          ]
        },
        {
          "output_type": "stream",
          "name": "stderr",
          "text": [
            "[I 2023-08-13 19:01:57,552] Trial 15 finished with value: 0.5727272727272726 and parameters: {'criterion': 'gini', 'n_estimators': 423, 'random_state': 49, 'max_depth': 4, 'max_features': 0.24784374026063125}. Best is trial 10 with value: 0.609090909090909.\n"
          ]
        },
        {
          "output_type": "stream",
          "name": "stdout",
          "text": [
            "\n",
            "All scores [0.8181818181818182, 0.5454545454545454, 0.45454545454545453, 0.45454545454545453, 0.5454545454545454, 0.5454545454545454, 0.7272727272727273, 0.8181818181818182, 0.45454545454545453, 0.36363636363636365]\n",
            "Minumun Accuracy: 36.36363636363637\n",
            "Maimum Accuracy: 81.81818181818183\n",
            "Average accuracy is  57.272727272727266\n",
            "\n",
            "Next trial starts--------------\n",
            "\n"
          ]
        },
        {
          "output_type": "stream",
          "name": "stderr",
          "text": [
            "[I 2023-08-13 19:02:02,399] Trial 16 finished with value: 0.509090909090909 and parameters: {'criterion': 'gini', 'n_estimators': 329, 'random_state': 66, 'max_depth': 10, 'max_features': 0.13819773509015393}. Best is trial 10 with value: 0.609090909090909.\n"
          ]
        },
        {
          "output_type": "stream",
          "name": "stdout",
          "text": [
            "\n",
            "All scores [0.7272727272727273, 0.45454545454545453, 0.45454545454545453, 0.45454545454545453, 0.5454545454545454, 0.36363636363636365, 0.7272727272727273, 0.5454545454545454, 0.36363636363636365, 0.45454545454545453]\n",
            "Minumun Accuracy: 36.36363636363637\n",
            "Maimum Accuracy: 72.72727272727273\n",
            "Average accuracy is  50.90909090909091\n",
            "\n",
            "Next trial starts--------------\n",
            "\n"
          ]
        },
        {
          "output_type": "stream",
          "name": "stderr",
          "text": [
            "[I 2023-08-13 19:02:10,394] Trial 17 finished with value: 0.5727272727272726 and parameters: {'criterion': 'gini', 'n_estimators': 444, 'random_state': 96, 'max_depth': 5, 'max_features': 0.3262133538919033}. Best is trial 10 with value: 0.609090909090909.\n"
          ]
        },
        {
          "output_type": "stream",
          "name": "stdout",
          "text": [
            "\n",
            "All scores [0.8181818181818182, 0.5454545454545454, 0.45454545454545453, 0.5454545454545454, 0.6363636363636364, 0.45454545454545453, 0.6363636363636364, 0.8181818181818182, 0.45454545454545453, 0.36363636363636365]\n",
            "Minumun Accuracy: 36.36363636363637\n",
            "Maimum Accuracy: 81.81818181818183\n",
            "Average accuracy is  57.272727272727266\n",
            "\n",
            "Next trial starts--------------\n",
            "\n"
          ]
        },
        {
          "output_type": "stream",
          "name": "stderr",
          "text": [
            "[I 2023-08-13 19:02:16,253] Trial 18 finished with value: 0.5999999999999999 and parameters: {'criterion': 'gini', 'n_estimators': 296, 'random_state': 40, 'max_depth': 3, 'max_features': 0.18843021392014125}. Best is trial 10 with value: 0.609090909090909.\n"
          ]
        },
        {
          "output_type": "stream",
          "name": "stdout",
          "text": [
            "\n",
            "All scores [0.8181818181818182, 0.45454545454545453, 0.5454545454545454, 0.5454545454545454, 0.5454545454545454, 0.6363636363636364, 0.7272727272727273, 0.9090909090909091, 0.45454545454545453, 0.36363636363636365]\n",
            "Minumun Accuracy: 36.36363636363637\n",
            "Maimum Accuracy: 90.9090909090909\n",
            "Average accuracy is  59.999999999999986\n",
            "\n",
            "Next trial starts--------------\n",
            "\n"
          ]
        },
        {
          "output_type": "stream",
          "name": "stderr",
          "text": [
            "[I 2023-08-13 19:02:20,704] Trial 19 finished with value: 0.5999999999999999 and parameters: {'criterion': 'gini', 'n_estimators': 308, 'random_state': 40, 'max_depth': 5, 'max_features': 0.2952501725155612}. Best is trial 10 with value: 0.609090909090909.\n"
          ]
        },
        {
          "output_type": "stream",
          "name": "stdout",
          "text": [
            "\n",
            "All scores [0.8181818181818182, 0.5454545454545454, 0.45454545454545453, 0.5454545454545454, 0.6363636363636364, 0.6363636363636364, 0.6363636363636364, 0.9090909090909091, 0.45454545454545453, 0.36363636363636365]\n",
            "Minumun Accuracy: 36.36363636363637\n",
            "Maimum Accuracy: 90.9090909090909\n",
            "Average accuracy is  59.999999999999986\n",
            "\n",
            "Next trial starts--------------\n",
            "\n"
          ]
        },
        {
          "output_type": "stream",
          "name": "stderr",
          "text": [
            "[I 2023-08-13 19:02:24,771] Trial 20 finished with value: 0.4999999999999999 and parameters: {'criterion': 'gini', 'n_estimators': 267, 'random_state': 48, 'max_depth': 9, 'max_features': 0.08718295081185792}. Best is trial 10 with value: 0.609090909090909.\n"
          ]
        },
        {
          "output_type": "stream",
          "name": "stdout",
          "text": [
            "\n",
            "All scores [0.7272727272727273, 0.5454545454545454, 0.45454545454545453, 0.2727272727272727, 0.5454545454545454, 0.36363636363636365, 0.6363636363636364, 0.6363636363636364, 0.36363636363636365, 0.45454545454545453]\n",
            "Minumun Accuracy: 27.27272727272727\n",
            "Maimum Accuracy: 72.72727272727273\n",
            "Average accuracy is  49.999999999999986\n",
            "\n",
            "Next trial starts--------------\n",
            "\n"
          ]
        },
        {
          "output_type": "stream",
          "name": "stderr",
          "text": [
            "[I 2023-08-13 19:02:32,002] Trial 21 finished with value: 0.5909090909090908 and parameters: {'criterion': 'gini', 'n_estimators': 289, 'random_state': 37, 'max_depth': 5, 'max_features': 0.26244160403875166}. Best is trial 10 with value: 0.609090909090909.\n"
          ]
        },
        {
          "output_type": "stream",
          "name": "stdout",
          "text": [
            "\n",
            "All scores [0.7272727272727273, 0.5454545454545454, 0.45454545454545453, 0.45454545454545453, 0.7272727272727273, 0.6363636363636364, 0.6363636363636364, 0.8181818181818182, 0.45454545454545453, 0.45454545454545453]\n",
            "Minumun Accuracy: 45.45454545454545\n",
            "Maimum Accuracy: 81.81818181818183\n",
            "Average accuracy is  59.09090909090908\n",
            "\n",
            "Next trial starts--------------\n",
            "\n"
          ]
        },
        {
          "output_type": "stream",
          "name": "stderr",
          "text": [
            "[I 2023-08-13 19:02:36,525] Trial 22 finished with value: 0.609090909090909 and parameters: {'criterion': 'gini', 'n_estimators': 298, 'random_state': 35, 'max_depth': 4, 'max_features': 0.21395802299343736}. Best is trial 10 with value: 0.609090909090909.\n"
          ]
        },
        {
          "output_type": "stream",
          "name": "stdout",
          "text": [
            "\n",
            "All scores [0.8181818181818182, 0.45454545454545453, 0.45454545454545453, 0.45454545454545453, 0.8181818181818182, 0.6363636363636364, 0.6363636363636364, 1.0, 0.45454545454545453, 0.36363636363636365]\n",
            "Minumun Accuracy: 36.36363636363637\n",
            "Maimum Accuracy: 100.0\n",
            "Average accuracy is  60.9090909090909\n",
            "\n",
            "Next trial starts--------------\n",
            "\n"
          ]
        },
        {
          "output_type": "stream",
          "name": "stderr",
          "text": [
            "[I 2023-08-13 19:02:41,608] Trial 23 finished with value: 0.5999999999999999 and parameters: {'criterion': 'gini', 'n_estimators': 355, 'random_state': 26, 'max_depth': 4, 'max_features': 0.17815625117577344}. Best is trial 10 with value: 0.609090909090909.\n"
          ]
        },
        {
          "output_type": "stream",
          "name": "stdout",
          "text": [
            "\n",
            "All scores [0.9090909090909091, 0.5454545454545454, 0.45454545454545453, 0.45454545454545453, 0.5454545454545454, 0.6363636363636364, 0.7272727272727273, 0.9090909090909091, 0.45454545454545453, 0.36363636363636365]\n",
            "Minumun Accuracy: 36.36363636363637\n",
            "Maimum Accuracy: 90.9090909090909\n",
            "Average accuracy is  59.999999999999986\n",
            "\n",
            "Next trial starts--------------\n",
            "\n"
          ]
        },
        {
          "output_type": "stream",
          "name": "stderr",
          "text": [
            "[I 2023-08-13 19:02:47,420] Trial 24 finished with value: 0.5818181818181818 and parameters: {'criterion': 'gini', 'n_estimators': 257, 'random_state': 3, 'max_depth': 4, 'max_features': 0.10231964284074944}. Best is trial 10 with value: 0.609090909090909.\n"
          ]
        },
        {
          "output_type": "stream",
          "name": "stdout",
          "text": [
            "\n",
            "All scores [0.9090909090909091, 0.45454545454545453, 0.45454545454545453, 0.45454545454545453, 0.5454545454545454, 0.5454545454545454, 0.6363636363636364, 1.0, 0.5454545454545454, 0.2727272727272727]\n",
            "Minumun Accuracy: 27.27272727272727\n",
            "Maimum Accuracy: 100.0\n",
            "Average accuracy is  58.18181818181818\n",
            "\n",
            "Next trial starts--------------\n",
            "\n"
          ]
        },
        {
          "output_type": "stream",
          "name": "stderr",
          "text": [
            "[I 2023-08-13 19:02:50,814] Trial 25 finished with value: 0.6090909090909091 and parameters: {'criterion': 'gini', 'n_estimators': 133, 'random_state': 29, 'max_depth': 3, 'max_features': 0.2103191960897562}. Best is trial 25 with value: 0.6090909090909091.\n"
          ]
        },
        {
          "output_type": "stream",
          "name": "stdout",
          "text": [
            "\n",
            "All scores [0.7272727272727273, 0.5454545454545454, 0.5454545454545454, 0.45454545454545453, 0.6363636363636364, 0.6363636363636364, 0.7272727272727273, 1.0, 0.5454545454545454, 0.2727272727272727]\n",
            "Minumun Accuracy: 27.27272727272727\n",
            "Maimum Accuracy: 100.0\n",
            "Average accuracy is  60.909090909090914\n",
            "\n",
            "Next trial starts--------------\n",
            "\n"
          ]
        },
        {
          "output_type": "stream",
          "name": "stderr",
          "text": [
            "[I 2023-08-13 19:02:53,078] Trial 26 finished with value: 0.5454545454545454 and parameters: {'criterion': 'gini', 'n_estimators': 152, 'random_state': 27, 'max_depth': 6, 'max_features': 0.37892049866362376}. Best is trial 25 with value: 0.6090909090909091.\n"
          ]
        },
        {
          "output_type": "stream",
          "name": "stdout",
          "text": [
            "\n",
            "All scores [0.7272727272727273, 0.5454545454545454, 0.45454545454545453, 0.36363636363636365, 0.7272727272727273, 0.45454545454545453, 0.6363636363636364, 0.8181818181818182, 0.36363636363636365, 0.36363636363636365]\n",
            "Minumun Accuracy: 36.36363636363637\n",
            "Maimum Accuracy: 81.81818181818183\n",
            "Average accuracy is  54.54545454545454\n",
            "\n",
            "Next trial starts--------------\n",
            "\n"
          ]
        },
        {
          "output_type": "stream",
          "name": "stderr",
          "text": [
            "[I 2023-08-13 19:02:54,746] Trial 27 finished with value: 0.5727272727272726 and parameters: {'criterion': 'gini', 'n_estimators': 111, 'random_state': 17, 'max_depth': 4, 'max_features': 0.010017092434197461}. Best is trial 25 with value: 0.6090909090909091.\n"
          ]
        },
        {
          "output_type": "stream",
          "name": "stdout",
          "text": [
            "\n",
            "All scores [0.8181818181818182, 0.45454545454545453, 0.45454545454545453, 0.5454545454545454, 0.6363636363636364, 0.5454545454545454, 0.6363636363636364, 0.7272727272727273, 0.45454545454545453, 0.45454545454545453]\n",
            "Minumun Accuracy: 45.45454545454545\n",
            "Maimum Accuracy: 81.81818181818183\n",
            "Average accuracy is  57.272727272727266\n",
            "\n",
            "Next trial starts--------------\n",
            "\n"
          ]
        },
        {
          "output_type": "stream",
          "name": "stderr",
          "text": [
            "[I 2023-08-13 19:02:57,057] Trial 28 finished with value: 0.5727272727272725 and parameters: {'criterion': 'gini', 'n_estimators': 155, 'random_state': 56, 'max_depth': 6, 'max_features': 0.2471293119177972}. Best is trial 25 with value: 0.6090909090909091.\n"
          ]
        },
        {
          "output_type": "stream",
          "name": "stdout",
          "text": [
            "\n",
            "All scores [0.9090909090909091, 0.5454545454545454, 0.45454545454545453, 0.36363636363636365, 0.6363636363636364, 0.45454545454545453, 0.7272727272727273, 0.8181818181818182, 0.45454545454545453, 0.36363636363636365]\n",
            "Minumun Accuracy: 36.36363636363637\n",
            "Maimum Accuracy: 90.9090909090909\n",
            "Average accuracy is  57.27272727272725\n",
            "\n",
            "Next trial starts--------------\n",
            "\n"
          ]
        },
        {
          "output_type": "stream",
          "name": "stderr",
          "text": [
            "[I 2023-08-13 19:03:04,217] Trial 29 finished with value: 0.5272727272727272 and parameters: {'criterion': 'gini', 'n_estimators': 396, 'random_state': 0, 'max_depth': 8, 'max_features': 0.12878941185061654}. Best is trial 25 with value: 0.6090909090909091.\n"
          ]
        },
        {
          "output_type": "stream",
          "name": "stdout",
          "text": [
            "\n",
            "All scores [0.7272727272727273, 0.45454545454545453, 0.45454545454545453, 0.45454545454545453, 0.5454545454545454, 0.45454545454545453, 0.7272727272727273, 0.6363636363636364, 0.36363636363636365, 0.45454545454545453]\n",
            "Minumun Accuracy: 36.36363636363637\n",
            "Maimum Accuracy: 72.72727272727273\n",
            "Average accuracy is  52.72727272727272\n",
            "\n",
            "Next trial starts--------------\n",
            "\n"
          ]
        },
        {
          "output_type": "stream",
          "name": "stderr",
          "text": [
            "[I 2023-08-13 19:03:09,574] Trial 30 finished with value: 0.49090909090909085 and parameters: {'criterion': 'gini', 'n_estimators': 234, 'random_state': 32, 'max_depth': 15, 'max_features': 0.32810310435996054}. Best is trial 25 with value: 0.6090909090909091.\n"
          ]
        },
        {
          "output_type": "stream",
          "name": "stdout",
          "text": [
            "\n",
            "All scores [0.8181818181818182, 0.45454545454545453, 0.45454545454545453, 0.36363636363636365, 0.45454545454545453, 0.36363636363636365, 0.7272727272727273, 0.45454545454545453, 0.36363636363636365, 0.45454545454545453]\n",
            "Minumun Accuracy: 36.36363636363637\n",
            "Maimum Accuracy: 81.81818181818183\n",
            "Average accuracy is  49.090909090909086\n",
            "\n",
            "Next trial starts--------------\n",
            "\n"
          ]
        },
        {
          "output_type": "stream",
          "name": "stderr",
          "text": [
            "[I 2023-08-13 19:03:14,283] Trial 31 finished with value: 0.5999999999999999 and parameters: {'criterion': 'gini', 'n_estimators': 326, 'random_state': 45, 'max_depth': 3, 'max_features': 0.21184940800734572}. Best is trial 25 with value: 0.6090909090909091.\n"
          ]
        },
        {
          "output_type": "stream",
          "name": "stdout",
          "text": [
            "\n",
            "All scores [0.7272727272727273, 0.45454545454545453, 0.5454545454545454, 0.45454545454545453, 0.7272727272727273, 0.6363636363636364, 0.6363636363636364, 1.0, 0.45454545454545453, 0.36363636363636365]\n",
            "Minumun Accuracy: 36.36363636363637\n",
            "Maimum Accuracy: 100.0\n",
            "Average accuracy is  59.999999999999986\n",
            "\n",
            "Next trial starts--------------\n",
            "\n"
          ]
        },
        {
          "output_type": "stream",
          "name": "stderr",
          "text": [
            "[I 2023-08-13 19:03:21,923] Trial 32 finished with value: 0.5909090909090908 and parameters: {'criterion': 'gini', 'n_estimators': 447, 'random_state': 41, 'max_depth': 3, 'max_features': 0.0945999514856865}. Best is trial 25 with value: 0.6090909090909091.\n"
          ]
        },
        {
          "output_type": "stream",
          "name": "stdout",
          "text": [
            "\n",
            "All scores [0.7272727272727273, 0.45454545454545453, 0.5454545454545454, 0.45454545454545453, 0.7272727272727273, 0.6363636363636364, 0.6363636363636364, 0.9090909090909091, 0.45454545454545453, 0.36363636363636365]\n",
            "Minumun Accuracy: 36.36363636363637\n",
            "Maimum Accuracy: 90.9090909090909\n",
            "Average accuracy is  59.09090909090908\n",
            "\n",
            "Next trial starts--------------\n",
            "\n"
          ]
        },
        {
          "output_type": "stream",
          "name": "stderr",
          "text": [
            "[I 2023-08-13 19:03:28,247] Trial 33 finished with value: 0.5545454545454545 and parameters: {'criterion': 'gini', 'n_estimators': 289, 'random_state': 70, 'max_depth': 4, 'max_features': 0.19709318943570944}. Best is trial 25 with value: 0.6090909090909091.\n"
          ]
        },
        {
          "output_type": "stream",
          "name": "stdout",
          "text": [
            "\n",
            "All scores [0.7272727272727273, 0.36363636363636365, 0.45454545454545453, 0.45454545454545453, 0.7272727272727273, 0.5454545454545454, 0.6363636363636364, 0.8181818181818182, 0.45454545454545453, 0.36363636363636365]\n",
            "Minumun Accuracy: 36.36363636363637\n",
            "Maimum Accuracy: 81.81818181818183\n",
            "Average accuracy is  55.454545454545446\n",
            "\n",
            "Next trial starts--------------\n",
            "\n"
          ]
        },
        {
          "output_type": "stream",
          "name": "stderr",
          "text": [
            "[I 2023-08-13 19:03:29,447] Trial 34 finished with value: 0.5909090909090907 and parameters: {'criterion': 'gini', 'n_estimators': 75, 'random_state': 19, 'max_depth': 3, 'max_features': 0.05125250665227621}. Best is trial 25 with value: 0.6090909090909091.\n"
          ]
        },
        {
          "output_type": "stream",
          "name": "stdout",
          "text": [
            "\n",
            "All scores [0.8181818181818182, 0.6363636363636364, 0.36363636363636365, 0.45454545454545453, 0.6363636363636364, 0.5454545454545454, 0.6363636363636364, 1.0, 0.45454545454545453, 0.36363636363636365]\n",
            "Minumun Accuracy: 36.36363636363637\n",
            "Maimum Accuracy: 100.0\n",
            "Average accuracy is  59.09090909090907\n",
            "\n",
            "Next trial starts--------------\n",
            "\n"
          ]
        },
        {
          "output_type": "stream",
          "name": "stderr",
          "text": [
            "[I 2023-08-13 19:03:32,787] Trial 35 finished with value: 0.5999999999999999 and parameters: {'criterion': 'gini', 'n_estimators': 230, 'random_state': 29, 'max_depth': 4, 'max_features': 0.3725054489229231}. Best is trial 25 with value: 0.6090909090909091.\n"
          ]
        },
        {
          "output_type": "stream",
          "name": "stdout",
          "text": [
            "\n",
            "All scores [0.8181818181818182, 0.5454545454545454, 0.5454545454545454, 0.45454545454545453, 0.6363636363636364, 0.5454545454545454, 0.6363636363636364, 1.0, 0.45454545454545453, 0.36363636363636365]\n",
            "Minumun Accuracy: 36.36363636363637\n",
            "Maimum Accuracy: 100.0\n",
            "Average accuracy is  59.999999999999986\n",
            "\n",
            "Next trial starts--------------\n",
            "\n"
          ]
        },
        {
          "output_type": "stream",
          "name": "stderr",
          "text": [
            "[I 2023-08-13 19:03:33,779] Trial 36 finished with value: 0.509090909090909 and parameters: {'criterion': 'gini', 'n_estimators': 62, 'random_state': 54, 'max_depth': 5, 'max_features': 0.4390701408349095}. Best is trial 25 with value: 0.6090909090909091.\n"
          ]
        },
        {
          "output_type": "stream",
          "name": "stdout",
          "text": [
            "\n",
            "All scores [0.6363636363636364, 0.45454545454545453, 0.45454545454545453, 0.45454545454545453, 0.6363636363636364, 0.45454545454545453, 0.6363636363636364, 0.6363636363636364, 0.36363636363636365, 0.36363636363636365]\n",
            "Minumun Accuracy: 36.36363636363637\n",
            "Maimum Accuracy: 63.63636363636363\n",
            "Average accuracy is  50.90909090909091\n",
            "\n",
            "Next trial starts--------------\n",
            "\n"
          ]
        },
        {
          "output_type": "stream",
          "name": "stderr",
          "text": [
            "[I 2023-08-13 19:03:35,492] Trial 37 finished with value: 0.5272727272727272 and parameters: {'criterion': 'gini', 'n_estimators': 112, 'random_state': 87, 'max_depth': 7, 'max_features': 0.2530723523990048}. Best is trial 25 with value: 0.6090909090909091.\n"
          ]
        },
        {
          "output_type": "stream",
          "name": "stdout",
          "text": [
            "\n",
            "All scores [0.7272727272727273, 0.45454545454545453, 0.45454545454545453, 0.36363636363636365, 0.5454545454545454, 0.45454545454545453, 0.6363636363636364, 0.8181818181818182, 0.36363636363636365, 0.45454545454545453]\n",
            "Minumun Accuracy: 36.36363636363637\n",
            "Maimum Accuracy: 81.81818181818183\n",
            "Average accuracy is  52.72727272727272\n",
            "\n",
            "Next trial starts--------------\n",
            "\n"
          ]
        },
        {
          "output_type": "stream",
          "name": "stderr",
          "text": [
            "[I 2023-08-13 19:03:42,644] Trial 38 finished with value: 0.5909090909090908 and parameters: {'criterion': 'gini', 'n_estimators': 339, 'random_state': 8, 'max_depth': 3, 'max_features': 0.14728012382072742}. Best is trial 25 with value: 0.6090909090909091.\n"
          ]
        },
        {
          "output_type": "stream",
          "name": "stdout",
          "text": [
            "\n",
            "All scores [0.7272727272727273, 0.45454545454545453, 0.5454545454545454, 0.45454545454545453, 0.7272727272727273, 0.6363636363636364, 0.6363636363636364, 0.9090909090909091, 0.45454545454545453, 0.36363636363636365]\n",
            "Minumun Accuracy: 36.36363636363637\n",
            "Maimum Accuracy: 90.9090909090909\n",
            "Average accuracy is  59.09090909090908\n",
            "\n",
            "Next trial starts--------------\n",
            "\n"
          ]
        },
        {
          "output_type": "stream",
          "name": "stderr",
          "text": [
            "[I 2023-08-13 19:03:46,054] Trial 39 finished with value: 0.5363636363636363 and parameters: {'criterion': 'gini', 'n_estimators': 163, 'random_state': 21, 'max_depth': 6, 'max_features': 0.07644299103791119}. Best is trial 25 with value: 0.6090909090909091.\n"
          ]
        },
        {
          "output_type": "stream",
          "name": "stdout",
          "text": [
            "\n",
            "All scores [0.8181818181818182, 0.45454545454545453, 0.45454545454545453, 0.36363636363636365, 0.5454545454545454, 0.5454545454545454, 0.6363636363636364, 0.7272727272727273, 0.45454545454545453, 0.36363636363636365]\n",
            "Minumun Accuracy: 36.36363636363637\n",
            "Maimum Accuracy: 81.81818181818183\n",
            "Average accuracy is  53.636363636363626\n",
            "\n",
            "Next trial starts--------------\n",
            "\n"
          ]
        },
        {
          "output_type": "stream",
          "name": "stderr",
          "text": [
            "[I 2023-08-13 19:03:49,260] Trial 40 finished with value: 0.5272727272727272 and parameters: {'criterion': 'gini', 'n_estimators': 212, 'random_state': 74, 'max_depth': 7, 'max_features': 0.434982896321112}. Best is trial 25 with value: 0.6090909090909091.\n"
          ]
        },
        {
          "output_type": "stream",
          "name": "stdout",
          "text": [
            "\n",
            "All scores [0.7272727272727273, 0.45454545454545453, 0.45454545454545453, 0.36363636363636365, 0.6363636363636364, 0.45454545454545453, 0.7272727272727273, 0.6363636363636364, 0.36363636363636365, 0.45454545454545453]\n",
            "Minumun Accuracy: 36.36363636363637\n",
            "Maimum Accuracy: 72.72727272727273\n",
            "Average accuracy is  52.72727272727272\n",
            "\n",
            "Next trial starts--------------\n",
            "\n"
          ]
        },
        {
          "output_type": "stream",
          "name": "stderr",
          "text": [
            "[I 2023-08-13 19:03:53,715] Trial 41 finished with value: 0.5999999999999999 and parameters: {'criterion': 'gini', 'n_estimators': 302, 'random_state': 40, 'max_depth': 5, 'max_features': 0.30127447835910726}. Best is trial 25 with value: 0.6090909090909091.\n"
          ]
        },
        {
          "output_type": "stream",
          "name": "stdout",
          "text": [
            "\n",
            "All scores [0.8181818181818182, 0.5454545454545454, 0.45454545454545453, 0.5454545454545454, 0.6363636363636364, 0.6363636363636364, 0.6363636363636364, 0.9090909090909091, 0.45454545454545453, 0.36363636363636365]\n",
            "Minumun Accuracy: 36.36363636363637\n",
            "Maimum Accuracy: 90.9090909090909\n",
            "Average accuracy is  59.999999999999986\n",
            "\n",
            "Next trial starts--------------\n",
            "\n"
          ]
        },
        {
          "output_type": "stream",
          "name": "stderr",
          "text": [
            "[I 2023-08-13 19:04:00,592] Trial 42 finished with value: 0.5909090909090909 and parameters: {'criterion': 'gini', 'n_estimators': 310, 'random_state': 41, 'max_depth': 4, 'max_features': 0.28504860266533627}. Best is trial 25 with value: 0.6090909090909091.\n"
          ]
        },
        {
          "output_type": "stream",
          "name": "stdout",
          "text": [
            "\n",
            "All scores [0.8181818181818182, 0.5454545454545454, 0.45454545454545453, 0.45454545454545453, 0.7272727272727273, 0.5454545454545454, 0.6363636363636364, 0.9090909090909091, 0.45454545454545453, 0.36363636363636365]\n",
            "Minumun Accuracy: 36.36363636363637\n",
            "Maimum Accuracy: 90.9090909090909\n",
            "Average accuracy is  59.09090909090909\n",
            "\n",
            "Next trial starts--------------\n",
            "\n"
          ]
        },
        {
          "output_type": "stream",
          "name": "stderr",
          "text": [
            "[I 2023-08-13 19:04:07,368] Trial 43 finished with value: 0.5818181818181818 and parameters: {'criterion': 'gini', 'n_estimators': 386, 'random_state': 34, 'max_depth': 3, 'max_features': 0.3252639480611502}. Best is trial 25 with value: 0.6090909090909091.\n"
          ]
        },
        {
          "output_type": "stream",
          "name": "stdout",
          "text": [
            "\n",
            "All scores [0.7272727272727273, 0.45454545454545453, 0.5454545454545454, 0.45454545454545453, 0.6363636363636364, 0.6363636363636364, 0.6363636363636364, 0.9090909090909091, 0.45454545454545453, 0.36363636363636365]\n",
            "Minumun Accuracy: 36.36363636363637\n",
            "Maimum Accuracy: 90.9090909090909\n",
            "Average accuracy is  58.18181818181818\n",
            "\n",
            "Next trial starts--------------\n",
            "\n"
          ]
        },
        {
          "output_type": "stream",
          "name": "stderr",
          "text": [
            "[I 2023-08-13 19:04:11,221] Trial 44 finished with value: 0.5909090909090908 and parameters: {'criterion': 'gini', 'n_estimators': 256, 'random_state': 53, 'max_depth': 5, 'max_features': 0.21880183058289876}. Best is trial 25 with value: 0.6090909090909091.\n"
          ]
        },
        {
          "output_type": "stream",
          "name": "stdout",
          "text": [
            "\n",
            "All scores [0.8181818181818182, 0.5454545454545454, 0.45454545454545453, 0.45454545454545453, 0.7272727272727273, 0.6363636363636364, 0.6363636363636364, 0.9090909090909091, 0.45454545454545453, 0.2727272727272727]\n",
            "Minumun Accuracy: 27.27272727272727\n",
            "Maimum Accuracy: 90.9090909090909\n",
            "Average accuracy is  59.09090909090908\n",
            "\n",
            "Next trial starts--------------\n",
            "\n"
          ]
        },
        {
          "output_type": "stream",
          "name": "stderr",
          "text": [
            "[I 2023-08-13 19:04:18,511] Trial 45 finished with value: 0.5999999999999999 and parameters: {'criterion': 'gini', 'n_estimators': 348, 'random_state': 47, 'max_depth': 4, 'max_features': 0.16739347369553642}. Best is trial 25 with value: 0.6090909090909091.\n"
          ]
        },
        {
          "output_type": "stream",
          "name": "stdout",
          "text": [
            "\n",
            "All scores [0.9090909090909091, 0.45454545454545453, 0.45454545454545453, 0.45454545454545453, 0.6363636363636364, 0.6363636363636364, 0.7272727272727273, 0.9090909090909091, 0.45454545454545453, 0.36363636363636365]\n",
            "Minumun Accuracy: 36.36363636363637\n",
            "Maimum Accuracy: 90.9090909090909\n",
            "Average accuracy is  59.999999999999986\n",
            "\n",
            "Next trial starts--------------\n",
            "\n"
          ]
        },
        {
          "output_type": "stream",
          "name": "stderr",
          "text": [
            "[I 2023-08-13 19:04:22,450] Trial 46 finished with value: 0.6090909090909091 and parameters: {'criterion': 'gini', 'n_estimators': 177, 'random_state': 62, 'max_depth': 3, 'max_features': 0.19230429725577727}. Best is trial 25 with value: 0.6090909090909091.\n"
          ]
        },
        {
          "output_type": "stream",
          "name": "stdout",
          "text": [
            "\n",
            "All scores [0.8181818181818182, 0.5454545454545454, 0.5454545454545454, 0.45454545454545453, 0.6363636363636364, 0.6363636363636364, 0.7272727272727273, 0.9090909090909091, 0.45454545454545453, 0.36363636363636365]\n",
            "Minumun Accuracy: 36.36363636363637\n",
            "Maimum Accuracy: 90.9090909090909\n",
            "Average accuracy is  60.909090909090914\n",
            "\n",
            "Next trial starts--------------\n",
            "\n"
          ]
        },
        {
          "output_type": "stream",
          "name": "stderr",
          "text": [
            "[I 2023-08-13 19:04:24,364] Trial 47 finished with value: 0.5909090909090909 and parameters: {'criterion': 'gini', 'n_estimators': 124, 'random_state': 91, 'max_depth': 3, 'max_features': 0.12945828705501894}. Best is trial 25 with value: 0.6090909090909091.\n"
          ]
        },
        {
          "output_type": "stream",
          "name": "stdout",
          "text": [
            "\n",
            "All scores [0.6363636363636364, 0.5454545454545454, 0.45454545454545453, 0.6363636363636364, 0.6363636363636364, 0.6363636363636364, 0.6363636363636364, 0.9090909090909091, 0.5454545454545454, 0.2727272727272727]\n",
            "Minumun Accuracy: 27.27272727272727\n",
            "Maimum Accuracy: 90.9090909090909\n",
            "Average accuracy is  59.09090909090909\n",
            "\n",
            "Next trial starts--------------\n",
            "\n"
          ]
        },
        {
          "output_type": "stream",
          "name": "stderr",
          "text": [
            "[I 2023-08-13 19:04:26,995] Trial 48 finished with value: 0.5909090909090907 and parameters: {'criterion': 'gini', 'n_estimators': 176, 'random_state': 67, 'max_depth': 3, 'max_features': 0.21693834445236246}. Best is trial 25 with value: 0.6090909090909091.\n"
          ]
        },
        {
          "output_type": "stream",
          "name": "stdout",
          "text": [
            "\n",
            "All scores [0.7272727272727273, 0.5454545454545454, 0.5454545454545454, 0.5454545454545454, 0.6363636363636364, 0.5454545454545454, 0.6363636363636364, 0.9090909090909091, 0.45454545454545453, 0.36363636363636365]\n",
            "Minumun Accuracy: 36.36363636363637\n",
            "Maimum Accuracy: 90.9090909090909\n",
            "Average accuracy is  59.09090909090907\n",
            "\n",
            "Next trial starts--------------\n",
            "\n"
          ]
        },
        {
          "output_type": "stream",
          "name": "stderr",
          "text": [
            "[I 2023-08-13 19:04:35,907] Trial 49 finished with value: 0.47272727272727266 and parameters: {'criterion': 'gini', 'n_estimators': 469, 'random_state': 62, 'max_depth': 12, 'max_features': 0.16500981126511224}. Best is trial 25 with value: 0.6090909090909091.\n"
          ]
        },
        {
          "output_type": "stream",
          "name": "stdout",
          "text": [
            "\n",
            "All scores [0.7272727272727273, 0.45454545454545453, 0.45454545454545453, 0.2727272727272727, 0.5454545454545454, 0.36363636363636365, 0.7272727272727273, 0.45454545454545453, 0.2727272727272727, 0.45454545454545453]\n",
            "Minumun Accuracy: 27.27272727272727\n",
            "Maimum Accuracy: 72.72727272727273\n",
            "Average accuracy is  47.272727272727266\n",
            "\n",
            "Next trial starts--------------\n",
            "\n",
            "best score is 0.6090909090909091\n",
            "best paramater for rf is {'criterion': 'gini', 'n_estimators': 133, 'random_state': 29, 'max_depth': 3, 'max_features': 0.2103191960897562}\n"
          ]
        }
      ],
      "source": [
        "#using optuna\n",
        "\n",
        "optimization_function = partial(\n",
        "    optimize_2,\n",
        "    x=X,\n",
        "    y=y\n",
        ")\n",
        "\n",
        "study = optuna.create_study(direction= \"maximize\")\n",
        "study.optimize(optimization_function, n_trials = 50 )\n",
        "optimal_param = study.best_params\n",
        "print(\"best score is\",study.best_value)\n",
        "print(\"best paramater for rf is\",optimal_param)\n"
      ],
      "id": "75fd8e46"
    },
    {
      "cell_type": "code",
      "source": [
        "#n_jobs=-1,criterion='gini',n_estimators=133,max_depth=3,max_features=0.2103191960897562, random_state = 29\n",
        "#,criterion='gini',n_estimators=133,max_depth=3,max_features=0.2103191960897562, random_state: 29"
      ],
      "metadata": {
        "id": "2oVsWdTPEhVL"
      },
      "id": "2oVsWdTPEhVL",
      "execution_count": null,
      "outputs": []
    },
    {
      "cell_type": "code",
      "source": [
        "knn_model = KNeighborsClassifier(n_neighbors=5)\n",
        "knn_model.fit(X_train,y_train)"
      ],
      "metadata": {
        "id": "k3EhZemHIhdh",
        "colab": {
          "base_uri": "https://localhost:8080/",
          "height": 74
        },
        "outputId": "3af444ab-31fb-46a5-ba7d-512771b2d0de"
      },
      "id": "k3EhZemHIhdh",
      "execution_count": 62,
      "outputs": [
        {
          "output_type": "execute_result",
          "data": {
            "text/plain": [
              "KNeighborsClassifier()"
            ],
            "text/html": [
              "<style>#sk-container-id-3 {color: black;background-color: white;}#sk-container-id-3 pre{padding: 0;}#sk-container-id-3 div.sk-toggleable {background-color: white;}#sk-container-id-3 label.sk-toggleable__label {cursor: pointer;display: block;width: 100%;margin-bottom: 0;padding: 0.3em;box-sizing: border-box;text-align: center;}#sk-container-id-3 label.sk-toggleable__label-arrow:before {content: \"▸\";float: left;margin-right: 0.25em;color: #696969;}#sk-container-id-3 label.sk-toggleable__label-arrow:hover:before {color: black;}#sk-container-id-3 div.sk-estimator:hover label.sk-toggleable__label-arrow:before {color: black;}#sk-container-id-3 div.sk-toggleable__content {max-height: 0;max-width: 0;overflow: hidden;text-align: left;background-color: #f0f8ff;}#sk-container-id-3 div.sk-toggleable__content pre {margin: 0.2em;color: black;border-radius: 0.25em;background-color: #f0f8ff;}#sk-container-id-3 input.sk-toggleable__control:checked~div.sk-toggleable__content {max-height: 200px;max-width: 100%;overflow: auto;}#sk-container-id-3 input.sk-toggleable__control:checked~label.sk-toggleable__label-arrow:before {content: \"▾\";}#sk-container-id-3 div.sk-estimator input.sk-toggleable__control:checked~label.sk-toggleable__label {background-color: #d4ebff;}#sk-container-id-3 div.sk-label input.sk-toggleable__control:checked~label.sk-toggleable__label {background-color: #d4ebff;}#sk-container-id-3 input.sk-hidden--visually {border: 0;clip: rect(1px 1px 1px 1px);clip: rect(1px, 1px, 1px, 1px);height: 1px;margin: -1px;overflow: hidden;padding: 0;position: absolute;width: 1px;}#sk-container-id-3 div.sk-estimator {font-family: monospace;background-color: #f0f8ff;border: 1px dotted black;border-radius: 0.25em;box-sizing: border-box;margin-bottom: 0.5em;}#sk-container-id-3 div.sk-estimator:hover {background-color: #d4ebff;}#sk-container-id-3 div.sk-parallel-item::after {content: \"\";width: 100%;border-bottom: 1px solid gray;flex-grow: 1;}#sk-container-id-3 div.sk-label:hover label.sk-toggleable__label {background-color: #d4ebff;}#sk-container-id-3 div.sk-serial::before {content: \"\";position: absolute;border-left: 1px solid gray;box-sizing: border-box;top: 0;bottom: 0;left: 50%;z-index: 0;}#sk-container-id-3 div.sk-serial {display: flex;flex-direction: column;align-items: center;background-color: white;padding-right: 0.2em;padding-left: 0.2em;position: relative;}#sk-container-id-3 div.sk-item {position: relative;z-index: 1;}#sk-container-id-3 div.sk-parallel {display: flex;align-items: stretch;justify-content: center;background-color: white;position: relative;}#sk-container-id-3 div.sk-item::before, #sk-container-id-3 div.sk-parallel-item::before {content: \"\";position: absolute;border-left: 1px solid gray;box-sizing: border-box;top: 0;bottom: 0;left: 50%;z-index: -1;}#sk-container-id-3 div.sk-parallel-item {display: flex;flex-direction: column;z-index: 1;position: relative;background-color: white;}#sk-container-id-3 div.sk-parallel-item:first-child::after {align-self: flex-end;width: 50%;}#sk-container-id-3 div.sk-parallel-item:last-child::after {align-self: flex-start;width: 50%;}#sk-container-id-3 div.sk-parallel-item:only-child::after {width: 0;}#sk-container-id-3 div.sk-dashed-wrapped {border: 1px dashed gray;margin: 0 0.4em 0.5em 0.4em;box-sizing: border-box;padding-bottom: 0.4em;background-color: white;}#sk-container-id-3 div.sk-label label {font-family: monospace;font-weight: bold;display: inline-block;line-height: 1.2em;}#sk-container-id-3 div.sk-label-container {text-align: center;}#sk-container-id-3 div.sk-container {/* jupyter's `normalize.less` sets `[hidden] { display: none; }` but bootstrap.min.css set `[hidden] { display: none !important; }` so we also need the `!important` here to be able to override the default hidden behavior on the sphinx rendered scikit-learn.org. See: https://github.com/scikit-learn/scikit-learn/issues/21755 */display: inline-block !important;position: relative;}#sk-container-id-3 div.sk-text-repr-fallback {display: none;}</style><div id=\"sk-container-id-3\" class=\"sk-top-container\"><div class=\"sk-text-repr-fallback\"><pre>KNeighborsClassifier()</pre><b>In a Jupyter environment, please rerun this cell to show the HTML representation or trust the notebook. <br />On GitHub, the HTML representation is unable to render, please try loading this page with nbviewer.org.</b></div><div class=\"sk-container\" hidden><div class=\"sk-item\"><div class=\"sk-estimator sk-toggleable\"><input class=\"sk-toggleable__control sk-hidden--visually\" id=\"sk-estimator-id-3\" type=\"checkbox\" checked><label for=\"sk-estimator-id-3\" class=\"sk-toggleable__label sk-toggleable__label-arrow\">KNeighborsClassifier</label><div class=\"sk-toggleable__content\"><pre>KNeighborsClassifier()</pre></div></div></div></div></div>"
            ]
          },
          "metadata": {},
          "execution_count": 62
        }
      ]
    },
    {
      "cell_type": "code",
      "source": [
        "y_pred = knn_model.predict(X_test)"
      ],
      "metadata": {
        "id": "AIX6kvJWRPoq"
      },
      "id": "AIX6kvJWRPoq",
      "execution_count": 63,
      "outputs": []
    },
    {
      "cell_type": "code",
      "source": [
        "print(classification_report(y_test,y_pred))"
      ],
      "metadata": {
        "colab": {
          "base_uri": "https://localhost:8080/"
        },
        "id": "81tb5Yz0SDo-",
        "outputId": "561829b2-703a-478e-8503-46229b180af3"
      },
      "id": "81tb5Yz0SDo-",
      "execution_count": 65,
      "outputs": [
        {
          "output_type": "stream",
          "name": "stdout",
          "text": [
            "              precision    recall  f1-score   support\n",
            "\n",
            "           0       0.33      0.38      0.35         8\n",
            "           1       0.62      0.57      0.59        14\n",
            "\n",
            "    accuracy                           0.50        22\n",
            "   macro avg       0.47      0.47      0.47        22\n",
            "weighted avg       0.51      0.50      0.51        22\n",
            "\n"
          ]
        }
      ]
    },
    {
      "cell_type": "code",
      "source": [],
      "metadata": {
        "id": "vy_rEnUTSLK7"
      },
      "id": "vy_rEnUTSLK7",
      "execution_count": null,
      "outputs": []
    }
  ],
  "metadata": {
    "colab": {
      "provenance": [],
      "include_colab_link": true
    },
    "kernelspec": {
      "display_name": "Python 3",
      "name": "python3"
    },
    "language_info": {
      "codemirror_mode": {
        "name": "ipython",
        "version": 3
      },
      "file_extension": ".py",
      "mimetype": "text/x-python",
      "name": "python",
      "nbconvert_exporter": "python",
      "pygments_lexer": "ipython3",
      "version": "3.9.13"
    },
    "accelerator": "TPU"
  },
  "nbformat": 4,
  "nbformat_minor": 5
}