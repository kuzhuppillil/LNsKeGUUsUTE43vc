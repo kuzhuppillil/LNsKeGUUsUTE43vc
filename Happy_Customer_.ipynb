{
  "cells": [
    {
      "cell_type": "markdown",
      "metadata": {
        "id": "view-in-github",
        "colab_type": "text"
      },
      "source": [
        "<a href=\"https://colab.research.google.com/github/kuzhuppillil/LNsKeGUUsUTE43vc/blob/main/Happy_Customer_.ipynb\" target=\"_parent\"><img src=\"https://colab.research.google.com/assets/colab-badge.svg\" alt=\"Open In Colab\"/></a>"
      ]
    },
    {
      "cell_type": "code",
      "execution_count": 19,
      "metadata": {
        "id": "7507b40f"
      },
      "outputs": [],
      "source": [
        "import pandas as pd\n",
        "import numpy as np\n",
        "import matplotlib.pyplot as plt\n",
        "import seaborn as sns\n",
        "\n",
        "from sklearn.model_selection import train_test_split\n",
        "from sklearn.linear_model import LogisticRegression\n",
        "from sklearn.neighbors import KNeighborsClassifier\n",
        "from sklearn.tree import DecisionTreeClassifier\n",
        "from sklearn.ensemble import RandomForestClassifier\n",
        "from sklearn.naive_bayes import GaussianNB\n",
        "from xgboost import XGBClassifier\n",
        "from lightgbm import LGBMClassifier\n",
        "from sklearn.svm import SVC\n",
        "\n",
        "\n",
        "from sklearn.preprocessing import StandardScaler\n",
        "from sklearn.metrics import accuracy_score\n",
        "from sklearn.metrics import f1_score\n",
        "from sklearn.metrics import confusion_matrix\n",
        "\n",
        "from sklearn.model_selection import KFold\n",
        "from sklearn.model_selection import StratifiedKFold\n",
        "from sklearn.model_selection import cross_val_score\n",
        "\n",
        "#import warnings\n",
        "#warnings.filterwarnings(\"ignore\")\n",
        "\n",
        "from sklearn.model_selection import GridSearchCV\n",
        "\n",
        "from functools import partial\n",
        "\n",
        "from hyperopt import hp, fmin, tpe, Trials\n",
        "from hyperopt.pyll.base import scope\n",
        "\n",
        "\n",
        "import optuna"
      ],
      "id": "7507b40f"
    },
    {
      "cell_type": "code",
      "source": [
        "from google.colab import drive\n",
        "drive.mount('/content/drive')"
      ],
      "metadata": {
        "colab": {
          "base_uri": "https://localhost:8080/"
        },
        "id": "J7-2PpmwndnS",
        "outputId": "8e7ded50-0c1a-40ce-dcd2-4bedb18f5391"
      },
      "id": "J7-2PpmwndnS",
      "execution_count": 4,
      "outputs": [
        {
          "output_type": "stream",
          "name": "stdout",
          "text": [
            "Mounted at /content/drive\n"
          ]
        }
      ]
    },
    {
      "cell_type": "code",
      "execution_count": 5,
      "metadata": {
        "colab": {
          "base_uri": "https://localhost:8080/",
          "height": 300
        },
        "id": "45469d3c",
        "outputId": "664df912-b36a-4c2e-cf44-bd963dd8a590"
      },
      "outputs": [
        {
          "output_type": "execute_result",
          "data": {
            "text/plain": [
              "                Y          X1          X2          X3          X4          X5  \\\n",
              "count  126.000000  126.000000  126.000000  126.000000  126.000000  126.000000   \n",
              "mean     0.547619    4.333333    2.531746    3.309524    3.746032    3.650794   \n",
              "std      0.499714    0.800000    1.114892    1.023440    0.875776    1.147641   \n",
              "min      0.000000    1.000000    1.000000    1.000000    1.000000    1.000000   \n",
              "25%      0.000000    4.000000    2.000000    3.000000    3.000000    3.000000   \n",
              "50%      1.000000    5.000000    3.000000    3.000000    4.000000    4.000000   \n",
              "75%      1.000000    5.000000    3.000000    4.000000    4.000000    4.000000   \n",
              "max      1.000000    5.000000    5.000000    5.000000    5.000000    5.000000   \n",
              "\n",
              "               X6  \n",
              "count  126.000000  \n",
              "mean     4.253968  \n",
              "std      0.809311  \n",
              "min      1.000000  \n",
              "25%      4.000000  \n",
              "50%      4.000000  \n",
              "75%      5.000000  \n",
              "max      5.000000  "
            ],
            "text/html": [
              "\n",
              "\n",
              "  <div id=\"df-b1061a9a-ce94-4dbf-9978-3a604ad8f12b\">\n",
              "    <div class=\"colab-df-container\">\n",
              "      <div>\n",
              "<style scoped>\n",
              "    .dataframe tbody tr th:only-of-type {\n",
              "        vertical-align: middle;\n",
              "    }\n",
              "\n",
              "    .dataframe tbody tr th {\n",
              "        vertical-align: top;\n",
              "    }\n",
              "\n",
              "    .dataframe thead th {\n",
              "        text-align: right;\n",
              "    }\n",
              "</style>\n",
              "<table border=\"1\" class=\"dataframe\">\n",
              "  <thead>\n",
              "    <tr style=\"text-align: right;\">\n",
              "      <th></th>\n",
              "      <th>Y</th>\n",
              "      <th>X1</th>\n",
              "      <th>X2</th>\n",
              "      <th>X3</th>\n",
              "      <th>X4</th>\n",
              "      <th>X5</th>\n",
              "      <th>X6</th>\n",
              "    </tr>\n",
              "  </thead>\n",
              "  <tbody>\n",
              "    <tr>\n",
              "      <th>count</th>\n",
              "      <td>126.000000</td>\n",
              "      <td>126.000000</td>\n",
              "      <td>126.000000</td>\n",
              "      <td>126.000000</td>\n",
              "      <td>126.000000</td>\n",
              "      <td>126.000000</td>\n",
              "      <td>126.000000</td>\n",
              "    </tr>\n",
              "    <tr>\n",
              "      <th>mean</th>\n",
              "      <td>0.547619</td>\n",
              "      <td>4.333333</td>\n",
              "      <td>2.531746</td>\n",
              "      <td>3.309524</td>\n",
              "      <td>3.746032</td>\n",
              "      <td>3.650794</td>\n",
              "      <td>4.253968</td>\n",
              "    </tr>\n",
              "    <tr>\n",
              "      <th>std</th>\n",
              "      <td>0.499714</td>\n",
              "      <td>0.800000</td>\n",
              "      <td>1.114892</td>\n",
              "      <td>1.023440</td>\n",
              "      <td>0.875776</td>\n",
              "      <td>1.147641</td>\n",
              "      <td>0.809311</td>\n",
              "    </tr>\n",
              "    <tr>\n",
              "      <th>min</th>\n",
              "      <td>0.000000</td>\n",
              "      <td>1.000000</td>\n",
              "      <td>1.000000</td>\n",
              "      <td>1.000000</td>\n",
              "      <td>1.000000</td>\n",
              "      <td>1.000000</td>\n",
              "      <td>1.000000</td>\n",
              "    </tr>\n",
              "    <tr>\n",
              "      <th>25%</th>\n",
              "      <td>0.000000</td>\n",
              "      <td>4.000000</td>\n",
              "      <td>2.000000</td>\n",
              "      <td>3.000000</td>\n",
              "      <td>3.000000</td>\n",
              "      <td>3.000000</td>\n",
              "      <td>4.000000</td>\n",
              "    </tr>\n",
              "    <tr>\n",
              "      <th>50%</th>\n",
              "      <td>1.000000</td>\n",
              "      <td>5.000000</td>\n",
              "      <td>3.000000</td>\n",
              "      <td>3.000000</td>\n",
              "      <td>4.000000</td>\n",
              "      <td>4.000000</td>\n",
              "      <td>4.000000</td>\n",
              "    </tr>\n",
              "    <tr>\n",
              "      <th>75%</th>\n",
              "      <td>1.000000</td>\n",
              "      <td>5.000000</td>\n",
              "      <td>3.000000</td>\n",
              "      <td>4.000000</td>\n",
              "      <td>4.000000</td>\n",
              "      <td>4.000000</td>\n",
              "      <td>5.000000</td>\n",
              "    </tr>\n",
              "    <tr>\n",
              "      <th>max</th>\n",
              "      <td>1.000000</td>\n",
              "      <td>5.000000</td>\n",
              "      <td>5.000000</td>\n",
              "      <td>5.000000</td>\n",
              "      <td>5.000000</td>\n",
              "      <td>5.000000</td>\n",
              "      <td>5.000000</td>\n",
              "    </tr>\n",
              "  </tbody>\n",
              "</table>\n",
              "</div>\n",
              "      <button class=\"colab-df-convert\" onclick=\"convertToInteractive('df-b1061a9a-ce94-4dbf-9978-3a604ad8f12b')\"\n",
              "              title=\"Convert this dataframe to an interactive table.\"\n",
              "              style=\"display:none;\">\n",
              "\n",
              "  <svg xmlns=\"http://www.w3.org/2000/svg\" height=\"24px\"viewBox=\"0 0 24 24\"\n",
              "       width=\"24px\">\n",
              "    <path d=\"M0 0h24v24H0V0z\" fill=\"none\"/>\n",
              "    <path d=\"M18.56 5.44l.94 2.06.94-2.06 2.06-.94-2.06-.94-.94-2.06-.94 2.06-2.06.94zm-11 1L8.5 8.5l.94-2.06 2.06-.94-2.06-.94L8.5 2.5l-.94 2.06-2.06.94zm10 10l.94 2.06.94-2.06 2.06-.94-2.06-.94-.94-2.06-.94 2.06-2.06.94z\"/><path d=\"M17.41 7.96l-1.37-1.37c-.4-.4-.92-.59-1.43-.59-.52 0-1.04.2-1.43.59L10.3 9.45l-7.72 7.72c-.78.78-.78 2.05 0 2.83L4 21.41c.39.39.9.59 1.41.59.51 0 1.02-.2 1.41-.59l7.78-7.78 2.81-2.81c.8-.78.8-2.07 0-2.86zM5.41 20L4 18.59l7.72-7.72 1.47 1.35L5.41 20z\"/>\n",
              "  </svg>\n",
              "      </button>\n",
              "\n",
              "\n",
              "\n",
              "    <div id=\"df-234d6fd6-6dfe-440c-b553-3459b250cfba\">\n",
              "      <button class=\"colab-df-quickchart\" onclick=\"quickchart('df-234d6fd6-6dfe-440c-b553-3459b250cfba')\"\n",
              "              title=\"Suggest charts.\"\n",
              "              style=\"display:none;\">\n",
              "\n",
              "<svg xmlns=\"http://www.w3.org/2000/svg\" height=\"24px\"viewBox=\"0 0 24 24\"\n",
              "     width=\"24px\">\n",
              "    <g>\n",
              "        <path d=\"M19 3H5c-1.1 0-2 .9-2 2v14c0 1.1.9 2 2 2h14c1.1 0 2-.9 2-2V5c0-1.1-.9-2-2-2zM9 17H7v-7h2v7zm4 0h-2V7h2v10zm4 0h-2v-4h2v4z\"/>\n",
              "    </g>\n",
              "</svg>\n",
              "      </button>\n",
              "    </div>\n",
              "\n",
              "<style>\n",
              "  .colab-df-quickchart {\n",
              "    background-color: #E8F0FE;\n",
              "    border: none;\n",
              "    border-radius: 50%;\n",
              "    cursor: pointer;\n",
              "    display: none;\n",
              "    fill: #1967D2;\n",
              "    height: 32px;\n",
              "    padding: 0 0 0 0;\n",
              "    width: 32px;\n",
              "  }\n",
              "\n",
              "  .colab-df-quickchart:hover {\n",
              "    background-color: #E2EBFA;\n",
              "    box-shadow: 0px 1px 2px rgba(60, 64, 67, 0.3), 0px 1px 3px 1px rgba(60, 64, 67, 0.15);\n",
              "    fill: #174EA6;\n",
              "  }\n",
              "\n",
              "  [theme=dark] .colab-df-quickchart {\n",
              "    background-color: #3B4455;\n",
              "    fill: #D2E3FC;\n",
              "  }\n",
              "\n",
              "  [theme=dark] .colab-df-quickchart:hover {\n",
              "    background-color: #434B5C;\n",
              "    box-shadow: 0px 1px 3px 1px rgba(0, 0, 0, 0.15);\n",
              "    filter: drop-shadow(0px 1px 2px rgba(0, 0, 0, 0.3));\n",
              "    fill: #FFFFFF;\n",
              "  }\n",
              "</style>\n",
              "\n",
              "    <script>\n",
              "      async function quickchart(key) {\n",
              "        const containerElement = document.querySelector('#' + key);\n",
              "        const charts = await google.colab.kernel.invokeFunction(\n",
              "            'suggestCharts', [key], {});\n",
              "      }\n",
              "    </script>\n",
              "\n",
              "      <script>\n",
              "\n",
              "function displayQuickchartButton(domScope) {\n",
              "  let quickchartButtonEl =\n",
              "    domScope.querySelector('#df-234d6fd6-6dfe-440c-b553-3459b250cfba button.colab-df-quickchart');\n",
              "  quickchartButtonEl.style.display =\n",
              "    google.colab.kernel.accessAllowed ? 'block' : 'none';\n",
              "}\n",
              "\n",
              "        displayQuickchartButton(document);\n",
              "      </script>\n",
              "      <style>\n",
              "    .colab-df-container {\n",
              "      display:flex;\n",
              "      flex-wrap:wrap;\n",
              "      gap: 12px;\n",
              "    }\n",
              "\n",
              "    .colab-df-convert {\n",
              "      background-color: #E8F0FE;\n",
              "      border: none;\n",
              "      border-radius: 50%;\n",
              "      cursor: pointer;\n",
              "      display: none;\n",
              "      fill: #1967D2;\n",
              "      height: 32px;\n",
              "      padding: 0 0 0 0;\n",
              "      width: 32px;\n",
              "    }\n",
              "\n",
              "    .colab-df-convert:hover {\n",
              "      background-color: #E2EBFA;\n",
              "      box-shadow: 0px 1px 2px rgba(60, 64, 67, 0.3), 0px 1px 3px 1px rgba(60, 64, 67, 0.15);\n",
              "      fill: #174EA6;\n",
              "    }\n",
              "\n",
              "    [theme=dark] .colab-df-convert {\n",
              "      background-color: #3B4455;\n",
              "      fill: #D2E3FC;\n",
              "    }\n",
              "\n",
              "    [theme=dark] .colab-df-convert:hover {\n",
              "      background-color: #434B5C;\n",
              "      box-shadow: 0px 1px 3px 1px rgba(0, 0, 0, 0.15);\n",
              "      filter: drop-shadow(0px 1px 2px rgba(0, 0, 0, 0.3));\n",
              "      fill: #FFFFFF;\n",
              "    }\n",
              "  </style>\n",
              "\n",
              "      <script>\n",
              "        const buttonEl =\n",
              "          document.querySelector('#df-b1061a9a-ce94-4dbf-9978-3a604ad8f12b button.colab-df-convert');\n",
              "        buttonEl.style.display =\n",
              "          google.colab.kernel.accessAllowed ? 'block' : 'none';\n",
              "\n",
              "        async function convertToInteractive(key) {\n",
              "          const element = document.querySelector('#df-b1061a9a-ce94-4dbf-9978-3a604ad8f12b');\n",
              "          const dataTable =\n",
              "            await google.colab.kernel.invokeFunction('convertToInteractive',\n",
              "                                                     [key], {});\n",
              "          if (!dataTable) return;\n",
              "\n",
              "          const docLinkHtml = 'Like what you see? Visit the ' +\n",
              "            '<a target=\"_blank\" href=https://colab.research.google.com/notebooks/data_table.ipynb>data table notebook</a>'\n",
              "            + ' to learn more about interactive tables.';\n",
              "          element.innerHTML = '';\n",
              "          dataTable['output_type'] = 'display_data';\n",
              "          await google.colab.output.renderOutput(dataTable, element);\n",
              "          const docLink = document.createElement('div');\n",
              "          docLink.innerHTML = docLinkHtml;\n",
              "          element.appendChild(docLink);\n",
              "        }\n",
              "      </script>\n",
              "    </div>\n",
              "  </div>\n"
            ]
          },
          "metadata": {},
          "execution_count": 5
        }
      ],
      "source": [
        "df = pd.read_csv(\"/content/drive/Othercomputers/My Laptop/Apziva Projects/Happy Customers/ACME-HappinessSurvey2020.csv\")\n",
        "df.describe(include='all')"
      ],
      "id": "45469d3c"
    },
    {
      "cell_type": "markdown",
      "metadata": {
        "id": "d856171d"
      },
      "source": [
        "Data Description:\n",
        "\n",
        "Attributes X1 to X6 indicate the responses for each question and have values from 1 to 5 where the smaller number indicates less and the higher number indicates more towards the answer.\n",
        "\n",
        "\t\tY = target attribute (Y) with values indicating 0 (unhappy) and 1 (happy) customers (Target Variable - Happiness Index)\n",
        "\t\tX1 = my order was delivered on time  (Delivery Time)\n",
        "\t\tX2 = contents of my order was as I expected (Product Quality)\n",
        "\t\tX3 = I ordered everything I wanted to order (Product Availability)\n",
        "\t\tX4 = I paid a good price for my order (Order Pricing)\n",
        "\t\tX5 = I am satisfied with my courier (Courier Feedback)\n",
        "        X6 = the app makes ordering easy for me (Application Feedback)"
      ],
      "id": "d856171d"
    },
    {
      "cell_type": "code",
      "execution_count": 7,
      "metadata": {
        "id": "fe498667",
        "outputId": "dc87735d-e2ad-4fd8-a2b0-e3adb6dd45dd",
        "colab": {
          "base_uri": "https://localhost:8080/"
        }
      },
      "outputs": [
        {
          "output_type": "stream",
          "name": "stdout",
          "text": [
            "<class 'pandas.core.frame.DataFrame'>\n",
            "RangeIndex: 126 entries, 0 to 125\n",
            "Data columns (total 7 columns):\n",
            " #   Column  Non-Null Count  Dtype\n",
            "---  ------  --------------  -----\n",
            " 0   Y       126 non-null    int64\n",
            " 1   X1      126 non-null    int64\n",
            " 2   X2      126 non-null    int64\n",
            " 3   X3      126 non-null    int64\n",
            " 4   X4      126 non-null    int64\n",
            " 5   X5      126 non-null    int64\n",
            " 6   X6      126 non-null    int64\n",
            "dtypes: int64(7)\n",
            "memory usage: 7.0 KB\n"
          ]
        }
      ],
      "source": [
        "df.info()"
      ],
      "id": "fe498667"
    },
    {
      "cell_type": "markdown",
      "metadata": {
        "id": "b3c0a10a"
      },
      "source": [
        "Observations:\n",
        "\n",
        "The dataset does not contain any null values and outliers.\n"
      ],
      "id": "b3c0a10a"
    },
    {
      "cell_type": "code",
      "execution_count": 8,
      "metadata": {
        "id": "14c13e14",
        "outputId": "11bcc6e5-1ec8-406d-b7d3-e831d95bc037",
        "colab": {
          "base_uri": "https://localhost:8080/"
        }
      },
      "outputs": [
        {
          "output_type": "execute_result",
          "data": {
            "text/plain": [
              "110"
            ]
          },
          "metadata": {},
          "execution_count": 8
        }
      ],
      "source": [
        "len(df.drop_duplicates())"
      ],
      "id": "14c13e14"
    },
    {
      "cell_type": "markdown",
      "metadata": {
        "id": "48bffdd5"
      },
      "source": [
        "Observations:\n",
        "\n",
        "There are 16 duplicates present in the dataset which need to be removed."
      ],
      "id": "48bffdd5"
    },
    {
      "cell_type": "code",
      "execution_count": 9,
      "metadata": {
        "id": "c739834c",
        "outputId": "893a9820-7023-41bb-fb96-237970e1b47a",
        "colab": {
          "base_uri": "https://localhost:8080/",
          "height": 424
        }
      },
      "outputs": [
        {
          "output_type": "execute_result",
          "data": {
            "text/plain": [
              "     Y  X1  X2  X3  X4  X5  X6\n",
              "0    0   3   3   3   4   2   4\n",
              "1    0   3   2   3   5   4   3\n",
              "2    1   5   3   3   3   3   5\n",
              "3    0   5   4   3   3   3   5\n",
              "4    1   5   5   3   5   5   5\n",
              "..  ..  ..  ..  ..  ..  ..  ..\n",
              "105  0   4   4   4   4   1   3\n",
              "106  1   5   2   3   4   4   3\n",
              "107  1   5   2   3   4   2   5\n",
              "108  0   4   3   3   4   4   5\n",
              "109  0   5   3   2   5   5   5\n",
              "\n",
              "[110 rows x 7 columns]"
            ],
            "text/html": [
              "\n",
              "\n",
              "  <div id=\"df-1927e58c-7bee-4520-a640-3627b38f798e\">\n",
              "    <div class=\"colab-df-container\">\n",
              "      <div>\n",
              "<style scoped>\n",
              "    .dataframe tbody tr th:only-of-type {\n",
              "        vertical-align: middle;\n",
              "    }\n",
              "\n",
              "    .dataframe tbody tr th {\n",
              "        vertical-align: top;\n",
              "    }\n",
              "\n",
              "    .dataframe thead th {\n",
              "        text-align: right;\n",
              "    }\n",
              "</style>\n",
              "<table border=\"1\" class=\"dataframe\">\n",
              "  <thead>\n",
              "    <tr style=\"text-align: right;\">\n",
              "      <th></th>\n",
              "      <th>Y</th>\n",
              "      <th>X1</th>\n",
              "      <th>X2</th>\n",
              "      <th>X3</th>\n",
              "      <th>X4</th>\n",
              "      <th>X5</th>\n",
              "      <th>X6</th>\n",
              "    </tr>\n",
              "  </thead>\n",
              "  <tbody>\n",
              "    <tr>\n",
              "      <th>0</th>\n",
              "      <td>0</td>\n",
              "      <td>3</td>\n",
              "      <td>3</td>\n",
              "      <td>3</td>\n",
              "      <td>4</td>\n",
              "      <td>2</td>\n",
              "      <td>4</td>\n",
              "    </tr>\n",
              "    <tr>\n",
              "      <th>1</th>\n",
              "      <td>0</td>\n",
              "      <td>3</td>\n",
              "      <td>2</td>\n",
              "      <td>3</td>\n",
              "      <td>5</td>\n",
              "      <td>4</td>\n",
              "      <td>3</td>\n",
              "    </tr>\n",
              "    <tr>\n",
              "      <th>2</th>\n",
              "      <td>1</td>\n",
              "      <td>5</td>\n",
              "      <td>3</td>\n",
              "      <td>3</td>\n",
              "      <td>3</td>\n",
              "      <td>3</td>\n",
              "      <td>5</td>\n",
              "    </tr>\n",
              "    <tr>\n",
              "      <th>3</th>\n",
              "      <td>0</td>\n",
              "      <td>5</td>\n",
              "      <td>4</td>\n",
              "      <td>3</td>\n",
              "      <td>3</td>\n",
              "      <td>3</td>\n",
              "      <td>5</td>\n",
              "    </tr>\n",
              "    <tr>\n",
              "      <th>4</th>\n",
              "      <td>1</td>\n",
              "      <td>5</td>\n",
              "      <td>5</td>\n",
              "      <td>3</td>\n",
              "      <td>5</td>\n",
              "      <td>5</td>\n",
              "      <td>5</td>\n",
              "    </tr>\n",
              "    <tr>\n",
              "      <th>...</th>\n",
              "      <td>...</td>\n",
              "      <td>...</td>\n",
              "      <td>...</td>\n",
              "      <td>...</td>\n",
              "      <td>...</td>\n",
              "      <td>...</td>\n",
              "      <td>...</td>\n",
              "    </tr>\n",
              "    <tr>\n",
              "      <th>105</th>\n",
              "      <td>0</td>\n",
              "      <td>4</td>\n",
              "      <td>4</td>\n",
              "      <td>4</td>\n",
              "      <td>4</td>\n",
              "      <td>1</td>\n",
              "      <td>3</td>\n",
              "    </tr>\n",
              "    <tr>\n",
              "      <th>106</th>\n",
              "      <td>1</td>\n",
              "      <td>5</td>\n",
              "      <td>2</td>\n",
              "      <td>3</td>\n",
              "      <td>4</td>\n",
              "      <td>4</td>\n",
              "      <td>3</td>\n",
              "    </tr>\n",
              "    <tr>\n",
              "      <th>107</th>\n",
              "      <td>1</td>\n",
              "      <td>5</td>\n",
              "      <td>2</td>\n",
              "      <td>3</td>\n",
              "      <td>4</td>\n",
              "      <td>2</td>\n",
              "      <td>5</td>\n",
              "    </tr>\n",
              "    <tr>\n",
              "      <th>108</th>\n",
              "      <td>0</td>\n",
              "      <td>4</td>\n",
              "      <td>3</td>\n",
              "      <td>3</td>\n",
              "      <td>4</td>\n",
              "      <td>4</td>\n",
              "      <td>5</td>\n",
              "    </tr>\n",
              "    <tr>\n",
              "      <th>109</th>\n",
              "      <td>0</td>\n",
              "      <td>5</td>\n",
              "      <td>3</td>\n",
              "      <td>2</td>\n",
              "      <td>5</td>\n",
              "      <td>5</td>\n",
              "      <td>5</td>\n",
              "    </tr>\n",
              "  </tbody>\n",
              "</table>\n",
              "<p>110 rows × 7 columns</p>\n",
              "</div>\n",
              "      <button class=\"colab-df-convert\" onclick=\"convertToInteractive('df-1927e58c-7bee-4520-a640-3627b38f798e')\"\n",
              "              title=\"Convert this dataframe to an interactive table.\"\n",
              "              style=\"display:none;\">\n",
              "\n",
              "  <svg xmlns=\"http://www.w3.org/2000/svg\" height=\"24px\"viewBox=\"0 0 24 24\"\n",
              "       width=\"24px\">\n",
              "    <path d=\"M0 0h24v24H0V0z\" fill=\"none\"/>\n",
              "    <path d=\"M18.56 5.44l.94 2.06.94-2.06 2.06-.94-2.06-.94-.94-2.06-.94 2.06-2.06.94zm-11 1L8.5 8.5l.94-2.06 2.06-.94-2.06-.94L8.5 2.5l-.94 2.06-2.06.94zm10 10l.94 2.06.94-2.06 2.06-.94-2.06-.94-.94-2.06-.94 2.06-2.06.94z\"/><path d=\"M17.41 7.96l-1.37-1.37c-.4-.4-.92-.59-1.43-.59-.52 0-1.04.2-1.43.59L10.3 9.45l-7.72 7.72c-.78.78-.78 2.05 0 2.83L4 21.41c.39.39.9.59 1.41.59.51 0 1.02-.2 1.41-.59l7.78-7.78 2.81-2.81c.8-.78.8-2.07 0-2.86zM5.41 20L4 18.59l7.72-7.72 1.47 1.35L5.41 20z\"/>\n",
              "  </svg>\n",
              "      </button>\n",
              "\n",
              "\n",
              "\n",
              "    <div id=\"df-36dea83c-e5ec-4b15-b4a4-57c2869532ec\">\n",
              "      <button class=\"colab-df-quickchart\" onclick=\"quickchart('df-36dea83c-e5ec-4b15-b4a4-57c2869532ec')\"\n",
              "              title=\"Suggest charts.\"\n",
              "              style=\"display:none;\">\n",
              "\n",
              "<svg xmlns=\"http://www.w3.org/2000/svg\" height=\"24px\"viewBox=\"0 0 24 24\"\n",
              "     width=\"24px\">\n",
              "    <g>\n",
              "        <path d=\"M19 3H5c-1.1 0-2 .9-2 2v14c0 1.1.9 2 2 2h14c1.1 0 2-.9 2-2V5c0-1.1-.9-2-2-2zM9 17H7v-7h2v7zm4 0h-2V7h2v10zm4 0h-2v-4h2v4z\"/>\n",
              "    </g>\n",
              "</svg>\n",
              "      </button>\n",
              "    </div>\n",
              "\n",
              "<style>\n",
              "  .colab-df-quickchart {\n",
              "    background-color: #E8F0FE;\n",
              "    border: none;\n",
              "    border-radius: 50%;\n",
              "    cursor: pointer;\n",
              "    display: none;\n",
              "    fill: #1967D2;\n",
              "    height: 32px;\n",
              "    padding: 0 0 0 0;\n",
              "    width: 32px;\n",
              "  }\n",
              "\n",
              "  .colab-df-quickchart:hover {\n",
              "    background-color: #E2EBFA;\n",
              "    box-shadow: 0px 1px 2px rgba(60, 64, 67, 0.3), 0px 1px 3px 1px rgba(60, 64, 67, 0.15);\n",
              "    fill: #174EA6;\n",
              "  }\n",
              "\n",
              "  [theme=dark] .colab-df-quickchart {\n",
              "    background-color: #3B4455;\n",
              "    fill: #D2E3FC;\n",
              "  }\n",
              "\n",
              "  [theme=dark] .colab-df-quickchart:hover {\n",
              "    background-color: #434B5C;\n",
              "    box-shadow: 0px 1px 3px 1px rgba(0, 0, 0, 0.15);\n",
              "    filter: drop-shadow(0px 1px 2px rgba(0, 0, 0, 0.3));\n",
              "    fill: #FFFFFF;\n",
              "  }\n",
              "</style>\n",
              "\n",
              "    <script>\n",
              "      async function quickchart(key) {\n",
              "        const containerElement = document.querySelector('#' + key);\n",
              "        const charts = await google.colab.kernel.invokeFunction(\n",
              "            'suggestCharts', [key], {});\n",
              "      }\n",
              "    </script>\n",
              "\n",
              "      <script>\n",
              "\n",
              "function displayQuickchartButton(domScope) {\n",
              "  let quickchartButtonEl =\n",
              "    domScope.querySelector('#df-36dea83c-e5ec-4b15-b4a4-57c2869532ec button.colab-df-quickchart');\n",
              "  quickchartButtonEl.style.display =\n",
              "    google.colab.kernel.accessAllowed ? 'block' : 'none';\n",
              "}\n",
              "\n",
              "        displayQuickchartButton(document);\n",
              "      </script>\n",
              "      <style>\n",
              "    .colab-df-container {\n",
              "      display:flex;\n",
              "      flex-wrap:wrap;\n",
              "      gap: 12px;\n",
              "    }\n",
              "\n",
              "    .colab-df-convert {\n",
              "      background-color: #E8F0FE;\n",
              "      border: none;\n",
              "      border-radius: 50%;\n",
              "      cursor: pointer;\n",
              "      display: none;\n",
              "      fill: #1967D2;\n",
              "      height: 32px;\n",
              "      padding: 0 0 0 0;\n",
              "      width: 32px;\n",
              "    }\n",
              "\n",
              "    .colab-df-convert:hover {\n",
              "      background-color: #E2EBFA;\n",
              "      box-shadow: 0px 1px 2px rgba(60, 64, 67, 0.3), 0px 1px 3px 1px rgba(60, 64, 67, 0.15);\n",
              "      fill: #174EA6;\n",
              "    }\n",
              "\n",
              "    [theme=dark] .colab-df-convert {\n",
              "      background-color: #3B4455;\n",
              "      fill: #D2E3FC;\n",
              "    }\n",
              "\n",
              "    [theme=dark] .colab-df-convert:hover {\n",
              "      background-color: #434B5C;\n",
              "      box-shadow: 0px 1px 3px 1px rgba(0, 0, 0, 0.15);\n",
              "      filter: drop-shadow(0px 1px 2px rgba(0, 0, 0, 0.3));\n",
              "      fill: #FFFFFF;\n",
              "    }\n",
              "  </style>\n",
              "\n",
              "      <script>\n",
              "        const buttonEl =\n",
              "          document.querySelector('#df-1927e58c-7bee-4520-a640-3627b38f798e button.colab-df-convert');\n",
              "        buttonEl.style.display =\n",
              "          google.colab.kernel.accessAllowed ? 'block' : 'none';\n",
              "\n",
              "        async function convertToInteractive(key) {\n",
              "          const element = document.querySelector('#df-1927e58c-7bee-4520-a640-3627b38f798e');\n",
              "          const dataTable =\n",
              "            await google.colab.kernel.invokeFunction('convertToInteractive',\n",
              "                                                     [key], {});\n",
              "          if (!dataTable) return;\n",
              "\n",
              "          const docLinkHtml = 'Like what you see? Visit the ' +\n",
              "            '<a target=\"_blank\" href=https://colab.research.google.com/notebooks/data_table.ipynb>data table notebook</a>'\n",
              "            + ' to learn more about interactive tables.';\n",
              "          element.innerHTML = '';\n",
              "          dataTable['output_type'] = 'display_data';\n",
              "          await google.colab.output.renderOutput(dataTable, element);\n",
              "          const docLink = document.createElement('div');\n",
              "          docLink.innerHTML = docLinkHtml;\n",
              "          element.appendChild(docLink);\n",
              "        }\n",
              "      </script>\n",
              "    </div>\n",
              "  </div>\n"
            ]
          },
          "metadata": {},
          "execution_count": 9
        }
      ],
      "source": [
        "df.drop_duplicates(inplace = True)\n",
        "df.reset_index(drop= True, inplace = True)\n",
        "df"
      ],
      "id": "c739834c"
    },
    {
      "cell_type": "markdown",
      "metadata": {
        "id": "4fe67927"
      },
      "source": [
        "# EDA"
      ],
      "id": "4fe67927"
    },
    {
      "cell_type": "code",
      "execution_count": 10,
      "metadata": {
        "id": "4d0026f3",
        "outputId": "2145332c-d18d-4dbb-9005-2d8db18603ab",
        "colab": {
          "base_uri": "https://localhost:8080/",
          "height": 468
        }
      },
      "outputs": [
        {
          "output_type": "display_data",
          "data": {
            "text/plain": [
              "<Figure size 1000x500 with 2 Axes>"
            ],
            "image/png": "[encoded data removed]"
          },
          "metadata": {}
        }
      ],
      "source": [
        "#checking correlation strengh\n",
        "plt.figure(figsize=(10,5))\n",
        "sns.heatmap(df.corr(), cmap=\"coolwarm\" , annot = True )\n",
        "plt.title(\"Correlation Heatmap\")\n",
        "plt.show()"
      ],
      "id": "4d0026f3"
    },
    {
      "cell_type": "markdown",
      "metadata": {
        "id": "adeb724b"
      },
      "source": [],
      "id": "adeb724b"
    },
    {
      "cell_type": "markdown",
      "metadata": {
        "id": "559a36bf"
      },
      "source": [
        "X1 (Delivery time) and X5 (Courier feedback) shows a stronger correlation in comparison to the remaining features.\n",
        "\n",
        "X2 (Product Quality) and X4 (Order pricing) shows the least correlation for predicting customer satisfaction.\n",
        "\n",
        "\n",
        "Multivariate:\n",
        "\n",
        "Correlation between Y and other Attributes:\n",
        "\n",
        "\t• The highest positive correlation with the target variable Y is observed for X1 (Delivery Time) with a correlation coefficient of 0.286.\n",
        "\t• X5 (Courier Feedback) and X6 (Application Feedback) also show low positive correlations with the target Y, with coefficients of 0.213 and 0.137 respectively.\n",
        "\t• Among the attributes, X2 (Product Quality) has the lowest negative correlation (close to zero) with the target Y.\n",
        "    • The other attributes (X3, X4) also show low positive correlations with the target.\n",
        "    \n",
        "    \n",
        "Correlation between Attributes Themselves:\n",
        "\n",
        "\t• There is a moderate positive correlation between X1 (Delivery Time) and X6 (Application Feedback), suggesting that customers who rate delivery time positively are likely to find the app easy to use for ordering.\n",
        "\t• X1 (Delivery Time) has a negligible positive correlation with X2 (Product Quality) and X4 (Order Pricing), indicating that customers satisfied with delivery time might also perceive better product quality and pricing.\n",
        "\t• X2 (Product Quality) and X5 (Courier Feedback) have a negligible positive correlation, suggesting that customers who are satisfied with product quality might also have positive feedback about couriers.\n",
        "\t• X4 (Order Pricing) and X5 (Courier Feedback) have a weak positive correlation, indicating that customers satisfied with pricing might also have positive feedback about couriers.\n",
        "    •X4 (Order Pricing) and X6 (Application Feedback) have a weak positive correlation, suggesting that customers who consider pricing as good might also find the app easy to use.\n",
        "    \n",
        "    Note: Except for X1 and X2, the coorelation between the other attributes are extremely weak so their dependencies cannot be guaranteed."
      ],
      "id": "559a36bf"
    },
    {
      "cell_type": "code",
      "execution_count": 11,
      "metadata": {
        "id": "0e494015",
        "outputId": "0b5134c7-b453-404d-d510-4158ab27534a",
        "colab": {
          "base_uri": "https://localhost:8080/",
          "height": 1000
        }
      },
      "outputs": [
        {
          "output_type": "stream",
          "name": "stderr",
          "text": [
            "/usr/local/lib/python3.10/dist-packages/seaborn/axisgrid.py:118: UserWarning: The figure layout has changed to tight\n",
            "  self._figure.tight_layout(*args, **kwargs)\n"
          ]
        },
        {
          "output_type": "display_data",
          "data": {
            "text/plain": [
              "<Figure size 700x700 with 0 Axes>"
            ]
          },
          "metadata": {}
        },
        {
          "output_type": "display_data",
          "data": {
            "text/plain": [
              "<Figure size 1750x1750 with 56 Axes>"
            ],
            "image/png": "[encoded data removed]"
          },
          "metadata": {}
        }
      ],
      "source": [
        "plt.figure(figsize=(7,7))\n",
        "sns.pairplot(df)\n",
        "plt.show()\n"
      ],
      "id": "0e494015"
    },
    {
      "cell_type": "code",
      "execution_count": 12,
      "metadata": {
        "id": "a6f17fd3",
        "outputId": "2772285c-2e9f-4be2-b64c-bbbea090c0d1",
        "colab": {
          "base_uri": "https://localhost:8080/"
        }
      },
      "outputs": [
        {
          "output_type": "stream",
          "name": "stdout",
          "text": [
            "\n",
            "Value counts of each value for X1:\n",
            " 5    55\n",
            "4    36\n",
            "3    18\n",
            "1     1\n",
            "Name: X1, dtype: int64\n",
            "\n",
            "Value counts of each value for X2:\n",
            " 3    37\n",
            "2    30\n",
            "1    23\n",
            "4    15\n",
            "5     5\n",
            "Name: X2, dtype: int64\n",
            "\n",
            "Value counts of each value for X3:\n",
            " 3    50\n",
            "4    27\n",
            "5    14\n",
            "2    13\n",
            "1     6\n",
            "Name: X3, dtype: int64\n",
            "\n",
            "Value counts of each value for X4:\n",
            " 4    46\n",
            "3    35\n",
            "5    22\n",
            "2     5\n",
            "1     2\n",
            "Name: X4, dtype: int64\n",
            "\n",
            "Value counts of each value for X5:\n",
            " 4    41\n",
            "5    27\n",
            "3    19\n",
            "2    16\n",
            "1     7\n",
            "Name: X5, dtype: int64\n",
            "\n",
            "Value counts of each value for X6:\n",
            " 5    48\n",
            "4    40\n",
            "3    20\n",
            "2     1\n",
            "1     1\n",
            "Name: X6, dtype: int64\n",
            "\n",
            "Value counts of each value for Y:\n",
            " 1    56\n",
            "0    54\n",
            "Name: Y, dtype: int64\n"
          ]
        }
      ],
      "source": [
        "y_value_count = df[\"Y\"].value_counts()\n",
        "X1_value_count = df[\"X1\"].value_counts()\n",
        "X2_value_count = df[\"X2\"].value_counts()\n",
        "X3_value_count = df[\"X3\"].value_counts()\n",
        "X4_value_count = df[\"X4\"].value_counts()\n",
        "X5_value_count = df[\"X5\"].value_counts()\n",
        "X6_value_count = df[\"X6\"].value_counts()\n",
        "\n",
        "\n",
        "\n",
        "print(\"\\nValue counts of each value for X1:\\n\", X1_value_count )\n",
        "print(\"\\nValue counts of each value for X2:\\n\", X2_value_count )\n",
        "print(\"\\nValue counts of each value for X3:\\n\", X3_value_count )\n",
        "print(\"\\nValue counts of each value for X4:\\n\", X4_value_count )\n",
        "print(\"\\nValue counts of each value for X5:\\n\", X5_value_count )\n",
        "print(\"\\nValue counts of each value for X6:\\n\", X6_value_count )\n",
        "print(\"\\nValue counts of each value for Y:\\n\", y_value_count )\n"
      ],
      "id": "a6f17fd3"
    },
    {
      "cell_type": "markdown",
      "metadata": {
        "id": "09cc160b"
      },
      "source": [
        "Pair plot Observation:\n",
        "Univariate Analysis (histogram)\n",
        "    1)Target Y: 50.9% (56) - happy; 49.1% (54) - unhappy;\n",
        "    2)X1 (Delivery Time) : 82.7% (91) - happy; 16.4% (18) - neutral; 0.9% (1) - unhappy;\n",
        "    3)X2 (Product Quality): 18.2% (20) - happy; 33.6% (37) - neutral; 48.2% (53) - unhappy;\n",
        "    4)X3 (Product Availability): 37.2% (41) - happy; 45.5% (50) - neutral; 17.3% (19) - unhappy;\n",
        "    5)X4 (Order Pricing): 61.8% (68) - happy; 31.8% (35) - neutral; 6.4% (7) - unhappy;\n",
        "    6)X5 (Courier Feedback): 61.8% (68) - happy; 17.3% (19) - neutral; 20.9% (23)- unhappy;\n",
        "    7)X6 (Application Feedback): 80% (88) - happy; 18.2% (20) - neutral; 1.8% (2)- unhappy;\n",
        "\n",
        "\n",
        "\n",
        "\n",
        "Univariate Analysis:\n",
        "\n",
        "\t• The histograms on the diagonal of the pair plot provide insights into the distribution of each attribute.\n",
        "\t• The majority of customers (50.9%) are classified as happy (Y = 1), while 49.1% are classified as unhappy (Y = 0).\n",
        "\n",
        "For individual attributes:\n",
        "\n",
        "\t• X1 (Delivery Time) has a higher proportion of happy customers (82.7%) compared to unhappy ones (0.9%).\n",
        "\t• X2 (Product Quality) has a more balanced distribution, with a relatively small proportion of happy customers (18.2%) compared to the neutral (33.6%) and unhappy (48.2%) categories.\n",
        "\t• X3 (Product Availability) shows higher proportion of happy customers (37.2%) and relatively low unhappy, but majority are having a neutral experiance.\n",
        "\t• X4 (Order Pricing) has a higher proportion of happy customers (61.8%) and a relatively low proportion of unhappy customers (6.4%).\n",
        "\t• X5 (Courier Feedback) has a higher proportion of happy customers (61.8%) and a moderate proportion of unhappy customers (20.9%).\n",
        "    • X6 (Application Feedback) is skewed towards happy customers (80%) with only 1.8% being unhappy![image.png](attachment:image.png)"
      ],
      "id": "09cc160b"
    },
    {
      "cell_type": "code",
      "execution_count": 13,
      "metadata": {
        "id": "d1540bc3",
        "outputId": "792731c5-6afc-49c7-eb73-c20e4bb12fc3",
        "colab": {
          "base_uri": "https://localhost:8080/",
          "height": 1000
        }
      },
      "outputs": [
        {
          "output_type": "display_data",
          "data": {
            "text/plain": [
              "<Figure size 200x200 with 1 Axes>"
            ],
            "image/png": "[encoded data removed]"
          },
          "metadata": {}
        },
        {
          "output_type": "display_data",
          "data": {
            "text/plain": [
              "<Figure size 200x200 with 1 Axes>"
            ],
            "image/png": "[encoded data removed]"
          },
          "metadata": {}
        },
        {
          "output_type": "display_data",
          "data": {
            "text/plain": [
              "<Figure size 200x200 with 1 Axes>"
            ],
            "image/png": "[encoded data removed]"
          },
          "metadata": {}
        },
        {
          "output_type": "display_data",
          "data": {
            "text/plain": [
              "<Figure size 200x200 with 1 Axes>"
            ],
            "image/png": "[encoded data removed]"
          },
          "metadata": {}
        },
        {
          "output_type": "display_data",
          "data": {
            "text/plain": [
              "<Figure size 200x200 with 1 Axes>"
            ],
            "image/png": "[encoded data removed]"
          },
          "metadata": {}
        },
        {
          "output_type": "display_data",
          "data": {
            "text/plain": [
              "<Figure size 200x200 with 1 Axes>"
            ],
            "image/png": "[encoded data removed]"
          },
          "metadata": {}
        }
      ],
      "source": [
        "plt.figure(figsize=(2,2))\n",
        "sns.regplot(x=\"X1\",y=\"Y\", data=df)\n",
        "plt.ylim(0,)\n",
        "plt.xlabel('Delivery Time (X1)')\n",
        "plt.ylabel('Happiness Index')\n",
        "plt.title('Plt of linear relation b/w \"Happiness index\" and \"Delivery Time\" ')\n",
        "plt.show()\n",
        "\n",
        "plt.figure(figsize=(2,2))\n",
        "sns.regplot(x=\"X3\",y=\"Y\", data=df)\n",
        "plt.ylim(0,)\n",
        "plt.xlabel('Product Availability (X3)')\n",
        "plt.ylabel('Happiness Index')\n",
        "plt.title('Plt of linear relation b/w \"Happiness index\" and \"Product Availability\" ')\n",
        "plt.show()\n",
        "\n",
        "plt.figure(figsize=(2,2))\n",
        "sns.regplot(x=\"X5\",y=\"Y\", data=df)\n",
        "plt.ylim(0,)\n",
        "plt.xlabel('Courier Feedback (X5)')\n",
        "plt.ylabel('Happiness Index')\n",
        "plt.title('Plt of linear relation b/w \"Happiness index\" and \"Courier Feedback\" ')\n",
        "plt.show()\n",
        "\n",
        "plt.figure(figsize=(2,2))\n",
        "sns.regplot(x=\"X6\",y=\"Y\", data=df)\n",
        "plt.ylim(0,)\n",
        "plt.xlabel('Application Feedback (X6)')\n",
        "plt.ylabel('Happiness Index')\n",
        "plt.title('Plt of linear relation b/w \"Happiness index\" and \"Application Feedback\" ')\n",
        "plt.show()\n",
        "\n",
        "plt.figure(figsize=(2,2))\n",
        "sns.regplot(x=\"X2\",y=\"Y\", data=df)\n",
        "plt.ylim(0,)\n",
        "plt.xlabel('Product Quality (X2)')\n",
        "plt.ylabel('Happiness Index')\n",
        "plt.title('Plt of linear relation b/w \"Happiness index\" and \"Product Quality\" ')\n",
        "plt.show()\n",
        "\n",
        "plt.figure(figsize=(2,2))\n",
        "sns.regplot(x=\"X4\",y=\"Y\", data=df)\n",
        "plt.ylim(0,)\n",
        "plt.xlabel('Order Pricing (X4)')\n",
        "plt.ylabel('Happiness Index')\n",
        "plt.title('Plt of linear relation b/w \"Happiness index\" and \"Order Pricing\" ')\n",
        "plt.show()"
      ],
      "id": "d1540bc3"
    },
    {
      "cell_type": "markdown",
      "metadata": {
        "id": "64b5e379"
      },
      "source": [
        "Bivariate Analysis Observation: Attributes against Target\n",
        "\n",
        "X1 demonstrates the highest positive linear correlation to Y as compared to the other features. On the other hand, X3, X5, and X6 exhibit positive correlations, albeit weaker when compared to the X1 feature. There are few outliers observed in all the features that doesnt fit the linear relatiosnship.\n",
        "\n",
        "X2 and X4 exhibit the least correlation, potentially making them inadequate for predicting the target variable."
      ],
      "id": "64b5e379"
    },
    {
      "cell_type": "markdown",
      "metadata": {
        "id": "5e4ca7cd"
      },
      "source": [
        "EDA Conclusion:\n",
        "    \n",
        "X1 (Delivery Time),X4 (Order pricing), X5 (Courier Feedback), and X6 (Application Feedback) are the most positively correlated attributes with the target Y. These attributes may play a significant role in predicting customer happiness.\n",
        "\n",
        "X2 (Product Quality) has the lowest correlation with the target Y, implying that it might have less impact on customer happiness prediction. However X2 (Product Quality) and X4 (Order Pricing) are attributes that might have a significant impact on predicting customer being unhappy, X2 (Product Quality) has a relatively high proportion of unhappy customers (48.2%) compared to happy customers (18.2%).\n",
        "\n",
        "The distribution of each attribute provides insights into the varying importance of features. For instance, X1 (Delivery Time) seems to have a higher impact on happiness compared to others.\n",
        "\n",
        "Further analysis, such as feature importance through machine learning models, can help validate the relative importance of each attribute in predicting customer happiness accurately."
      ],
      "id": "5e4ca7cd"
    },
    {
      "cell_type": "markdown",
      "metadata": {
        "id": "5cdb7ebd"
      },
      "source": [
        "# Model Evaluation"
      ],
      "id": "5cdb7ebd"
    },
    {
      "cell_type": "code",
      "execution_count": 14,
      "metadata": {
        "id": "f6deeda2"
      },
      "outputs": [],
      "source": [
        "y = df[\"Y\"]\n",
        "X= df.drop([\"Y\",\"X4\"], axis = 1)\n",
        "X_train, X_test, y_train, y_test = train_test_split(X, y, test_size = 0.2, random_state=0 )"
      ],
      "id": "f6deeda2"
    },
    {
      "cell_type": "code",
      "execution_count": 15,
      "metadata": {
        "id": "b76a7197"
      },
      "outputs": [],
      "source": [
        "lr = LogisticRegression()\n",
        "knn = KNeighborsClassifier()\n",
        "dt = DecisionTreeClassifier()\n",
        "rf = RandomForestClassifier(n_jobs=-1)\n",
        "nb = GaussianNB()\n",
        "xgb = XGBClassifier()\n",
        "lgbm = LGBMClassifier(verbose = -1)\n",
        "svm = SVC()\n",
        "\n",
        "\n"
      ],
      "id": "b76a7197"
    },
    {
      "cell_type": "code",
      "execution_count": 61,
      "metadata": {
        "colab": {
          "base_uri": "https://localhost:8080/"
        },
        "id": "1add5f8f",
        "outputId": "e5ba4783-0f34-4f01-b635-eba2fce0a20c"
      },
      "outputs": [
        {
          "output_type": "stream",
          "name": "stdout",
          "text": [
            "\n",
            "Selected Model : LogisticRegression()\n",
            "LogisticRegression() Model training Accuracy :  61.36363636363637\n",
            "LogisticRegression() Model testing Accuracy :  54.54545454545454\n",
            "LogisticRegression() f1_score: 0.6153846153846154\n",
            "\n",
            "\n",
            "\n",
            "\n",
            "Selected Model : KNeighborsClassifier()\n",
            "KNeighborsClassifier() Model training Accuracy :  72.72727272727273\n",
            "KNeighborsClassifier() Model testing Accuracy :  50.0\n",
            "KNeighborsClassifier() f1_score: 0.56\n",
            "\n",
            "\n",
            "\n",
            "\n",
            "Selected Model : DecisionTreeClassifier()\n",
            "DecisionTreeClassifier() Model training Accuracy :  93.18181818181817\n",
            "DecisionTreeClassifier() Model testing Accuracy :  50.0\n",
            "DecisionTreeClassifier() f1_score: 0.47619047619047616\n",
            "\n",
            "\n",
            "\n",
            "\n",
            "Selected Model : RandomForestClassifier()\n",
            "RandomForestClassifier() Model training Accuracy :  93.18181818181817\n",
            "RandomForestClassifier() Model testing Accuracy :  40.909090909090914\n",
            "RandomForestClassifier() f1_score: 0.380952380952381\n",
            "\n",
            "\n",
            "\n",
            "\n",
            "Selected Model : GaussianNB()\n",
            "GaussianNB() Model training Accuracy :  60.22727272727273\n",
            "GaussianNB() Model testing Accuracy :  50.0\n",
            "GaussianNB() f1_score: 0.5217391304347826\n",
            "\n",
            "\n",
            "\n",
            "\n",
            "Selected Model : SVC()\n",
            "SVC() Model training Accuracy :  73.86363636363636\n",
            "SVC() Model testing Accuracy :  50.0\n",
            "SVC() f1_score: 0.47619047619047616\n",
            "\n",
            "\n",
            "\n",
            "\n",
            "Selected Model : XGBClassifier(base_score=None, booster=None, callbacks=None,\n",
            "              colsample_bylevel=None, colsample_bynode=None,\n",
            "              colsample_bytree=None, early_stopping_rounds=None,\n",
            "              enable_categorical=False, eval_metric=None, feature_types=None,\n",
            "              gamma=None, gpu_id=None, grow_policy=None, importance_type=None,\n",
            "              interaction_constraints=None, learning_rate=None, max_bin=None,\n",
            "              max_cat_threshold=None, max_cat_to_onehot=None,\n",
            "              max_delta_step=None, max_depth=None, max_leaves=None,\n",
            "              min_child_weight=None, missing=nan, monotone_constraints=None,\n",
            "              n_estimators=100, n_jobs=None, num_parallel_tree=None,\n",
            "              predictor=None, random_state=None, ...)\n",
            "XGBClassifier(base_score=None, booster=None, callbacks=None,\n",
            "              colsample_bylevel=None, colsample_bynode=None,\n",
            "              colsample_bytree=None, early_stopping_rounds=None,\n",
            "              enable_categorical=False, eval_metric=None, feature_types=None,\n",
            "              gamma=None, gpu_id=None, grow_policy=None, importance_type=None,\n",
            "              interaction_constraints=None, learning_rate=None, max_bin=None,\n",
            "              max_cat_threshold=None, max_cat_to_onehot=None,\n",
            "              max_delta_step=None, max_depth=None, max_leaves=None,\n",
            "              min_child_weight=None, missing=nan, monotone_constraints=None,\n",
            "              n_estimators=100, n_jobs=None, num_parallel_tree=None,\n",
            "              predictor=None, random_state=None, ...) Model training Accuracy :  89.77272727272727\n",
            "XGBClassifier(base_score=None, booster=None, callbacks=None,\n",
            "              colsample_bylevel=None, colsample_bynode=None,\n",
            "              colsample_bytree=None, early_stopping_rounds=None,\n",
            "              enable_categorical=False, eval_metric=None, feature_types=None,\n",
            "              gamma=None, gpu_id=None, grow_policy=None, importance_type=None,\n",
            "              interaction_constraints=None, learning_rate=None, max_bin=None,\n",
            "              max_cat_threshold=None, max_cat_to_onehot=None,\n",
            "              max_delta_step=None, max_depth=None, max_leaves=None,\n",
            "              min_child_weight=None, missing=nan, monotone_constraints=None,\n",
            "              n_estimators=100, n_jobs=None, num_parallel_tree=None,\n",
            "              predictor=None, random_state=None, ...) Model testing Accuracy :  50.0\n",
            "XGBClassifier(base_score=None, booster=None, callbacks=None,\n",
            "              colsample_bylevel=None, colsample_bynode=None,\n",
            "              colsample_bytree=None, early_stopping_rounds=None,\n",
            "              enable_categorical=False, eval_metric=None, feature_types=None,\n",
            "              gamma=None, gpu_id=None, grow_policy=None, importance_type=None,\n",
            "              interaction_constraints=None, learning_rate=None, max_bin=None,\n",
            "              max_cat_threshold=None, max_cat_to_onehot=None,\n",
            "              max_delta_step=None, max_depth=None, max_leaves=None,\n",
            "              min_child_weight=None, missing=nan, monotone_constraints=None,\n",
            "              n_estimators=100, n_jobs=None, num_parallel_tree=None,\n",
            "              predictor=None, random_state=None, ...) f1_score: 0.47619047619047616\n",
            "\n",
            "\n",
            "\n",
            "\n",
            "Selected Model : LGBMClassifier(verbose=-1)\n",
            "LGBMClassifier(verbose=-1) Model training Accuracy :  68.18181818181817\n",
            "LGBMClassifier(verbose=-1) Model testing Accuracy :  36.36363636363637\n",
            "LGBMClassifier(verbose=-1) f1_score: 0.3636363636363636\n",
            "\n",
            "\n",
            "\n"
          ]
        }
      ],
      "source": [
        "models = [lr,knn,dt,rf,nb,svm,xgb,lgbm]\n",
        "\n",
        "def model_trial(model):\n",
        "    for i in model:\n",
        "        i.fit(X_train,y_train)\n",
        "        i.pred = i.predict(X_test)\n",
        "        print(\"\\nSelected Model :\",i)\n",
        "        print(i,\"Model training Accuracy : \", i.score(X_train,y_train)*100)\n",
        "        print(i,\"Model testing Accuracy : \", accuracy_score(y_test,i.pred)*100)\n",
        "        print(i,\"f1_score:\", f1_score(y_test,i.pred))\n",
        "        print(\"\\n\\n\")\n",
        "\n",
        "model_trial(models)"
      ],
      "id": "1add5f8f"
    },
    {
      "cell_type": "markdown",
      "metadata": {
        "id": "71826886"
      },
      "source": [
        "Observation:\n",
        "\n",
        "Currently, both K-Nearest Neighbors (knn) and LightGBM (lgbm) are temporarily selected as they attained an accuracy of 77.2%, which outperforms the other models.\n",
        "\n",
        "The accuracy of the knn model has significantly improved from 50% to 77.2% after dropping features X2 and X4, which exhibited the lowest correlation to Y. In contrast, the accuracy of the lgbm model remained unchanged throughout this.\n",
        "\n",
        "At present, the knn and lgbm classifiers gives an accuracy of 77.2%, but this is only accomplished for a test size of 20% and a random_state value of 100. To ensure consistent and reliable accuracy, further tuning of the models is necessary.\n",
        "\n",
        "To do:\n",
        "    1) Detailed exploration of parameter tuning for knn and lgbm models.\n",
        "    2) Explore alternative models to identify the most suitable one for this dataset.\n",
        "  \n",
        "\n",
        "Concerns:\n",
        "    1) The standard procedures to enhance accuracy need to be clarified.\n",
        "    2) The potential for overfitting while utilizing the knn model should be addressed.\n",
        "    3) Removing the outliers spotted in regplot.\n",
        "    4) Are the warnings in lgbm because of the missing hyperparameter tuning, how does that affect the accuracy.\n",
        "    5) Need for feature scaling, although the numbers are between 1 to 5."
      ],
      "id": "71826886"
    },
    {
      "cell_type": "code",
      "execution_count": 15,
      "metadata": {
        "colab": {
          "base_uri": "https://localhost:8080/"
        },
        "id": "1c0c533a",
        "outputId": "fdf6db1d-2328-46bd-cdf4-704aa8cc019e"
      },
      "outputs": [
        {
          "output_type": "execute_result",
          "data": {
            "text/plain": [
              "4.69041575982343"
            ]
          },
          "metadata": {},
          "execution_count": 15
        }
      ],
      "source": [
        "#finding the k value\n",
        "import math\n",
        "math.sqrt(len(y_test))"
      ],
      "id": "1c0c533a"
    },
    {
      "cell_type": "code",
      "execution_count": 16,
      "metadata": {
        "colab": {
          "base_uri": "https://localhost:8080/"
        },
        "id": "f8c72e09",
        "outputId": "413acec9-c43e-46b8-967f-230a30f8372c"
      },
      "outputs": [
        {
          "output_type": "stream",
          "name": "stdout",
          "text": [
            "knn improved model training Accuracy :  72.72727272727273\n",
            "knn improved Model testing Accuracy :  50.0\n",
            "[[4 8]\n",
            " [3 7]]\n",
            "0.56\n"
          ]
        }
      ],
      "source": [
        "knn_temp = KNeighborsClassifier(n_neighbors = 5, p=2, metric=\"euclidean\")\n",
        "knn_temp.fit(X_train,y_train)\n",
        "knn_temp.pred = knn.predict(X_test)\n",
        "print(\"knn improved model training Accuracy : \", knn_temp.score(X_train,y_train)*100)\n",
        "print(\"knn improved Model testing Accuracy : \", accuracy_score(y_test,knn_temp.pred)*100)\n",
        "cm = confusion_matrix(y_test,knn_temp.pred)\n",
        "print(cm)\n",
        "print(f1_score(y_test,knn_temp.pred))"
      ],
      "id": "f8c72e09"
    },
    {
      "cell_type": "markdown",
      "metadata": {
        "id": "841fbb8c"
      },
      "source": [
        "Observation:\n",
        "\n",
        "knn model training accuracy seem to have improved a little."
      ],
      "id": "841fbb8c"
    },
    {
      "cell_type": "markdown",
      "metadata": {
        "id": "04348ddf"
      },
      "source": [
        "# Cross Validation without parameter tuning\n"
      ],
      "id": "04348ddf"
    },
    {
      "cell_type": "code",
      "execution_count": 56,
      "metadata": {
        "id": "f53c64cb"
      },
      "outputs": [],
      "source": [
        "#Cross Validation using cross_val_score using skf\n",
        "\n",
        "def training_cross_val(models,folds,rs):\n",
        "  kf = KFold(n_splits=folds,shuffle = True,random_state = rs)\n",
        "  skf = StratifiedKFold(n_splits=folds,shuffle = True, random_state = rs)\n",
        "\n",
        "  for selected_model in models:\n",
        "\n",
        "    Accuracy_vals = cross_val_score(selected_model,X,y,cv = skf)\n",
        "    print(\"\\nModel: \",selected_model)\n",
        "    print(\"\\nAll scores\", Accuracy_vals)\n",
        "    print(\"Minumun Accuracy:\", min(Accuracy_vals)*100)\n",
        "    print(\"Maimum Accuracy:\", max(Accuracy_vals)*100)\n",
        "    print(\"Average Accuracy:\", np.mean(Accuracy_vals)*100,\"\\n\")"
      ],
      "id": "f53c64cb"
    },
    {
      "cell_type": "code",
      "execution_count": 57,
      "metadata": {
        "id": "5a5c8d38"
      },
      "outputs": [],
      "source": [
        "#cross validation using kf (manual)\n",
        "\n",
        "def model_training(models,folds,rs):\n",
        "\n",
        "    kf_c = KFold(n_splits=folds, shuffle = True, random_state = rs )\n",
        "    skf_c = StratifiedKFold(n_splits=folds,shuffle = True, random_state = rs)\n",
        "\n",
        "    for selected_model in models:\n",
        "        scores = []\n",
        "        for train_index, test_index in kf_c.split(X,y):\n",
        "            X_train_c, X_test_c, y_train_c, y_test_c = X.iloc[train_index], X.iloc[test_index], y[train_index], y[test_index]\n",
        "            selected_model.fit(X_train_c, y_train_c)\n",
        "            scores.append(selected_model.score(X_test_c, y_test_c))\n",
        "        print(\"\\nModel: \",selected_model)\n",
        "        print(\"\\nAll scores\", scores)\n",
        "        print(\"Minumun Accuracy:\", min(scores)*100)\n",
        "        print(\"Maimum Accuracy:\", max(scores)*100)\n",
        "        print(\"Average Accuracy:\", np.mean(scores)*100,\"\\n\")"
      ],
      "id": "5a5c8d38"
    },
    {
      "cell_type": "code",
      "execution_count": 58,
      "metadata": {
        "id": "cb5be4bd",
        "outputId": "8a5df1b1-4f1b-44d7-a4f1-71c078d2c7a9",
        "colab": {
          "base_uri": "https://localhost:8080/"
        }
      },
      "outputs": [
        {
          "output_type": "stream",
          "name": "stdout",
          "text": [
            "\n",
            "Model:  LogisticRegression()\n",
            "\n",
            "All scores [0.54545455 0.36363636 0.45454545 0.36363636 0.54545455 0.81818182\n",
            " 0.63636364 0.45454545 0.45454545 0.72727273]\n",
            "Minumun Accuracy: 36.36363636363637\n",
            "Maimum Accuracy: 81.81818181818183\n",
            "Average Accuracy: 53.63636363636364 \n",
            "\n",
            "\n",
            "Model:  KNeighborsClassifier()\n",
            "\n",
            "All scores [0.54545455 0.36363636 0.54545455 0.27272727 0.36363636 0.81818182\n",
            " 0.18181818 0.36363636 0.72727273 0.45454545]\n",
            "Minumun Accuracy: 18.181818181818183\n",
            "Maimum Accuracy: 81.81818181818183\n",
            "Average Accuracy: 46.36363636363636 \n",
            "\n",
            "\n",
            "Model:  DecisionTreeClassifier()\n",
            "\n",
            "All scores [0.45454545 0.63636364 0.36363636 0.45454545 0.27272727 0.72727273\n",
            " 0.27272727 0.45454545 0.45454545 0.36363636]\n",
            "Minumun Accuracy: 27.27272727272727\n",
            "Maimum Accuracy: 72.72727272727273\n",
            "Average Accuracy: 44.54545454545455 \n",
            "\n",
            "\n",
            "Model:  RandomForestClassifier()\n",
            "\n",
            "All scores [0.54545455 0.27272727 0.54545455 0.27272727 0.27272727 0.72727273\n",
            " 0.36363636 0.54545455 0.36363636 0.45454545]\n",
            "Minumun Accuracy: 27.27272727272727\n",
            "Maimum Accuracy: 72.72727272727273\n",
            "Average Accuracy: 43.63636363636363 \n",
            "\n",
            "\n",
            "Model:  GaussianNB()\n",
            "\n",
            "All scores [0.54545455 0.27272727 0.63636364 0.36363636 0.54545455 0.81818182\n",
            " 0.54545455 0.45454545 0.36363636 0.72727273]\n",
            "Minumun Accuracy: 27.27272727272727\n",
            "Maimum Accuracy: 81.81818181818183\n",
            "Average Accuracy: 52.72727272727272 \n",
            "\n",
            "\n",
            "Model:  SVC()\n",
            "\n",
            "All scores [0.54545455 0.18181818 0.63636364 0.36363636 0.45454545 0.63636364\n",
            " 0.54545455 0.45454545 0.45454545 0.81818182]\n",
            "Minumun Accuracy: 18.181818181818183\n",
            "Maimum Accuracy: 81.81818181818183\n",
            "Average Accuracy: 50.90909090909091 \n",
            "\n",
            "\n",
            "Model:  XGBClassifier(base_score=None, booster=None, callbacks=None,\n",
            "              colsample_bylevel=None, colsample_bynode=None,\n",
            "              colsample_bytree=None, early_stopping_rounds=None,\n",
            "              enable_categorical=False, eval_metric=None, feature_types=None,\n",
            "              gamma=None, gpu_id=None, grow_policy=None, importance_type=None,\n",
            "              interaction_constraints=None, learning_rate=None, max_bin=None,\n",
            "              max_cat_threshold=None, max_cat_to_onehot=None,\n",
            "              max_delta_step=None, max_depth=None, max_leaves=None,\n",
            "              min_child_weight=None, missing=nan, monotone_constraints=None,\n",
            "              n_estimators=100, n_jobs=None, num_parallel_tree=None,\n",
            "              predictor=None, random_state=None, ...)\n",
            "\n",
            "All scores [0.72727273 0.36363636 0.54545455 0.45454545 0.27272727 0.72727273\n",
            " 0.36363636 0.45454545 0.54545455 0.72727273]\n",
            "Minumun Accuracy: 27.27272727272727\n",
            "Maimum Accuracy: 72.72727272727273\n",
            "Average Accuracy: 51.81818181818183 \n",
            "\n",
            "\n",
            "Model:  LGBMClassifier(verbose=-1)\n",
            "\n",
            "All scores [0.54545455 0.72727273 0.72727273 0.63636364 0.54545455 0.72727273\n",
            " 0.54545455 0.36363636 0.81818182 0.45454545]\n",
            "Minumun Accuracy: 36.36363636363637\n",
            "Maimum Accuracy: 81.81818181818183\n",
            "Average Accuracy: 60.909090909090914 \n",
            "\n"
          ]
        }
      ],
      "source": [
        "training_cross_val(models, 10, 0) #currently using skf"
      ],
      "id": "cb5be4bd"
    },
    {
      "cell_type": "code",
      "execution_count": 59,
      "metadata": {
        "colab": {
          "base_uri": "https://localhost:8080/"
        },
        "id": "eab03150",
        "outputId": "8dac182e-f29c-49e0-dae7-24274b9f2c4f"
      },
      "outputs": [
        {
          "output_type": "stream",
          "name": "stdout",
          "text": [
            "\n",
            "Model:  LogisticRegression()\n",
            "\n",
            "All scores [0.5454545454545454, 0.36363636363636365, 0.5454545454545454, 0.6363636363636364, 0.5454545454545454, 0.5454545454545454, 0.6363636363636364, 0.36363636363636365, 0.45454545454545453, 0.6363636363636364]\n",
            "Minumun Accuracy: 36.36363636363637\n",
            "Maimum Accuracy: 63.63636363636363\n",
            "Average Accuracy: 52.72727272727272 \n",
            "\n",
            "\n",
            "Model:  KNeighborsClassifier()\n",
            "\n",
            "All scores [0.36363636363636365, 0.5454545454545454, 0.6363636363636364, 0.7272727272727273, 0.36363636363636365, 0.6363636363636364, 0.5454545454545454, 0.36363636363636365, 0.5454545454545454, 0.7272727272727273]\n",
            "Minumun Accuracy: 36.36363636363637\n",
            "Maimum Accuracy: 72.72727272727273\n",
            "Average Accuracy: 54.54545454545454 \n",
            "\n",
            "\n",
            "Model:  DecisionTreeClassifier()\n",
            "\n",
            "All scores [0.36363636363636365, 0.36363636363636365, 0.36363636363636365, 0.7272727272727273, 0.18181818181818182, 0.36363636363636365, 0.2727272727272727, 0.36363636363636365, 0.5454545454545454, 0.7272727272727273]\n",
            "Minumun Accuracy: 18.181818181818183\n",
            "Maimum Accuracy: 72.72727272727273\n",
            "Average Accuracy: 42.72727272727273 \n",
            "\n",
            "\n",
            "Model:  RandomForestClassifier()\n",
            "\n",
            "All scores [0.36363636363636365, 0.36363636363636365, 0.5454545454545454, 0.6363636363636364, 0.36363636363636365, 0.45454545454545453, 0.36363636363636365, 0.36363636363636365, 0.45454545454545453, 0.5454545454545454]\n",
            "Minumun Accuracy: 36.36363636363637\n",
            "Maimum Accuracy: 63.63636363636363\n",
            "Average Accuracy: 44.54545454545455 \n",
            "\n",
            "\n",
            "Model:  GaussianNB()\n",
            "\n",
            "All scores [0.45454545454545453, 0.6363636363636364, 0.5454545454545454, 0.6363636363636364, 0.5454545454545454, 0.6363636363636364, 0.6363636363636364, 0.2727272727272727, 0.45454545454545453, 0.6363636363636364]\n",
            "Minumun Accuracy: 27.27272727272727\n",
            "Maimum Accuracy: 63.63636363636363\n",
            "Average Accuracy: 54.54545454545454 \n",
            "\n",
            "\n",
            "Model:  SVC()\n",
            "\n",
            "All scores [0.45454545454545453, 0.45454545454545453, 0.6363636363636364, 0.6363636363636364, 0.5454545454545454, 0.45454545454545453, 0.6363636363636364, 0.18181818181818182, 0.45454545454545453, 0.45454545454545453]\n",
            "Minumun Accuracy: 18.181818181818183\n",
            "Maimum Accuracy: 63.63636363636363\n",
            "Average Accuracy: 49.090909090909086 \n",
            "\n",
            "\n",
            "Model:  XGBClassifier(base_score=None, booster=None, callbacks=None,\n",
            "              colsample_bylevel=None, colsample_bynode=None,\n",
            "              colsample_bytree=None, early_stopping_rounds=None,\n",
            "              enable_categorical=False, eval_metric=None, feature_types=None,\n",
            "              gamma=None, gpu_id=None, grow_policy=None, importance_type=None,\n",
            "              interaction_constraints=None, learning_rate=None, max_bin=None,\n",
            "              max_cat_threshold=None, max_cat_to_onehot=None,\n",
            "              max_delta_step=None, max_depth=None, max_leaves=None,\n",
            "              min_child_weight=None, missing=nan, monotone_constraints=None,\n",
            "              n_estimators=100, n_jobs=None, num_parallel_tree=None,\n",
            "              predictor=None, random_state=None, ...)\n",
            "\n",
            "All scores [0.36363636363636365, 0.45454545454545453, 0.5454545454545454, 0.5454545454545454, 0.36363636363636365, 0.45454545454545453, 0.2727272727272727, 0.2727272727272727, 0.5454545454545454, 0.45454545454545453]\n",
            "Minumun Accuracy: 27.27272727272727\n",
            "Maimum Accuracy: 54.54545454545454\n",
            "Average Accuracy: 42.72727272727273 \n",
            "\n",
            "\n",
            "Model:  LGBMClassifier(verbose=-1)\n",
            "\n",
            "All scores [0.5454545454545454, 0.5454545454545454, 0.6363636363636364, 0.7272727272727273, 0.45454545454545453, 0.7272727272727273, 0.6363636363636364, 0.5454545454545454, 0.6363636363636364, 0.6363636363636364]\n",
            "Minumun Accuracy: 45.45454545454545\n",
            "Maimum Accuracy: 72.72727272727273\n",
            "Average Accuracy: 60.909090909090914 \n",
            "\n"
          ]
        }
      ],
      "source": [
        "model_training(models, 10, 0) #currently using kf"
      ],
      "id": "eab03150"
    },
    {
      "cell_type": "markdown",
      "metadata": {
        "id": "edcc73f2"
      },
      "source": [
        "\n",
        "## **Parameter Tuning**"
      ],
      "id": "edcc73f2"
    },
    {
      "cell_type": "markdown",
      "metadata": {
        "id": "b5a4bc62"
      },
      "source": [
        "lr = LogisticRegression()\n",
        "knn = KNeighborsClassifier()\n",
        "dt = DecisionTreeClassifier()\n",
        "rf = RandomForestClassifier()\n",
        "nb = GaussianNB()\n",
        "xgb = XGBClassifier()\n",
        "lgbm = LGBMClassifier()\n",
        "svm = SVC()"
      ],
      "id": "b5a4bc62"
    },
    {
      "cell_type": "markdown",
      "source": [
        "### **Gridsearch**"
      ],
      "metadata": {
        "id": "2Pxtp7Bix1qL"
      },
      "id": "2Pxtp7Bix1qL"
    },
    {
      "cell_type": "code",
      "execution_count": 62,
      "metadata": {
        "colab": {
          "base_uri": "https://localhost:8080/"
        },
        "id": "82b19ca9",
        "outputId": "184e8e1a-874e-427f-e11d-f3877fdf11ea"
      },
      "outputs": [
        {
          "output_type": "stream",
          "name": "stdout",
          "text": [
            "\n",
            "All details of best model: SVC(C=1, kernel='linear', random_state=0)\n",
            "\n",
            "Best parameter values: {'C': 1, 'kernel': 'linear', 'random_state': 0}\n",
            "Best score using best para: 0.5583333333333333\n"
          ]
        }
      ],
      "source": [
        "#parameter tuning using gridsearch (SVM)\n",
        "svm = SVC()\n",
        "rs = np.arange(0,101,1)\n",
        "\n",
        "parameters = [\n",
        "    {'C': [1, 10, 100, 1000], 'kernel': ['linear'], 'random_state' : rs},\n",
        "    {'C': [1, 10, 100, 1000], 'kernel': ['rbf'],'random_state' : rs, 'gamma': [0.1, 0.2, 0.3, 0.4, 0.5, 0.6, 0.7, 0.8, 0.9]}\n",
        "]\n",
        "\n",
        "\n",
        "gs = GridSearchCV(estimator = svm,\n",
        "                  param_grid = parameters,\n",
        "                  scoring = \"accuracy\",\n",
        "                  refit = \"accuracy\",\n",
        "                  cv = folds,\n",
        "                  verbose = -1,\n",
        "                  n_jobs = -1\n",
        "                  )\n",
        "\n",
        "gs =gs.fit(X, y)\n",
        "print(\"\\nAll details of best model:\",gs.best_estimator_) #for all details of the best model\n",
        "print(\"\\nBest parameter values:\",gs.best_params_) # to get only the best hpara value that we searched for\n",
        "print(\"Best score using best para:\",gs.best_score_) # best score\n",
        "select_para = gs.best_params_"
      ],
      "id": "82b19ca9"
    },
    {
      "cell_type": "code",
      "execution_count": null,
      "metadata": {
        "id": "6d70d9ad"
      },
      "outputs": [],
      "source": [
        "#parameter tuning and gs on rf\n",
        "\n",
        "parameters = {\n",
        "    'n_estimators': np.arange(5,110,10),\n",
        "    'max_depth': np.arange(1,10),\n",
        "    'random_state':np.arange(0,101,10),\n",
        "    'criterion' : [\"gini\",\"entropy\"],\n",
        "}\n",
        "\n",
        "\n",
        "gs = GridSearchCV(estimator = rf,\n",
        "                  param_grid = parameters,\n",
        "                  scoring = \"accuracy\",\n",
        "                  #refit = \"accuracy\",\n",
        "                  cv = 10, #change to skf later\n",
        "                  verbose = -1,\n",
        "                  n_jobs = 1\n",
        "                  )\n",
        "\n",
        "gs.fit(X, y)\n",
        "print(\"\\nAll details of best model:\",gs.best_estimator_) #for all details of the best model\n",
        "print(\"\\nBest parameter values:\",gs.best_params_) # to get only the best hpara value that we searched for\n",
        "print(\"Best score using best para:\",gs.best_score_) # best score"
      ],
      "id": "6d70d9ad"
    },
    {
      "cell_type": "markdown",
      "source": [
        "### **Hyperopt**"
      ],
      "metadata": {
        "id": "umo6Jp53x9cd"
      },
      "id": "umo6Jp53x9cd"
    },
    {
      "cell_type": "code",
      "source": [
        "param_space = {\n",
        "    \"max_depth\": scope.int(hp.quniform(\"max_depth\", 1, 15, 1)),\n",
        "    \"n_estimators\": scope.int(hp.quniform(\"n_estimators\", 40, 200, 10)),\n",
        "    \"random_state\": scope.int(hp.quniform(\"random_state\",0,101,10)),\n",
        "    \"criterion\": hp.choice(\"criterion\", [\"gini\",\"entropy\"]),\n",
        "    \"max_features\": hp.uniform(\"max_features\", 0.01,1)\n",
        "}\n",
        "\n",
        "\n",
        "optimization_function = partial(\n",
        "    optimize,\n",
        "    x=X,\n",
        "    y=y\n",
        ")\n",
        "\n",
        "trials = Trials()\n",
        "\n",
        "result = fmin(\n",
        "    fn = optimization_function,\n",
        "    space=param_space,\n",
        "    algo=tpe.suggest,\n",
        "    max_evals=50,\n",
        "    trials=trials\n",
        "\n",
        ")\n",
        "\n",
        "print(result)\n"
      ],
      "metadata": {
        "colab": {
          "base_uri": "https://localhost:8080/"
        },
        "outputId": "26d9cebc-1e8a-4e2d-df49-157da46ea7f9",
        "id": "Y0idI5jGnIg0"
      },
      "execution_count": null,
      "outputs": [
        {
          "output_type": "stream",
          "name": "stdout",
          "text": [
            "100%|██████████| 15/15 [00:35<00:00,  2.36s/trial, best loss: -0.618181818181818]\n",
            "{'criterion': 0, 'max_depth': 2.0, 'max_features': 0.15318551994152801, 'n_estimators': 140.0, 'random_state': 48.0}\n"
          ]
        }
      ],
      "id": "Y0idI5jGnIg0"
    },
    {
      "cell_type": "code",
      "source": [
        "def optimize(params, x, y):\n",
        "  model_o = RandomForestClassifier(**params)\n",
        "  skf_o = StratifiedKFold(n_splits=10)\n",
        "  acc_o = []\n",
        "\n",
        "  for train_index, test_index in skf_o.split(X=x,y=y):\n",
        "    Xtrain_o, Xtest_o, ytrain_o, ytest_o = x.iloc[train_index], x.iloc[test_index], y[train_index], y[test_index]\n",
        "\n",
        "    model_o.fit(Xtrain_o,ytrain_o)\n",
        "    preds = model_o.predict(Xtest_o)\n",
        "    fold_acc = accuracy_score(ytest_o,preds)\n",
        "    acc_o.append(fold_acc)\n",
        "\n",
        "  return -1.0 * np.mean(acc_o)"
      ],
      "metadata": {
        "id": "ElRovUXZ7h5l"
      },
      "id": "ElRovUXZ7h5l",
      "execution_count": 190,
      "outputs": []
    },
    {
      "cell_type": "markdown",
      "source": [
        "### **Optuna**"
      ],
      "metadata": {
        "id": "jFzy6VAlydM_"
      },
      "id": "jFzy6VAlydM_"
    },
    {
      "cell_type": "code",
      "source": [
        "#Optimize function for optuna\n",
        "\n",
        "def optimize_2(trial, x, y):\n",
        "  criterion = trial.suggest_categorical(\"criterion\",[\"gini\",\"entropy\"])\n",
        "  n_estimators = trial.suggest_int(\"n_estimators\", 50, 500) #tune this later for the small dataset\n",
        "  max_depth = trial.suggest_int(\"max_depth\",3,15)\n",
        "  max_features = trial.suggest_float(\"max_features\", 0.01,1.0)\n",
        "\n",
        "  model = RandomForestClassifier(\n",
        "      n_estimators = n_estimators,\n",
        "      max_depth = max_depth,\n",
        "      max_features = max_features,\n",
        "      criterion = criterion\n",
        "  )\n",
        "\n",
        "  skf = StratifiedKFold(n_splits=10)\n",
        "  acc = []\n",
        "\n",
        "  for train_index, test_index in skf.split(X=x,y=y):\n",
        "    Xtrain, Xtest, ytrain, ytest = x.iloc[train_index], x.iloc[test_index], y[train_index], y[test_index]\n",
        "\n",
        "    model.fit(Xtrain,ytrain)\n",
        "    preds = model.predict(Xtest)\n",
        "    fold_acc = accuracy_score(ytest,preds)\n",
        "    acc.append(fold_acc)\n",
        "\n",
        "  print(\"\\nAll scores\", acc)\n",
        "  print(\"Minumun Accuracy:\", min(acc)*100)\n",
        "  print(\"Maimum Accuracy:\", max(acc)*100)\n",
        "  print(\"Average accuracy is \",np.mean(acc)*100)\n",
        "  print(\"\\nNext trial starts--------------\\n\")\n",
        "  return np.mean(acc)\n",
        "\n"
      ],
      "metadata": {
        "id": "mkS3LY-npPcH"
      },
      "id": "mkS3LY-npPcH",
      "execution_count": 47,
      "outputs": []
    },
    {
      "cell_type": "code",
      "execution_count": null,
      "metadata": {
        "id": "75fd8e46",
        "colab": {
          "base_uri": "https://localhost:8080/"
        },
        "outputId": "6ce117c5-23d6-421f-af6c-bc7cd1dfe8b7"
      },
      "outputs": [
        {
          "output_type": "stream",
          "name": "stderr",
          "text": [
            "[I 2023-08-12 21:17:22,469] A new study created in memory with name: no-name-a4862859-97a5-4ff3-a556-d2c7929031ef\n",
            "[I 2023-08-12 21:17:32,158] Trial 0 finished with value: 0.5363636363636364 and parameters: {'criterion': 'entropy', 'n_estimators': 462, 'max_depth': 15, 'max_features': 0.2029626516901555}. Best is trial 0 with value: 0.5363636363636364.\n"
          ]
        },
        {
          "output_type": "stream",
          "name": "stdout",
          "text": [
            "\n",
            "All scores [0.7272727272727273, 0.45454545454545453, 0.5454545454545454, 0.36363636363636365, 0.7272727272727273, 0.45454545454545453, 0.6363636363636364, 0.6363636363636364, 0.2727272727272727, 0.5454545454545454]\n",
            "Minumun Accuracy: 27.27272727272727\n",
            "Maimum Accuracy: 72.72727272727273\n",
            "Average accuracy is  53.63636363636364\n",
            "\n",
            "Next trial starts--------------\n",
            "\n"
          ]
        },
        {
          "output_type": "stream",
          "name": "stderr",
          "text": [
            "[I 2023-08-12 21:17:39,818] Trial 1 finished with value: 0.5818181818181818 and parameters: {'criterion': 'gini', 'n_estimators': 468, 'max_depth': 5, 'max_features': 0.2713496264940186}. Best is trial 1 with value: 0.5818181818181818.\n"
          ]
        },
        {
          "output_type": "stream",
          "name": "stdout",
          "text": [
            "\n",
            "All scores [0.8181818181818182, 0.45454545454545453, 0.45454545454545453, 0.45454545454545453, 0.8181818181818182, 0.6363636363636364, 0.5454545454545454, 0.8181818181818182, 0.45454545454545453, 0.36363636363636365]\n",
            "Minumun Accuracy: 36.36363636363637\n",
            "Maimum Accuracy: 81.81818181818183\n",
            "Average accuracy is  58.18181818181818\n",
            "\n",
            "Next trial starts--------------\n",
            "\n"
          ]
        },
        {
          "output_type": "stream",
          "name": "stderr",
          "text": [
            "[I 2023-08-12 21:17:43,180] Trial 2 finished with value: 0.5909090909090908 and parameters: {'criterion': 'entropy', 'n_estimators': 227, 'max_depth': 3, 'max_features': 0.24490124652660272}. Best is trial 2 with value: 0.5909090909090908.\n"
          ]
        },
        {
          "output_type": "stream",
          "name": "stdout",
          "text": [
            "\n",
            "All scores [0.7272727272727273, 0.5454545454545454, 0.45454545454545453, 0.45454545454545453, 0.6363636363636364, 0.6363636363636364, 0.6363636363636364, 0.9090909090909091, 0.45454545454545453, 0.45454545454545453]\n",
            "Minumun Accuracy: 45.45454545454545\n",
            "Maimum Accuracy: 90.9090909090909\n",
            "Average accuracy is  59.09090909090908\n",
            "\n",
            "Next trial starts--------------\n",
            "\n"
          ]
        },
        {
          "output_type": "stream",
          "name": "stderr",
          "text": [
            "[I 2023-08-12 21:17:50,566] Trial 3 finished with value: 0.5636363636363636 and parameters: {'criterion': 'gini', 'n_estimators': 313, 'max_depth': 5, 'max_features': 0.5473522531993068}. Best is trial 2 with value: 0.5909090909090908.\n"
          ]
        },
        {
          "output_type": "stream",
          "name": "stdout",
          "text": [
            "\n",
            "All scores [0.8181818181818182, 0.5454545454545454, 0.45454545454545453, 0.5454545454545454, 0.8181818181818182, 0.45454545454545453, 0.5454545454545454, 0.7272727272727273, 0.2727272727272727, 0.45454545454545453]\n",
            "Minumun Accuracy: 27.27272727272727\n",
            "Maimum Accuracy: 81.81818181818183\n",
            "Average accuracy is  56.36363636363636\n",
            "\n",
            "Next trial starts--------------\n",
            "\n"
          ]
        },
        {
          "output_type": "stream",
          "name": "stderr",
          "text": [
            "[I 2023-08-12 21:17:58,701] Trial 4 finished with value: 0.5181818181818182 and parameters: {'criterion': 'entropy', 'n_estimators': 496, 'max_depth': 13, 'max_features': 0.33635811482556943}. Best is trial 2 with value: 0.5909090909090908.\n"
          ]
        },
        {
          "output_type": "stream",
          "name": "stdout",
          "text": [
            "\n",
            "All scores [0.7272727272727273, 0.36363636363636365, 0.45454545454545453, 0.2727272727272727, 0.7272727272727273, 0.5454545454545454, 0.6363636363636364, 0.6363636363636364, 0.2727272727272727, 0.5454545454545454]\n",
            "Minumun Accuracy: 27.27272727272727\n",
            "Maimum Accuracy: 72.72727272727273\n",
            "Average accuracy is  51.81818181818182\n",
            "\n",
            "Next trial starts--------------\n",
            "\n"
          ]
        },
        {
          "output_type": "stream",
          "name": "stderr",
          "text": [
            "[I 2023-08-12 21:18:02,424] Trial 5 finished with value: 0.5363636363636364 and parameters: {'criterion': 'entropy', 'n_estimators': 231, 'max_depth': 15, 'max_features': 0.1271418608262846}. Best is trial 2 with value: 0.5909090909090908.\n"
          ]
        },
        {
          "output_type": "stream",
          "name": "stdout",
          "text": [
            "\n",
            "All scores [0.7272727272727273, 0.45454545454545453, 0.45454545454545453, 0.36363636363636365, 0.7272727272727273, 0.5454545454545454, 0.6363636363636364, 0.6363636363636364, 0.2727272727272727, 0.5454545454545454]\n",
            "Minumun Accuracy: 27.27272727272727\n",
            "Maimum Accuracy: 72.72727272727273\n",
            "Average accuracy is  53.63636363636364\n",
            "\n",
            "Next trial starts--------------\n",
            "\n"
          ]
        },
        {
          "output_type": "stream",
          "name": "stderr",
          "text": [
            "[I 2023-08-12 21:18:12,519] Trial 6 finished with value: 0.5181818181818181 and parameters: {'criterion': 'entropy', 'n_estimators': 447, 'max_depth': 9, 'max_features': 0.040065701329296724}. Best is trial 2 with value: 0.5909090909090908.\n"
          ]
        },
        {
          "output_type": "stream",
          "name": "stdout",
          "text": [
            "\n",
            "All scores [0.7272727272727273, 0.36363636363636365, 0.45454545454545453, 0.36363636363636365, 0.7272727272727273, 0.5454545454545454, 0.6363636363636364, 0.6363636363636364, 0.2727272727272727, 0.45454545454545453]\n",
            "Minumun Accuracy: 27.27272727272727\n",
            "Maimum Accuracy: 72.72727272727273\n",
            "Average accuracy is  51.818181818181806\n",
            "\n",
            "Next trial starts--------------\n",
            "\n"
          ]
        },
        {
          "output_type": "stream",
          "name": "stderr",
          "text": [
            "[I 2023-08-12 21:18:15,754] Trial 7 finished with value: 0.5272727272727273 and parameters: {'criterion': 'entropy', 'n_estimators': 209, 'max_depth': 12, 'max_features': 0.014756875090224567}. Best is trial 2 with value: 0.5909090909090908.\n"
          ]
        },
        {
          "output_type": "stream",
          "name": "stdout",
          "text": [
            "\n",
            "All scores [0.7272727272727273, 0.45454545454545453, 0.45454545454545453, 0.2727272727272727, 0.7272727272727273, 0.5454545454545454, 0.6363636363636364, 0.6363636363636364, 0.2727272727272727, 0.5454545454545454]\n",
            "Minumun Accuracy: 27.27272727272727\n",
            "Maimum Accuracy: 72.72727272727273\n",
            "Average accuracy is  52.727272727272734\n",
            "\n",
            "Next trial starts--------------\n",
            "\n"
          ]
        },
        {
          "output_type": "stream",
          "name": "stderr",
          "text": [
            "[I 2023-08-12 21:18:16,999] Trial 8 finished with value: 0.5181818181818181 and parameters: {'criterion': 'entropy', 'n_estimators': 76, 'max_depth': 12, 'max_features': 0.7478766161579449}. Best is trial 2 with value: 0.5909090909090908.\n"
          ]
        },
        {
          "output_type": "stream",
          "name": "stdout",
          "text": [
            "\n",
            "All scores [0.7272727272727273, 0.5454545454545454, 0.45454545454545453, 0.36363636363636365, 0.6363636363636364, 0.45454545454545453, 0.6363636363636364, 0.6363636363636364, 0.2727272727272727, 0.45454545454545453]\n",
            "Minumun Accuracy: 27.27272727272727\n",
            "Maimum Accuracy: 72.72727272727273\n",
            "Average accuracy is  51.818181818181806\n",
            "\n",
            "Next trial starts--------------\n",
            "\n"
          ]
        },
        {
          "output_type": "stream",
          "name": "stderr",
          "text": [
            "[I 2023-08-12 21:18:26,564] Trial 9 finished with value: 0.5454545454545455 and parameters: {'criterion': 'entropy', 'n_estimators': 454, 'max_depth': 9, 'max_features': 0.7894546025729701}. Best is trial 2 with value: 0.5909090909090908.\n"
          ]
        },
        {
          "output_type": "stream",
          "name": "stdout",
          "text": [
            "\n",
            "All scores [0.7272727272727273, 0.5454545454545454, 0.45454545454545453, 0.36363636363636365, 0.7272727272727273, 0.5454545454545454, 0.6363636363636364, 0.6363636363636364, 0.2727272727272727, 0.5454545454545454]\n",
            "Minumun Accuracy: 27.27272727272727\n",
            "Maimum Accuracy: 72.72727272727273\n",
            "Average accuracy is  54.545454545454554\n",
            "\n",
            "Next trial starts--------------\n",
            "\n"
          ]
        },
        {
          "output_type": "stream",
          "name": "stderr",
          "text": [
            "[I 2023-08-12 21:18:29,124] Trial 10 finished with value: 0.5727272727272725 and parameters: {'criterion': 'gini', 'n_estimators': 102, 'max_depth': 3, 'max_features': 0.42167768773432324}. Best is trial 2 with value: 0.5909090909090908.\n"
          ]
        },
        {
          "output_type": "stream",
          "name": "stdout",
          "text": [
            "\n",
            "All scores [0.8181818181818182, 0.45454545454545453, 0.45454545454545453, 0.5454545454545454, 0.6363636363636364, 0.45454545454545453, 0.7272727272727273, 0.8181818181818182, 0.45454545454545453, 0.36363636363636365]\n",
            "Minumun Accuracy: 36.36363636363637\n",
            "Maimum Accuracy: 81.81818181818183\n",
            "Average accuracy is  57.27272727272725\n",
            "\n",
            "Next trial starts--------------\n",
            "\n"
          ]
        },
        {
          "output_type": "stream",
          "name": "stderr",
          "text": [
            "[I 2023-08-12 21:18:34,122] Trial 11 finished with value: 0.5999999999999999 and parameters: {'criterion': 'gini', 'n_estimators': 335, 'max_depth': 5, 'max_features': 0.2604877901219854}. Best is trial 11 with value: 0.5999999999999999.\n"
          ]
        },
        {
          "output_type": "stream",
          "name": "stdout",
          "text": [
            "\n",
            "All scores [0.7272727272727273, 0.5454545454545454, 0.45454545454545453, 0.45454545454545453, 0.8181818181818182, 0.6363636363636364, 0.5454545454545454, 0.9090909090909091, 0.45454545454545453, 0.45454545454545453]\n",
            "Minumun Accuracy: 45.45454545454545\n",
            "Maimum Accuracy: 90.9090909090909\n",
            "Average accuracy is  59.999999999999986\n",
            "\n",
            "Next trial starts--------------\n",
            "\n"
          ]
        },
        {
          "output_type": "stream",
          "name": "stderr",
          "text": [
            "[I 2023-08-12 21:18:39,790] Trial 12 finished with value: 0.618181818181818 and parameters: {'criterion': 'gini', 'n_estimators': 358, 'max_depth': 3, 'max_features': 0.2597790339704953}. Best is trial 12 with value: 0.618181818181818.\n"
          ]
        },
        {
          "output_type": "stream",
          "name": "stdout",
          "text": [
            "\n",
            "All scores [0.7272727272727273, 0.5454545454545454, 0.45454545454545453, 0.6363636363636364, 0.8181818181818182, 0.6363636363636364, 0.7272727272727273, 0.9090909090909091, 0.45454545454545453, 0.2727272727272727]\n",
            "Minumun Accuracy: 27.27272727272727\n",
            "Maimum Accuracy: 90.9090909090909\n",
            "Average accuracy is  61.818181818181806\n",
            "\n",
            "Next trial starts--------------\n",
            "\n"
          ]
        },
        {
          "output_type": "stream",
          "name": "stderr",
          "text": [
            "[I 2023-08-12 21:18:47,943] Trial 13 finished with value: 0.5636363636363637 and parameters: {'criterion': 'gini', 'n_estimators': 344, 'max_depth': 6, 'max_features': 0.47870972765845893}. Best is trial 12 with value: 0.618181818181818.\n"
          ]
        },
        {
          "output_type": "stream",
          "name": "stdout",
          "text": [
            "\n",
            "All scores [0.7272727272727273, 0.6363636363636364, 0.45454545454545453, 0.36363636363636365, 0.7272727272727273, 0.5454545454545454, 0.5454545454545454, 0.8181818181818182, 0.2727272727272727, 0.5454545454545454]\n",
            "Minumun Accuracy: 27.27272727272727\n",
            "Maimum Accuracy: 81.81818181818183\n",
            "Average accuracy is  56.363636363636374\n",
            "\n",
            "Next trial starts--------------\n",
            "\n"
          ]
        },
        {
          "output_type": "stream",
          "name": "stderr",
          "text": [
            "[I 2023-08-12 21:18:53,697] Trial 14 finished with value: 0.5272727272727271 and parameters: {'criterion': 'gini', 'n_estimators': 375, 'max_depth': 7, 'max_features': 0.9613752032381475}. Best is trial 12 with value: 0.618181818181818.\n"
          ]
        },
        {
          "output_type": "stream",
          "name": "stdout",
          "text": [
            "\n",
            "All scores [0.7272727272727273, 0.5454545454545454, 0.45454545454545453, 0.36363636363636365, 0.7272727272727273, 0.45454545454545453, 0.5454545454545454, 0.7272727272727273, 0.2727272727272727, 0.45454545454545453]\n",
            "Minumun Accuracy: 27.27272727272727\n",
            "Maimum Accuracy: 72.72727272727273\n",
            "Average accuracy is  52.72727272727271\n",
            "\n",
            "Next trial starts--------------\n",
            "\n"
          ]
        },
        {
          "output_type": "stream",
          "name": "stderr",
          "text": [
            "[I 2023-08-12 21:19:01,145] Trial 15 finished with value: 0.6272727272727272 and parameters: {'criterion': 'gini', 'n_estimators': 390, 'max_depth': 3, 'max_features': 0.3533897563892659}. Best is trial 15 with value: 0.6272727272727272.\n"
          ]
        },
        {
          "output_type": "stream",
          "name": "stdout",
          "text": [
            "\n",
            "All scores [0.7272727272727273, 0.45454545454545453, 0.45454545454545453, 0.5454545454545454, 0.8181818181818182, 0.6363636363636364, 0.8181818181818182, 0.9090909090909091, 0.45454545454545453, 0.45454545454545453]\n",
            "Minumun Accuracy: 45.45454545454545\n",
            "Maimum Accuracy: 90.9090909090909\n",
            "Average accuracy is  62.72727272727272\n",
            "\n",
            "Next trial starts--------------\n",
            "\n"
          ]
        },
        {
          "output_type": "stream",
          "name": "stderr",
          "text": [
            "[I 2023-08-12 21:19:09,246] Trial 16 finished with value: 0.5999999999999999 and parameters: {'criterion': 'gini', 'n_estimators': 388, 'max_depth': 3, 'max_features': 0.39403827122316404}. Best is trial 15 with value: 0.6272727272727272.\n"
          ]
        },
        {
          "output_type": "stream",
          "name": "stdout",
          "text": [
            "\n",
            "All scores [0.7272727272727273, 0.5454545454545454, 0.45454545454545453, 0.5454545454545454, 0.7272727272727273, 0.5454545454545454, 0.6363636363636364, 0.9090909090909091, 0.45454545454545453, 0.45454545454545453]\n",
            "Minumun Accuracy: 45.45454545454545\n",
            "Maimum Accuracy: 90.9090909090909\n",
            "Average accuracy is  59.999999999999986\n",
            "\n",
            "Next trial starts--------------\n",
            "\n"
          ]
        },
        {
          "output_type": "stream",
          "name": "stderr",
          "text": [
            "[I 2023-08-12 21:19:13,435] Trial 17 finished with value: 0.5545454545454545 and parameters: {'criterion': 'gini', 'n_estimators': 281, 'max_depth': 7, 'max_features': 0.14440070976867936}. Best is trial 15 with value: 0.6272727272727272.\n"
          ]
        },
        {
          "output_type": "stream",
          "name": "stdout",
          "text": [
            "\n",
            "All scores [0.7272727272727273, 0.5454545454545454, 0.5454545454545454, 0.36363636363636365, 0.8181818181818182, 0.6363636363636364, 0.45454545454545453, 0.7272727272727273, 0.2727272727272727, 0.45454545454545453]\n",
            "Minumun Accuracy: 27.27272727272727\n",
            "Maimum Accuracy: 81.81818181818183\n",
            "Average accuracy is  55.454545454545446\n",
            "\n",
            "Next trial starts--------------\n",
            "\n"
          ]
        }
      ],
      "source": [
        "#using optuna\n",
        "\n",
        "optimization_function = partial(\n",
        "    optimize_2,\n",
        "    x=X,\n",
        "    y=y\n",
        ")\n",
        "\n",
        "study = optuna.create_study(direction= \"maximize\")\n",
        "study.optimize(optimization_function, n_trials = 50 )\n",
        "optimal_param = study.best_params\n",
        "print(\"best score is\",study.best_value)\n",
        "print(\"best paramater for rf is\",optimal_param)\n"
      ],
      "id": "75fd8e46"
    },
    {
      "cell_type": "code",
      "source": [],
      "metadata": {
        "id": "2oVsWdTPEhVL"
      },
      "id": "2oVsWdTPEhVL",
      "execution_count": 186,
      "outputs": []
    },
    {
      "cell_type": "code",
      "source": [],
      "metadata": {
        "id": "k3EhZemHIhdh"
      },
      "id": "k3EhZemHIhdh",
      "execution_count": 49,
      "outputs": []
    }
  ],
  "metadata": {
    "colab": {
      "provenance": [],
      "include_colab_link": true
    },
    "kernelspec": {
      "display_name": "Python 3",
      "name": "python3"
    },
    "language_info": {
      "codemirror_mode": {
        "name": "ipython",
        "version": 3
      },
      "file_extension": ".py",
      "mimetype": "text/x-python",
      "name": "python",
      "nbconvert_exporter": "python",
      "pygments_lexer": "ipython3",
      "version": "3.9.13"
    },
    "accelerator": "TPU"
  },
  "nbformat": 4,
  "nbformat_minor": 5
}